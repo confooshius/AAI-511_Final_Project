{
  "nbformat": 4,
  "nbformat_minor": 0,
  "metadata": {
    "colab": {
      "provenance": [],
      "machine_shape": "hm",
      "gpuType": "T4"
    },
    "kernelspec": {
      "name": "python3",
      "display_name": "Python 3"
    },
    "language_info": {
      "name": "python"
    },
    "accelerator": "GPU"
  },
  "cells": [
    {
      "cell_type": "markdown",
      "source": [
        "# AAI 511 Final Project - Victor Hsu, Keith Holder - Composer Prediction Model\n",
        "\n",
        "The code below shows our process for building a Composer prediction model"
      ],
      "metadata": {
        "id": "omETXDKDiEJb"
      }
    },
    {
      "cell_type": "markdown",
      "source": [
        "# Data collection\n",
        "\n",
        "Unzip initial composers from kaggle website"
      ],
      "metadata": {
        "id": "xZ9mMG6Gh6EG"
      }
    },
    {
      "cell_type": "code",
      "execution_count": 1,
      "metadata": {
        "colab": {
          "base_uri": "https://localhost:8080/"
        },
        "id": "0f0HQ6PzgNq3",
        "outputId": "1dfa810b-f318-47c8-dde3-45d62366066f"
      },
      "outputs": [
        {
          "output_type": "stream",
          "name": "stdout",
          "text": [
            "Drive already mounted at /content/drive; to attempt to forcibly remount, call drive.mount(\"/content/drive\", force_remount=True).\n"
          ]
        }
      ],
      "source": [
        "import os\n",
        "import numpy as np\n",
        "from PIL import Image\n",
        "from sklearn.model_selection import train_test_split\n",
        "from google.colab import drive\n",
        "\n",
        "# Mount Google Drive\n",
        "drive.mount('/content/drive')\n",
        "\n",
        "# Extract Music Files\n",
        "zip_path = '/content/drive/My Drive/AAI511_ML/midi_classic_music.zip'\n",
        "extract_path = '/content/midi_classic_music/'\n",
        "\n",
        "# Unzip the file.\n",
        "!unzip -q -n \"{zip_path}\" -d \"{extract_path}\""
      ]
    },
    {
      "cell_type": "markdown",
      "source": [
        "# Keep only the composers mentioned in the final project\n",
        "\n",
        "select the required composers from the given dataset.\n",
        "\n",
        "1-Bach\n",
        "\n",
        "2-Beethoven\n",
        "\n",
        "3-Chopin\n",
        "\n",
        "4-Mozart"
      ],
      "metadata": {
        "id": "RpxqzQPsjnPP"
      }
    },
    {
      "cell_type": "code",
      "source": [
        "import shutil\n",
        "\n",
        "composers = ['Bach', 'Beethoven', 'Chopin', 'Mozart']\n",
        "\n",
        "for item in os.listdir(extract_path):\n",
        "    item_path = os.path.join(extract_path, item)\n",
        "    if os.path.isfile(item_path) and (item.endswith('.mid') or item.endswith('.MID')):\n",
        "        os.remove(item_path)\n",
        "        print(f\"Remove file at root: {item}\")\n",
        "\n",
        "midi_classic_path = extract_path + 'midiclassics'\n",
        "\n",
        "for item in os.listdir(midi_classic_path):\n",
        "    item_path = os.path.join(midi_classic_path, item)\n",
        "    if os.path.isfile(item_path) and (item.endswith('.mid') or item.endswith('.MID')):\n",
        "        os.remove(item_path)\n",
        "        print(f\"Remove file at midi_classic_path: {item}\")\n",
        "\n",
        "# remove rest of non-composer files.\n",
        "for root, dirs, files in os.walk(extract_path, topdown=False):\n",
        "    for dir_name in dirs:\n",
        "        if dir_name in composers:\n",
        "            continue  # Keep this directory\n",
        "\n",
        "        full_path = os.path.join(root, dir_name)\n",
        "        contains_desired = False\n",
        "\n",
        "        for subroot, subdirs, subfiles in os.walk(full_path):\n",
        "            if any(composer in subdirs for composer in composers):\n",
        "                contains_desired = True\n",
        "                break\n",
        "\n",
        "        if not contains_desired:\n",
        "            shutil.rmtree(full_path)\n",
        "            print(f\"Removed: {full_path}\")"
      ],
      "metadata": {
        "colab": {
          "base_uri": "https://localhost:8080/"
        },
        "id": "N3Y_89KvjkZD",
        "outputId": "27849f29-8d84-4bd6-c245-743f43855b15"
      },
      "execution_count": 23,
      "outputs": [
        {
          "output_type": "stream",
          "name": "stdout",
          "text": [
            "Remove file at root: Tchaikovsky Lake Of The Swans Act 2 14mov.mid\n",
            "Remove file at root: Tchaicovsky Waltz of the Flowers.MID\n",
            "Remove file at root: Sibelius Kuolema Vals op44.mid\n",
            "Remove file at root: Tchaikovsky Lake Of The Swans Act 1 2mov.mid\n",
            "Remove file at root: Tchaikovsky Lake Of The Swans Act 1 7-8movs.mid\n",
            "Remove file at root: Rothchlid Symphony Rmw12 3mov.mid\n",
            "Remove file at root: Tchaikovsky Lake Of The Swans Act 2 12mov.mid\n",
            "Remove file at root: Tchaikovsky Lake Of The Swans Act 2 10mov.mid\n",
            "Remove file at root: Tchaikovsky Lake Of The Swans Act 1 5mov.mid\n",
            "Remove file at root: Tchaikovsky Lake Of The Swans Act 2 13mov.mid\n",
            "Remove file at root: Tchaikovsky Lake Of The Swans Act 1 6mov.mid\n",
            "Remove file at root: Tchaikovsky Lake Of The Swans Act 2 11mov.mid\n",
            "Remove file at root: Tchaikovsky Lake Of The Swans Act 1 1mov.mid\n",
            "Remove file at root: Tchaikovsky Lake Of The Swans Act 1 3mov.mid\n",
            "Remove file at root: Wagner Ride of the valkyries.mid\n",
            "Remove file at root: Rothchild Symphony Rmw12 2mov.mid\n",
            "Remove file at root: Tchaikovsky Lake Of The Swans Act 1 9mov.mid\n",
            "Remove file at root: Tchaikovsky Lake Of The Swans Act 1 4mov.mid\n",
            "Remove file at midi_classic_path: Buxethude Buxwv157 Tocatta and Fugue.mid\n",
            "Remove file at midi_classic_path: Kuhlau Sonatina op55 n1.mid\n",
            "Remove file at midi_classic_path: Tchaikovsky Lake Of The Swans Act 2 14mov.mid\n",
            "Remove file at midi_classic_path: Bizet Symphony in C 3mov.mid\n",
            "Remove file at midi_classic_path: Buxethude Buxwv160 Ciacona.mid\n",
            "Remove file at midi_classic_path: Gershuin Rhapsody In Blue Piano Duet.mid\n",
            "Remove file at midi_classic_path: Bizet Carmen Prelude.mid\n",
            "Remove file at midi_classic_path: Grieg Piano Concerto 2mov.mid\n",
            "Remove file at midi_classic_path: Reinecke Piano Concerto n3 1mov.mid\n",
            "Remove file at midi_classic_path: Reger Burlesque op58 n5.mid\n",
            "Remove file at midi_classic_path: Dvorak Symphony op70 n7 2mov.mid\n",
            "Remove file at midi_classic_path: Tchaicovsky Waltz of the Flowers.MID\n",
            "Remove file at midi_classic_path: Rothchild Piano Sonata Rmw13 1mov.mid\n",
            "Remove file at midi_classic_path: Pollen Beguine Royale.mid\n",
            "Remove file at midi_classic_path: Diabelli Sonatina op151 n2 1mov.mid\n",
            "Remove file at midi_classic_path: Buxethude Buxwv155 Toccata.mid\n",
            "Remove file at midi_classic_path: Rothchild Piano Sonata Rmw13 3mov.mid\n",
            "Remove file at midi_classic_path: Sibelius Kuolema Vals op44.mid\n",
            "Remove file at midi_classic_path: Liszt Paganini Etude n1.mid\n",
            "Remove file at midi_classic_path: Rothchild Oboe Concerto Rmw09 3mov.mid\n",
            "Remove file at midi_classic_path: Debussy Suite Bergamasque 1mov.mid\n",
            "Remove file at midi_classic_path: Diabelli Sonatina op151 n3 3mov.mid\n",
            "Remove file at midi_classic_path: Pachebel Toccata n2.mid\n",
            "Remove file at midi_classic_path: Buxethude Buxwv157 Toccata.mid\n",
            "Remove file at midi_classic_path: Liszt Paganini Etude n5.mid\n",
            "Remove file at midi_classic_path: Grieg Piano Concerto op16 1mov.mid\n",
            "Remove file at midi_classic_path: Rimsky Korsakov ''Flight Of the Bumblebee''.mid\n",
            "Remove file at midi_classic_path: Reger Burlesque op58 n6.mid\n",
            "Remove file at midi_classic_path: Diabelli Sonatina op151 n3 1mov.mid\n",
            "Remove file at midi_classic_path: Tchaikovsky Lake Of The Swans Act 1 2mov.mid\n",
            "Remove file at midi_classic_path: Tchaikovsky Lake Of The Swans Act 1 7-8movs.mid\n",
            "Remove file at midi_classic_path: Rothchlid Symphony Rmw12 3mov.mid\n",
            "Remove file at midi_classic_path: Dvorak Trio op26.mid\n",
            "Remove file at midi_classic_path: Liszt Ab irato ''The Perfect Etude'' S143 R4b.mid\n",
            "Remove file at midi_classic_path: Lizt Piano Concerto n1 S124.mid\n",
            "Remove file at midi_classic_path: Rothchild Oboe Concerto Rmw09 2mov.mid\n",
            "Remove file at midi_classic_path: Diabelli Sonatina op151 n2 3mov.mid\n",
            "Remove file at midi_classic_path: Diabelli Sonatina op151 n4 1mov.mid\n",
            "Remove file at midi_classic_path: Liszt Paganini Etude n3.mid\n",
            "Remove file at midi_classic_path: Debussy Suite Bergamasque 2mov.mid\n",
            "Remove file at midi_classic_path: Diabelli Sonatina op151 n2 2mov.mid\n",
            "Remove file at midi_classic_path: Liszt Paganini Etude n2.mid\n",
            "Remove file at midi_classic_path: Bizet Symphony in C 2mov.mid\n",
            "Remove file at midi_classic_path: Buxethude Buxwv145 Prelude.mid\n",
            "Remove file at midi_classic_path: Bartok Suite 2mov.mid\n",
            "Remove file at midi_classic_path: Tchaikovsky Lake Of The Swans Act 2 12mov.mid\n",
            "Remove file at midi_classic_path: Liszt Hungarian Rhapsody n2.MID\n",
            "Remove file at midi_classic_path: Tchaikovsky Lake Of The Swans Act 2 10mov.mid\n",
            "Remove file at midi_classic_path: Rothchild Horn Concerto Rmw16 2mov.mid\n",
            "Remove file at midi_classic_path: Bartok Suite 1mov.mid\n",
            "Remove file at midi_classic_path: Buxethude Buxwv158 Preambulum.mid\n",
            "Remove file at midi_classic_path: Tchaikovsky Lake Of The Swans Act 1 5mov.mid\n",
            "Remove file at midi_classic_path: Tchaikovsky Lake Of The Swans Act 2 13mov.mid\n",
            "Remove file at midi_classic_path: Kuhlau Sonatina op60 n2.mid\n",
            "Remove file at midi_classic_path: Buxethude Buxwv161 Passcaglia.mid\n",
            "Remove file at midi_classic_path: Reinecke Piano Concerto n3 2mov.mid\n",
            "Remove file at midi_classic_path: Pachebel Toccata n3.mid\n",
            "Remove file at midi_classic_path: Dvorak Symphony op70 n7 3mov.mid\n",
            "Remove file at midi_classic_path: Bizet Symphony in C 1mov.mid\n",
            "Remove file at midi_classic_path: Buxethude Buxwv162 Prelude.mid\n",
            "Remove file at midi_classic_path: Buxethude Buxwv156 Toccata.mid\n",
            "Remove file at midi_classic_path: Nicolai Overture The Merry Wives of Windsor.mid\n",
            "Remove file at midi_classic_path: Tchaikovsky Lake Of The Swans Act 1 6mov.mid\n",
            "Remove file at midi_classic_path: Kuhlau Sonatina op60 n3.mid\n",
            "Remove file at midi_classic_path: C.P.E.Bach Solfeggieto.mid\n",
            "Remove file at midi_classic_path: Diabelli Sonatina op151 n1 3mov.mid\n",
            "Remove file at midi_classic_path: Reger Burlesque op58 n3.mid\n",
            "Remove file at midi_classic_path: Liszt Bach Prelude Transcription.mid\n",
            "Remove file at midi_classic_path: Pachebel Toccata n7.mid\n",
            "Remove file at midi_classic_path: Rothchild Horn Concerto Rmw16 1mov.mid\n",
            "Remove file at midi_classic_path: Bizet Symphony in C 4mov.mid\n",
            "Remove file at midi_classic_path: Diabelli Sonatina op151 n4 2mov.mid\n",
            "Remove file at midi_classic_path: Rothchild Symphony Rmw12 1mov.mid\n",
            "Remove file at midi_classic_path: Tchaikovsky Lake Of The Swans Act 2 11mov.mid\n",
            "Remove file at midi_classic_path: Rothchild Oboe Concerto Rmw09 1mov.mid\n",
            "Remove file at midi_classic_path: Diabelli Sonatina op151 n1 2mov.mid\n",
            "Remove file at midi_classic_path: Debussy Suite Bergamasque 3mov.mid\n",
            "Remove file at midi_classic_path: Tchaikovsky Lake Of The Swans Act 1 1mov.mid\n",
            "Remove file at midi_classic_path: Kuhlau Sonatina op20 n1.mid\n",
            "Remove file at midi_classic_path: Kuhlau Sonatina op55 n3 1mov.mid\n",
            "Remove file at midi_classic_path: Tchaikovsky Lake Of The Swans Act 1 3mov.mid\n",
            "Remove file at midi_classic_path: Buxethude Buxwv153 Prelude.mid\n",
            "Remove file at midi_classic_path: Wagner Ride of the valkyries.mid\n",
            "Remove file at midi_classic_path: Reinecke Piano Concerto n3 3mov.mid\n",
            "Remove file at midi_classic_path: Pachebel Toccata n1.mid\n",
            "Remove file at midi_classic_path: meditation thais.mid\n",
            "Remove file at midi_classic_path: Ginastera Estancia.mid\n",
            "Remove file at midi_classic_path: Rothchild Symphony Rmw12 2mov.mid\n",
            "Remove file at midi_classic_path: Dvorak Slavonic dance n8.mid\n",
            "Remove file at midi_classic_path: Diabelli Sonatina op151 n1 1mov.mid\n",
            "Remove file at midi_classic_path: Rothchild Piano Sonata Rmw13 2mov.mid\n",
            "Remove file at midi_classic_path: Tchaikovsky Lake Of The Swans Act 1 9mov.mid\n",
            "Remove file at midi_classic_path: Dvorak Symphony op70 n7 4mov.mid\n",
            "Remove file at midi_classic_path: Buxethude Buxwv167 Canzonetta.mid\n",
            "Remove file at midi_classic_path: Dvorak Symphony op70 n7 1mov.mid\n",
            "Remove file at midi_classic_path: Rothchild Horn Concerto Rmw16 3mov.mid\n",
            "Remove file at midi_classic_path: Buxethude Buxwv138 Prelude.mid\n",
            "Remove file at midi_classic_path: Diabelli Sonatina op151 n3 2mov.mid\n",
            "Remove file at midi_classic_path: Pachebel Toccata n4.mid\n",
            "Remove file at midi_classic_path: Buxethude Buxwv136 Prelude.mid\n",
            "Remove file at midi_classic_path: Tchaikovsky Lake Of The Swans Act 1 4mov.mid\n",
            "Remove file at midi_classic_path: Debussy Suite Bergamasque 4mov.mid\n",
            "Removed: /content/midi_classic_music/midiclassics/Mozart/Piano Sonatas/Nueva carpeta\n",
            "Removed: /content/midi_classic_music/midiclassics/Mozart/Piano Concertos\n",
            "Removed: /content/midi_classic_music/midiclassics/Mozart/Piano Sonatas\n",
            "Removed: /content/midi_classic_music/midiclassics/Mozart/Symphonies\n",
            "Removed: /content/midi_classic_music/midiclassics/Mozart/The Chelsea Notebook\n",
            "Removed: /content/midi_classic_music/midiclassics/Haendel/Concertos Grossos Hwv319-330 op06\n",
            "Removed: /content/midi_classic_music/midiclassics/Haendel/Messiah Oratorio Hwv056\n",
            "Removed: /content/midi_classic_music/midiclassics/Schubert/Piano Sonatas\n",
            "Removed: /content/midi_classic_music/midiclassics/Haydn/Nueva carpeta\n",
            "Removed: /content/midi_classic_music/midiclassics/Scarlatti/v5\n",
            "Removed: /content/midi_classic_music/midiclassics/Scarlatti/sonatas\n",
            "Removed: /content/midi_classic_music/midiclassics/Vivaldi/Concertos op3 01-12 ''L'estro Armonico''\n",
            "Removed: /content/midi_classic_music/midiclassics/Vivaldi/Concertos op4 01-04  ''La Stravaganza''\n",
            "Removed: /content/midi_classic_music/midiclassics/Bach/Bwv001- 400 Chorales/Bwv768 Chorale and Variations\n",
            "Removed: /content/midi_classic_music/midiclassics/Bach/Bwv1066-1069 Orchestral Suites/Nueva carpeta\n",
            "Removed: /content/midi_classic_music/midiclassics/Bach/Bwv772-786 Two Part Inventions/Bwv772-786 Two Part Inventions\n",
            "Removed: /content/midi_classic_music/midiclassics/Bach/Bwv787-801 Three Part Inventions (Sinfonias)\n",
            "Removed: /content/midi_classic_music/midiclassics/Bach/Harpsichord Concertos\n",
            "Removed: /content/midi_classic_music/midiclassics/Bach/Bwv ''Little Notebook for Anna Magdalena Bach''\n",
            "Removed: /content/midi_classic_music/midiclassics/Bach/Bwv1080 The Art Of Fugue\n",
            "Removed: /content/midi_classic_music/midiclassics/Bach/Bwv244 St. Matthew Passion\n",
            "Removed: /content/midi_classic_music/midiclassics/Bach/Bwv846-869 The Well Tempered Clavier Book 1\n",
            "Removed: /content/midi_classic_music/midiclassics/Bach/Concertos\n",
            "Removed: /content/midi_classic_music/midiclassics/Bach/Bwv1079 The Musical Offering\n",
            "Removed: /content/midi_classic_music/midiclassics/Bach/Bwv232 Mass\n",
            "Removed: /content/midi_classic_music/midiclassics/Bach/Bwv988 The Goldberg Variations\n",
            "Removed: /content/midi_classic_music/midiclassics/Bach/Bwv870-893 The Well Tempered Clavier Book 2\n",
            "Removed: /content/midi_classic_music/midiclassics/Bach/Bwv001- 400 Chorales\n",
            "Removed: /content/midi_classic_music/midiclassics/Bach/Bwv1066-1069 Orchestral Suites\n",
            "Removed: /content/midi_classic_music/midiclassics/Bach/Bwv772-786 Two Part Inventions\n",
            "Removed: /content/midi_classic_music/midiclassics/Varios - Ti'tulo desconocido/a_h\n",
            "Removed: /content/midi_classic_music/midiclassics/Varios - Ti'tulo desconocido/i_o\n",
            "Removed: /content/midi_classic_music/midiclassics/Varios - Ti'tulo desconocido/p_z\n",
            "Removed: /content/midi_classic_music/midiclassics/Varios - Ti'tulo desconocido/varios\n",
            "Removed: /content/midi_classic_music/midiclassics/Beethoven/Piano Sonatas\n",
            "Removed: /content/midi_classic_music/midiclassics/Beethoven/Symphonies\n",
            "Removed: /content/midi_classic_music/midiclassics/Maier\n",
            "Removed: /content/midi_classic_music/midiclassics/Friedman\n",
            "Removed: /content/midi_classic_music/midiclassics/Arndt\n",
            "Removed: /content/midi_classic_music/midiclassics/Swinstead\n",
            "Removed: /content/midi_classic_music/midiclassics/Straus\n",
            "Removed: /content/midi_classic_music/midiclassics/Bernstein\n",
            "Removed: /content/midi_classic_music/midiclassics/Coates\n",
            "Removed: /content/midi_classic_music/midiclassics/Mendelssohn\n",
            "Removed: /content/midi_classic_music/midiclassics/Hummel\n",
            "Removed: /content/midi_classic_music/midiclassics/Paderewski\n",
            "Removed: /content/midi_classic_music/midiclassics/Ravel\n",
            "Removed: /content/midi_classic_music/midiclassics/Mendelsonn\n",
            "Removed: /content/midi_classic_music/midiclassics/Rimsky-Korsakov\n",
            "Removed: /content/midi_classic_music/midiclassics/Bartok\n",
            "Removed: /content/midi_classic_music/midiclassics/Mehul\n",
            "Removed: /content/midi_classic_music/midiclassics/MacBeth\n",
            "Removed: /content/midi_classic_music/midiclassics/Busoni\n",
            "Removed: /content/midi_classic_music/midiclassics/Ganne\n",
            "Removed: /content/midi_classic_music/midiclassics/Becker\n",
            "Removed: /content/midi_classic_music/midiclassics/Sullivan\n",
            "Removed: /content/midi_classic_music/midiclassics/Liszt\n",
            "Removed: /content/midi_classic_music/midiclassics/Skriabin\n",
            "Removed: /content/midi_classic_music/midiclassics/Hemery\n",
            "Removed: /content/midi_classic_music/midiclassics/Holst, M\n",
            "Removed: /content/midi_classic_music/midiclassics/Franck\n",
            "Removed: /content/midi_classic_music/midiclassics/Alkan\n",
            "Removed: /content/midi_classic_music/midiclassics/Sibelius\n",
            "Removed: /content/midi_classic_music/midiclassics/Rachmaninov\n",
            "Removed: /content/midi_classic_music/midiclassics/Verdi\n",
            "Removed: /content/midi_classic_music/midiclassics/Albe'niz\n",
            "Removed: /content/midi_classic_music/midiclassics/Lange\n",
            "Removed: /content/midi_classic_music/midiclassics/Haendel\n",
            "Removed: /content/midi_classic_music/midiclassics/Barber\n",
            "Removed: /content/midi_classic_music/midiclassics/Jensen\n",
            "Removed: /content/midi_classic_music/midiclassics/Lavallee\n",
            "Removed: /content/midi_classic_music/midiclassics/Buxehude\n",
            "Removed: /content/midi_classic_music/midiclassics/Meyerbeer\n",
            "Removed: /content/midi_classic_music/midiclassics/Clarke\n",
            "Removed: /content/midi_classic_music/midiclassics/Gottschalk\n",
            "Removed: /content/midi_classic_music/midiclassics/Couperin\n",
            "Removed: /content/midi_classic_music/midiclassics/Joplin\n",
            "Removed: /content/midi_classic_music/midiclassics/Stravinski\n",
            "Removed: /content/midi_classic_music/midiclassics/Chasins\n",
            "Removed: /content/midi_classic_music/midiclassics/Finck\n",
            "Removed: /content/midi_classic_music/midiclassics/Vaughan\n",
            "Removed: /content/midi_classic_music/midiclassics/Ginastera\n",
            "Removed: /content/midi_classic_music/midiclassics/Heller\n",
            "Removed: /content/midi_classic_music/midiclassics/Berlin\n",
            "Removed: /content/midi_classic_music/midiclassics/Grainger\n",
            "Removed: /content/midi_classic_music/midiclassics/Debussy\n",
            "Removed: /content/midi_classic_music/midiclassics/Taube\n",
            "Removed: /content/midi_classic_music/midiclassics/Schoenberg\n",
            "Removed: /content/midi_classic_music/midiclassics/Lyssenko\n",
            "Removed: /content/midi_classic_music/midiclassics/Resch\n",
            "Removed: /content/midi_classic_music/midiclassics/Czibulka\n",
            "Removed: /content/midi_classic_music/midiclassics/Fucick\n",
            "Removed: /content/midi_classic_music/midiclassics/Sarasate\n",
            "Removed: /content/midi_classic_music/midiclassics/Clementi\n",
            "Removed: /content/midi_classic_music/midiclassics/Schubert\n",
            "Removed: /content/midi_classic_music/midiclassics/Kuhlau\n",
            "Removed: /content/midi_classic_music/midiclassics/Morel\n",
            "Removed: /content/midi_classic_music/midiclassics/Cons\n",
            "Removed: /content/midi_classic_music/midiclassics/Handel\n",
            "Removed: /content/midi_classic_music/midiclassics/Suppe\n",
            "Removed: /content/midi_classic_music/midiclassics/Strauss, J\n",
            "Removed: /content/midi_classic_music/midiclassics/Rossini\n",
            "Removed: /content/midi_classic_music/midiclassics/Frescobaldi\n",
            "Removed: /content/midi_classic_music/midiclassics/Faure\n",
            "Removed: /content/midi_classic_music/midiclassics/Satie\n",
            "Removed: /content/midi_classic_music/midiclassics/Laurent\n",
            "Removed: /content/midi_classic_music/midiclassics/Peterson-Berger\n",
            "Removed: /content/midi_classic_music/midiclassics/Field\n",
            "Removed: /content/midi_classic_music/midiclassics/Arensky\n",
            "Removed: /content/midi_classic_music/midiclassics/Durand, E\n",
            "Removed: /content/midi_classic_music/midiclassics/Hiller\n",
            "Removed: /content/midi_classic_music/midiclassics/Sudds\n",
            "Removed: /content/midi_classic_music/midiclassics/German\n",
            "Removed: /content/midi_classic_music/midiclassics/Tchakoff\n",
            "Removed: /content/midi_classic_music/midiclassics/Holst\n",
            "Removed: /content/midi_classic_music/midiclassics/Haydn\n",
            "Removed: /content/midi_classic_music/midiclassics/Scarlatti\n",
            "Removed: /content/midi_classic_music/midiclassics/Vivaldi\n",
            "Removed: /content/midi_classic_music/midiclassics/Mussorgski\n",
            "Removed: /content/midi_classic_music/midiclassics/Gershwin\n",
            "Removed: /content/midi_classic_music/midiclassics/Lecuona\n",
            "Removed: /content/midi_classic_music/midiclassics/Brahms\n",
            "Removed: /content/midi_classic_music/midiclassics/Ambroise\n",
            "Removed: /content/midi_classic_music/midiclassics/Paganini\n",
            "Removed: /content/midi_classic_music/midiclassics/Bellini\n",
            "Removed: /content/midi_classic_music/midiclassics/Le Thiere\n",
            "Removed: /content/midi_classic_music/midiclassics/Komzak\n",
            "Removed: /content/midi_classic_music/midiclassics/Copland\n",
            "Removed: /content/midi_classic_music/midiclassics/Chabrier\n",
            "Removed: /content/midi_classic_music/midiclassics/Schumann\n",
            "Removed: /content/midi_classic_music/midiclassics/Tarrega\n",
            "Removed: /content/midi_classic_music/midiclassics/Prokofiev\n",
            "Removed: /content/midi_classic_music/midiclassics/Borodin\n",
            "Removed: /content/midi_classic_music/midiclassics/Poulenc\n",
            "Removed: /content/midi_classic_music/midiclassics/Dvorak\n",
            "Removed: /content/midi_classic_music/midiclassics/Wolf\n",
            "Removed: /content/midi_classic_music/midiclassics/Grieg\n",
            "Removed: /content/midi_classic_music/midiclassics/Raff\n",
            "Removed: /content/midi_classic_music/midiclassics/Sinding\n",
            "Removed: /content/midi_classic_music/midiclassics/Griffes\n",
            "Removed: /content/midi_classic_music/midiclassics/Lemire\n",
            "Removed: /content/midi_classic_music/midiclassics/Durand, MA\n",
            "Removed: /content/midi_classic_music/midiclassics/Heidrich\n",
            "Removed: /content/midi_classic_music/midiclassics/Bacewitz\n",
            "Removed: /content/midi_classic_music/midiclassics/Czerny\n",
            "Removed: /content/midi_classic_music/midiclassics/Busser\n",
            "Removed: /content/midi_classic_music/midiclassics/Shostakovich\n",
            "Removed: /content/midi_classic_music/midiclassics/Pachelbel\n",
            "Removed: /content/midi_classic_music/midiclassics/Paradisi\n",
            "Removed: /content/midi_classic_music/midiclassics/Moszkowski\n",
            "Removed: /content/midi_classic_music/midiclassics/Flotow\n",
            "Removed: /content/midi_classic_music/midiclassics/Varios - Ti'tulo desconocido\n",
            "Removed: /content/midi_classic_music/midiclassics/Pridhan\n",
            "Removed: /content/midi_classic_music/midiclassics/Jakobowski\n",
            "Removed: /content/midi_classic_music/midiclassics/Herold\n",
            "Removed: /content/midi_classic_music/midiclassics/Dussek\n",
            "Removed: /content/midi_classic_music/midiclassics/Coleridge-Taylor\n",
            "Removed: /content/midi_classic_music/midiclassics/Thomas\n",
            "Removed: /content/midi_classic_music/midiclassics/MacCunn\n",
            "Removed: /content/midi_classic_music/midiclassics/Wagner\n",
            "Removed: /content/midi_classic_music/midiclassics/Cramer\n",
            "Removed: /content/midi_classic_music/midiclassics/Tchaikovsky\n",
            "Removed: /content/midi_classic_music/midiclassics/Bartelet\n",
            "Removed: /content/midi_classic_music/midiclassics/Ivanovici\n",
            "Removed: /content/midi_classic_music/midiclassics/Saint-Saens\n",
            "Removed: /content/midi_classic_music/midiclassics/Burgmuller\n",
            "Removed: /content/midi_classic_music/midiclassics/Botsford\n",
            "Removed: /content/midi_classic_music/midiclassics/Chaminade\n",
            "Removed: /content/midi_classic_music/Arndt\n",
            "Removed: /content/midi_classic_music/Alkan\n",
            "Removed: /content/midi_classic_music/Arensky\n",
            "Removed: /content/midi_classic_music/Ambroise\n",
            "Removed: /content/midi_classic_music/Albe╠Бniz\n"
          ]
        }
      ]
    },
    {
      "cell_type": "markdown",
      "source": [
        "# Pre-processing - feature extraction\n",
        "\n",
        "Convert the musical scores into a format suitable for deep learning models. This involves converting the musical scores into MIDI files and applying data augmentation techniques. Feature extraction happens for notes, chords, etc. We parsed the MIDI files to extract musical notes/chords, and then built a vocabulary, converting into sequences that the model can process."
      ],
      "metadata": {
        "id": "ojV-HEdkA_3Y"
      }
    },
    {
      "cell_type": "code",
      "source": [
        "!pip install music21\n",
        "!pip install mido"
      ],
      "metadata": {
        "colab": {
          "base_uri": "https://localhost:8080/"
        },
        "id": "ZGApEREeBAC8",
        "outputId": "ad37efd9-98a2-49cf-8544-e9d237545a1f"
      },
      "execution_count": 21,
      "outputs": [
        {
          "output_type": "stream",
          "name": "stdout",
          "text": [
            "Requirement already satisfied: music21 in /usr/local/lib/python3.11/dist-packages (9.3.0)\n",
            "Requirement already satisfied: chardet in /usr/local/lib/python3.11/dist-packages (from music21) (5.2.0)\n",
            "Requirement already satisfied: joblib in /usr/local/lib/python3.11/dist-packages (from music21) (1.5.1)\n",
            "Requirement already satisfied: jsonpickle in /usr/local/lib/python3.11/dist-packages (from music21) (4.1.1)\n",
            "Requirement already satisfied: matplotlib in /usr/local/lib/python3.11/dist-packages (from music21) (3.10.0)\n",
            "Requirement already satisfied: more-itertools in /usr/local/lib/python3.11/dist-packages (from music21) (10.7.0)\n",
            "Requirement already satisfied: numpy in /usr/local/lib/python3.11/dist-packages (from music21) (2.3.2)\n",
            "Requirement already satisfied: requests in /usr/local/lib/python3.11/dist-packages (from music21) (2.32.3)\n",
            "Requirement already satisfied: webcolors>=1.5 in /usr/local/lib/python3.11/dist-packages (from music21) (24.11.1)\n",
            "Requirement already satisfied: contourpy>=1.0.1 in /usr/local/lib/python3.11/dist-packages (from matplotlib->music21) (1.3.2)\n",
            "Requirement already satisfied: cycler>=0.10 in /usr/local/lib/python3.11/dist-packages (from matplotlib->music21) (0.12.1)\n",
            "Requirement already satisfied: fonttools>=4.22.0 in /usr/local/lib/python3.11/dist-packages (from matplotlib->music21) (4.59.0)\n",
            "Requirement already satisfied: kiwisolver>=1.3.1 in /usr/local/lib/python3.11/dist-packages (from matplotlib->music21) (1.4.8)\n",
            "Requirement already satisfied: packaging>=20.0 in /usr/local/lib/python3.11/dist-packages (from matplotlib->music21) (25.0)\n",
            "Requirement already satisfied: pillow>=8 in /usr/local/lib/python3.11/dist-packages (from matplotlib->music21) (11.3.0)\n",
            "Requirement already satisfied: pyparsing>=2.3.1 in /usr/local/lib/python3.11/dist-packages (from matplotlib->music21) (3.2.3)\n",
            "Requirement already satisfied: python-dateutil>=2.7 in /usr/local/lib/python3.11/dist-packages (from matplotlib->music21) (2.9.0.post0)\n",
            "Requirement already satisfied: charset-normalizer<4,>=2 in /usr/local/lib/python3.11/dist-packages (from requests->music21) (3.4.2)\n",
            "Requirement already satisfied: idna<4,>=2.5 in /usr/local/lib/python3.11/dist-packages (from requests->music21) (3.10)\n",
            "Requirement already satisfied: urllib3<3,>=1.21.1 in /usr/local/lib/python3.11/dist-packages (from requests->music21) (2.5.0)\n",
            "Requirement already satisfied: certifi>=2017.4.17 in /usr/local/lib/python3.11/dist-packages (from requests->music21) (2025.7.14)\n",
            "Requirement already satisfied: six>=1.5 in /usr/local/lib/python3.11/dist-packages (from python-dateutil>=2.7->matplotlib->music21) (1.17.0)\n",
            "Collecting mido\n",
            "  Downloading mido-1.3.3-py3-none-any.whl.metadata (6.4 kB)\n",
            "Requirement already satisfied: packaging in /usr/local/lib/python3.11/dist-packages (from mido) (25.0)\n",
            "Downloading mido-1.3.3-py3-none-any.whl (54 kB)\n",
            "\u001b[2K   \u001b[90m━━━━━━━━━━━━━━━━━━━━━━━━━━━━━━━━━━━━━━━━\u001b[0m \u001b[32m54.6/54.6 kB\u001b[0m \u001b[31m4.9 MB/s\u001b[0m eta \u001b[36m0:00:00\u001b[0m\n",
            "\u001b[?25hInstalling collected packages: mido\n",
            "Successfully installed mido-1.3.3\n"
          ]
        }
      ]
    },
    {
      "cell_type": "code",
      "source": [
        "import numpy as np\n",
        "import os\n",
        "from collections import Counter\n",
        "from pathlib import Path\n",
        "import music21 # Still needed for pitch conversion\n",
        "import mido    # The fast MIDI parser\n",
        "from multiprocessing import Pool, cpu_count\n",
        "\n",
        "# --- Get Song Paths\n",
        "def get_songs_by_composer(root_dir):\n",
        "    # ... (same function as before)\n",
        "    songs_dict = {}\n",
        "    root_path = Path(root_dir)\n",
        "    for composer_path in root_path.iterdir():\n",
        "        if composer_path.is_dir():\n",
        "            composer_name = composer_path.name.lower()\n",
        "            songs_dict[composer_name] = list(composer_path.glob('**/*.mid*'))\n",
        "    return songs_dict\n",
        "\n",
        "# Feature extraction - notes from files\n",
        "def parse_notes_from_file_mido(file_path):\n",
        "    notes_to_parse = []\n",
        "    try:\n",
        "        midi_file = mido.MidiFile(file_path)\n",
        "        current_chord_notes = []\n",
        "        for msg in mido.merge_tracks(midi_file.tracks):\n",
        "            if msg.time > 0 and current_chord_notes:\n",
        "                current_chord_notes.sort()\n",
        "                notes_to_parse.append('.'.join(current_chord_notes))\n",
        "                current_chord_notes = []\n",
        "            if msg.type == 'note_on' and msg.velocity > 0:\n",
        "                pitch_name = music21.pitch.Pitch(midi=msg.note).nameWithOctave\n",
        "                current_chord_notes.append(pitch_name)\n",
        "        if current_chord_notes:\n",
        "            current_chord_notes.sort()\n",
        "            notes_to_parse.append('.'.join(current_chord_notes))\n",
        "    except Exception as e:\n",
        "        print(f\"  - Could not parse {file_path} with mido: {e}\")\n",
        "    return notes_to_parse\n",
        "\n",
        "if __name__ == '__main__':\n",
        "    MIDI_ROOT_DIR = '/content/midi_classic_music/midiclassics/'\n",
        "\n",
        "    print(f\"Step 1: Building vocabulary in parallel using {cpu_count()} cores...\")\n",
        "    songs_dict = get_songs_by_composer(MIDI_ROOT_DIR)\n",
        "\n",
        "    all_files = [file for files_list in songs_dict.values() for file in files_list]\n",
        "\n",
        "    # Use a multiprocessing Pool to parse files in parallel\n",
        "    with Pool() as pool:\n",
        "        all_note_lists = pool.map(parse_notes_from_file_mido, all_files)\n",
        "\n",
        "    # Flatten the list of lists into a single list of all notes\n",
        "    all_notes = [note for sublist in all_note_lists for note in sublist]\n",
        "\n",
        "    # feature extraction - vocabulary creation\n",
        "    note_counts = Counter(all_notes)\n",
        "    n_vocab = len(note_counts)\n",
        "    pitch_names = sorted(note_counts.keys())\n",
        "    note_to_int = {note: number for number, note in enumerate(pitch_names)}\n",
        "    print(f\"\\nVocabulary Size (unique notes/chords): {n_vocab}\")\n",
        "\n",
        "    # --- Create sequences and save ---\n",
        "    print(\"\\nStep 2: Creating sequences and labeling with composer IDs...\")\n",
        "    network_input = []\n",
        "    network_output = []\n",
        "    sequence_length = 100\n",
        "\n",
        "    file_to_notes_map = dict(zip(all_files, all_note_lists))\n",
        "    # feature extraction - Label Creation\n",
        "    composer_map = {name: i for i, name in enumerate(sorted(songs_dict.keys()))}\n",
        "\n",
        "    for composer_name, song_files in songs_dict.items():\n",
        "        composer_id = composer_map[composer_name]\n",
        "        for song_file in song_files:\n",
        "            notes_in_song = file_to_notes_map[song_file] # Get notes from cache\n",
        "            if len(notes_in_song) > sequence_length:\n",
        "                for i in range(len(notes_in_song) - sequence_length):\n",
        "                    # Feature extraction - This extracts fixed-length sequences (100 notes/chords) as input features, converting them to numerical representations.\n",
        "                    sequence_in = notes_in_song[i : i + sequence_length]\n",
        "                    network_input.append([note_to_int[note] for note in sequence_in])\n",
        "                    network_output.append(composer_id)\n",
        "\n",
        "    print(\"\\nStep 3: Reshaping and normalizing data...\")\n",
        "    n_patterns = len(network_input)\n",
        "    network_input = np.reshape(network_input, (n_patterns, sequence_length, 1))\n",
        "    network_input = network_input / float(n_vocab)\n",
        "    network_output = np.array(network_output)"
      ],
      "metadata": {
        "colab": {
          "base_uri": "https://localhost:8080/"
        },
        "id": "7Zq3XLpagew3",
        "outputId": "e19b1129-b2d1-434f-8d97-a6bdc3e7ff99"
      },
      "execution_count": 24,
      "outputs": [
        {
          "output_type": "stream",
          "name": "stdout",
          "text": [
            "Step 1: Building vocabulary in parallel using 8 cores...\n",
            "  - Could not parse /content/midi_classic_music/midiclassics/Beethoven/Anhang 14-3.mid with mido: Could not decode key with 3 flats and mode 255\n",
            "\n",
            "Vocabulary Size (unique notes/chords): 55053\n",
            "\n",
            "Step 2: Creating sequences and labeling with composer IDs...\n",
            "\n",
            "Step 3: Reshaping and normalizing data...\n"
          ]
        }
      ]
    },
    {
      "cell_type": "markdown",
      "source": [
        "# Saving pre-processed data\n",
        "\n",
        "Saving to speed up execution later on."
      ],
      "metadata": {
        "id": "waZ7iy9YiuSZ"
      }
    },
    {
      "cell_type": "code",
      "source": [
        "# saved preprocessed data for later to save time.\n",
        "\n",
        "drive.mount('/content/drive')\n",
        "os.makedirs('/content/drive/MyDrive/AAI511_ML', exist_ok=True)\n",
        "\n",
        "# we had to go through several iterations to get this right!\n",
        "save_path = '/content/drive/MyDrive/AAI511_ML/preprocessed_composer_data_v3.npz'\n",
        "\n",
        "print(f\"\\nSaving pre-processed data to {save_path}...\")\n",
        "\n",
        "np.savez_compressed(\n",
        "    save_path,\n",
        "    network_input=network_input,\n",
        "    network_output=network_output,\n",
        "    n_vocab=np.array([n_vocab]), # Save n_vocab as a numpy array\n",
        "    composer_map=composer_map,   # Save the composer mapping dictionary\n",
        "    note_to_int=note_to_int      # Save the note mapping dictionary\n",
        ")\n",
        "\n",
        "print(\"Data saved\")"
      ],
      "metadata": {
        "id": "0lbFRfu4OTzY",
        "colab": {
          "base_uri": "https://localhost:8080/"
        },
        "outputId": "1fd74b68-7714-4c90-fbdb-b36a3bcb496b"
      },
      "execution_count": null,
      "outputs": [
        {
          "output_type": "stream",
          "name": "stdout",
          "text": [
            "Drive already mounted at /content/drive; to attempt to forcibly remount, call drive.mount(\"/content/drive\", force_remount=True).\n",
            "\n",
            "Saving pre-processed data to /content/drive/MyDrive/AAI511_ML/preprocessed_composer_data_v3.npz...\n",
            "Data saved\n"
          ]
        }
      ]
    },
    {
      "cell_type": "markdown",
      "source": [
        "## Model Training\n",
        "\n",
        "data validation - make sure the data is what we expect from the preprocessing step\n",
        "split - split into train/test/validation\n"
      ],
      "metadata": {
        "id": "NEqaj3xIQwGM"
      }
    },
    {
      "cell_type": "code",
      "source": [
        "!pip install --upgrade numpy"
      ],
      "metadata": {
        "colab": {
          "base_uri": "https://localhost:8080/",
          "height": 467
        },
        "id": "VPCrI1kiQwN-",
        "outputId": "a632c478-545d-4118-c3c0-19125f4b70f2"
      },
      "execution_count": 3,
      "outputs": [
        {
          "output_type": "stream",
          "name": "stdout",
          "text": [
            "Requirement already satisfied: numpy in /usr/local/lib/python3.11/dist-packages (2.0.2)\n",
            "Collecting numpy\n",
            "  Downloading numpy-2.3.2-cp311-cp311-manylinux_2_27_x86_64.manylinux_2_28_x86_64.whl.metadata (62 kB)\n",
            "\u001b[2K     \u001b[90m━━━━━━━━━━━━━━━━━━━━━━━━━━━━━━━━━━━━━━━━\u001b[0m \u001b[32m62.1/62.1 kB\u001b[0m \u001b[31m5.2 MB/s\u001b[0m eta \u001b[36m0:00:00\u001b[0m\n",
            "\u001b[?25hDownloading numpy-2.3.2-cp311-cp311-manylinux_2_27_x86_64.manylinux_2_28_x86_64.whl (16.9 MB)\n",
            "\u001b[2K   \u001b[90m━━━━━━━━━━━━━━━━━━━━━━━━━━━━━━━━━━━━━━━━\u001b[0m \u001b[32m16.9/16.9 MB\u001b[0m \u001b[31m100.0 MB/s\u001b[0m eta \u001b[36m0:00:00\u001b[0m\n",
            "\u001b[?25hInstalling collected packages: numpy\n",
            "  Attempting uninstall: numpy\n",
            "    Found existing installation: numpy 2.0.2\n",
            "    Uninstalling numpy-2.0.2:\n",
            "      Successfully uninstalled numpy-2.0.2\n",
            "\u001b[31mERROR: pip's dependency resolver does not currently take into account all the packages that are installed. This behaviour is the source of the following dependency conflicts.\n",
            "numba 0.60.0 requires numpy<2.1,>=1.22, but you have numpy 2.3.2 which is incompatible.\n",
            "cupy-cuda12x 13.3.0 requires numpy<2.3,>=1.22, but you have numpy 2.3.2 which is incompatible.\n",
            "opencv-contrib-python 4.12.0.88 requires numpy<2.3.0,>=2; python_version >= \"3.9\", but you have numpy 2.3.2 which is incompatible.\n",
            "opencv-python 4.12.0.88 requires numpy<2.3.0,>=2; python_version >= \"3.9\", but you have numpy 2.3.2 which is incompatible.\n",
            "tensorflow 2.18.0 requires numpy<2.1.0,>=1.26.0, but you have numpy 2.3.2 which is incompatible.\n",
            "opencv-python-headless 4.12.0.88 requires numpy<2.3.0,>=2; python_version >= \"3.9\", but you have numpy 2.3.2 which is incompatible.\u001b[0m\u001b[31m\n",
            "\u001b[0mSuccessfully installed numpy-2.3.2\n"
          ]
        },
        {
          "output_type": "display_data",
          "data": {
            "application/vnd.colab-display-data+json": {
              "pip_warning": {
                "packages": [
                  "numpy"
                ]
              },
              "id": "2e1c816a6fc147deb24a479dc2b87e17"
            }
          },
          "metadata": {}
        }
      ]
    },
    {
      "cell_type": "code",
      "source": [
        "import numpy as np\n",
        "print(f\"NumPy version THIS session is using: {np.__version__}\")\n",
        "import os\n",
        "from google.colab import drive\n",
        "import zipfile\n",
        "\n",
        "# Mount Google Drive\n",
        "drive.mount('/content/drive')\n",
        "\n",
        "save_path = '/content/drive/MyDrive/AAI511_ML/preprocessed_composer_data_v3.npz'\n",
        "\n",
        "print(f\"Inspecting arrays inside: {save_path}\\n\")\n",
        "\n",
        "try:\n",
        "    with zipfile.ZipFile(save_path) as zf:\n",
        "        for name in zf.namelist():\n",
        "            if not name.endswith('.npy'):\n",
        "                continue\n",
        "\n",
        "            with zf.open(name) as fp:\n",
        "                # get the file format version\n",
        "                version = np.lib.format.read_magic(fp)\n",
        "\n",
        "                # Call the correct header function based on the version\n",
        "                if version[0] == 1:\n",
        "                    shape, fortran_order, dtype = np.lib.format.read_array_header_1_0(fp)\n",
        "                elif version[0] == 2:\n",
        "                    shape, fortran_order, dtype = np.lib.format.read_array_header_2_0(fp)\n",
        "                else:\n",
        "                    print(f\"--> Array: '{name.replace('.npy', '')}' has an unsupported format version: {version}\")\n",
        "                    continue\n",
        "\n",
        "                array_name = name.replace('.npy', '')\n",
        "                print(f\"--> Array: '{array_name}'\")\n",
        "                print(f\"    Shape: {shape}\")\n",
        "                print(f\"    Data Type (dtype): {dtype}\")\n",
        "                print(\"-\" * 20)\n",
        "\n",
        "except Exception as e:\n",
        "    print(f\"An error occurred while inspecting the file: {e}\")"
      ],
      "metadata": {
        "colab": {
          "base_uri": "https://localhost:8080/"
        },
        "id": "t6r5V0qRQzCI",
        "outputId": "ecf26de1-f622-4412-f9a6-863b332f2666"
      },
      "execution_count": 2,
      "outputs": [
        {
          "output_type": "stream",
          "name": "stdout",
          "text": [
            "NumPy version THIS session is using: 2.3.2\n",
            "Drive already mounted at /content/drive; to attempt to forcibly remount, call drive.mount(\"/content/drive\", force_remount=True).\n",
            "Inspecting arrays inside: /content/drive/MyDrive/AAI511_ML/preprocessed_composer_data_v3.npz\n",
            "\n",
            "--> Array: 'network_input'\n",
            "    Shape: (802691, 100, 1)\n",
            "    Data Type (dtype): float64\n",
            "--------------------\n",
            "--> Array: 'network_output'\n",
            "    Shape: (802691,)\n",
            "    Data Type (dtype): int64\n",
            "--------------------\n",
            "--> Array: 'n_vocab'\n",
            "    Shape: (1,)\n",
            "    Data Type (dtype): int64\n",
            "--------------------\n",
            "--> Array: 'composer_map'\n",
            "    Shape: ()\n",
            "    Data Type (dtype): object\n",
            "--------------------\n",
            "--> Array: 'note_to_int'\n",
            "    Shape: ()\n",
            "    Data Type (dtype): object\n",
            "--------------------\n"
          ]
        }
      ]
    },
    {
      "cell_type": "code",
      "source": [
        "import tensorflow as tf\n",
        "import numpy as np\n",
        "from sklearn.model_selection import train_test_split\n",
        "import matplotlib.pyplot as plt\n",
        "\n",
        "# Load the preprocessed data from your file\n",
        "print(f\"Loading preprocessed data from: {save_path}\")\n",
        "with np.load(save_path, allow_pickle=True) as data:\n",
        "    network_input = data['network_input']\n",
        "    network_output = data['network_output']\n",
        "    composer_map = data['composer_map'].item()\n",
        "    note_to_int = data['note_to_int'].item()\n",
        "    sequence_length = network_input.shape[1]\n",
        "\n",
        "    try:\n",
        "        n_vocab = data['n_vocab'].item()\n",
        "    except KeyError:\n",
        "        # If not in npz, use note_to_int\n",
        "        n_vocab = len(note_to_int)\n",
        "\n",
        "print(\"Data loaded successfully!\")\n",
        "\n",
        "# Split data into training (80%) and validation (20%) sets\n",
        "print(\"Splitting data into training and validation sets...\")\n",
        "X_train, X_val, y_train, y_val = train_test_split(\n",
        "    network_input,\n",
        "    network_output,\n",
        "    test_size=0.2,\n",
        "    random_state=42, # for reproducibility\n",
        "    stratify=network_output # Ensures same class distribution in train/val sets\n",
        ")\n",
        "\n",
        "print(f\"Training samples: {len(X_train)}\")\n",
        "print(f\"Validation samples: {len(X_val)}\")"
      ],
      "metadata": {
        "colab": {
          "base_uri": "https://localhost:8080/"
        },
        "id": "yAiBRXi9QzEM",
        "outputId": "a338cae9-c306-408b-d57f-af3674012a30"
      },
      "execution_count": 16,
      "outputs": [
        {
          "output_type": "stream",
          "name": "stdout",
          "text": [
            "Loading preprocessed data from: /content/drive/MyDrive/AAI511_ML/preprocessed_composer_data_v3.npz\n",
            "Data loaded successfully!\n",
            "Splitting data into training and validation sets...\n",
            "Training samples: 642152\n",
            "Validation samples: 160539\n"
          ]
        }
      ]
    },
    {
      "cell_type": "code",
      "source": [
        "def create_optimized_dataset(features, labels, batch_size=64, is_training=True):\n",
        "    \"\"\"Creates an optimized tf.data.Dataset from numpy arrays.\"\"\"\n",
        "    dataset = tf.data.Dataset.from_tensor_slices((features, labels))\n",
        "    if is_training:\n",
        "        dataset = dataset.shuffle(len(features), reshuffle_each_iteration=True)\n",
        "\n",
        "    dataset = dataset.batch(batch_size)\n",
        "    dataset = dataset.prefetch(tf.data.AUTOTUNE)\n",
        "    return dataset\n",
        "\n",
        "# Create the datasets\n",
        "BATCH_SIZE = 128\n",
        "train_dataset = create_optimized_dataset(X_train, y_train, batch_size=BATCH_SIZE)\n",
        "validation_dataset = create_optimized_dataset(X_val, y_val, batch_size=BATCH_SIZE, is_training=False)\n",
        "\n",
        "print(\"\\nTensorFlow datasets created.\")"
      ],
      "metadata": {
        "colab": {
          "base_uri": "https://localhost:8080/"
        },
        "id": "69f08iXZQzGU",
        "outputId": "4daa27b4-dd3c-473f-ca28-1e639972c9c8"
      },
      "execution_count": 4,
      "outputs": [
        {
          "output_type": "stream",
          "name": "stdout",
          "text": [
            "\n",
            "TensorFlow datasets created.\n"
          ]
        }
      ]
    },
    {
      "cell_type": "markdown",
      "source": [
        "## Define/Compile LSTM-CNN Model"
      ],
      "metadata": {
        "id": "IzmPexdZQ7F0"
      }
    },
    {
      "cell_type": "code",
      "source": [
        "def build_cnn_lstm_model(input_shape, num_classes):\n",
        "    \"\"\"Builds a hybrid CNN-LSTM model for sequence classification.\"\"\"\n",
        "    model = tf.keras.Sequential([\n",
        "        # Input Layer\n",
        "        tf.keras.layers.Input(shape=input_shape),\n",
        "\n",
        "        # 1. CNN Block: To find local musical patterns\n",
        "        tf.keras.layers.Conv1D(filters=128, kernel_size=5, activation='relu', padding='causal'),\n",
        "        tf.keras.layers.MaxPooling1D(pool_size=2),\n",
        "        tf.keras.layers.Dropout(0.2),\n",
        "\n",
        "        # 2. LSTM Block: To learn long-term structure from the patterns\n",
        "        tf.keras.layers.LSTM(256, return_sequences=False),\n",
        "        tf.keras.layers.Dropout(0.3),\n",
        "\n",
        "        # 3. Classification Head\n",
        "        tf.keras.layers.Dense(128, activation='relu'),\n",
        "        tf.keras.layers.Dense(num_classes, activation='softmax') # Softmax for multi-class classification\n",
        "    ])\n",
        "    return model\n",
        "\n",
        "# Get model parameters from the data\n",
        "input_shape = X_train.shape[1:]\n",
        "num_classes = len(np.unique(network_output))\n",
        "\n",
        "# Build and compile the model\n",
        "print(\"\\nBuilding and compiling the model...\")\n",
        "model = build_cnn_lstm_model(input_shape=input_shape, num_classes=num_classes)\n",
        "\n",
        "model.compile(\n",
        "    optimizer=tf.keras.optimizers.Adam(learning_rate=0.001),\n",
        "    loss='sparse_categorical_crossentropy', # Use this for integer labels\n",
        "    metrics=['accuracy']\n",
        ")\n",
        "\n",
        "model.summary()"
      ],
      "metadata": {
        "colab": {
          "base_uri": "https://localhost:8080/",
          "height": 404
        },
        "id": "I0ZMzzDZQzIU",
        "outputId": "f55c839b-6445-4f39-b94c-8572a7a1dbb9"
      },
      "execution_count": 5,
      "outputs": [
        {
          "output_type": "stream",
          "name": "stdout",
          "text": [
            "\n",
            "Building and compiling the model...\n"
          ]
        },
        {
          "output_type": "display_data",
          "data": {
            "text/plain": [
              "\u001b[1mModel: \"sequential\"\u001b[0m\n"
            ],
            "text/html": [
              "<pre style=\"white-space:pre;overflow-x:auto;line-height:normal;font-family:Menlo,'DejaVu Sans Mono',consolas,'Courier New',monospace\"><span style=\"font-weight: bold\">Model: \"sequential\"</span>\n",
              "</pre>\n"
            ]
          },
          "metadata": {}
        },
        {
          "output_type": "display_data",
          "data": {
            "text/plain": [
              "┏━━━━━━━━━━━━━━━━━━━━━━━━━━━━━━━━━┳━━━━━━━━━━━━━━━━━━━━━━━━┳━━━━━━━━━━━━━━━┓\n",
              "┃\u001b[1m \u001b[0m\u001b[1mLayer (type)                   \u001b[0m\u001b[1m \u001b[0m┃\u001b[1m \u001b[0m\u001b[1mOutput Shape          \u001b[0m\u001b[1m \u001b[0m┃\u001b[1m \u001b[0m\u001b[1m      Param #\u001b[0m\u001b[1m \u001b[0m┃\n",
              "┡━━━━━━━━━━━━━━━━━━━━━━━━━━━━━━━━━╇━━━━━━━━━━━━━━━━━━━━━━━━╇━━━━━━━━━━━━━━━┩\n",
              "│ conv1d (\u001b[38;5;33mConv1D\u001b[0m)                 │ (\u001b[38;5;45mNone\u001b[0m, \u001b[38;5;34m100\u001b[0m, \u001b[38;5;34m128\u001b[0m)       │           \u001b[38;5;34m768\u001b[0m │\n",
              "├─────────────────────────────────┼────────────────────────┼───────────────┤\n",
              "│ max_pooling1d (\u001b[38;5;33mMaxPooling1D\u001b[0m)    │ (\u001b[38;5;45mNone\u001b[0m, \u001b[38;5;34m50\u001b[0m, \u001b[38;5;34m128\u001b[0m)        │             \u001b[38;5;34m0\u001b[0m │\n",
              "├─────────────────────────────────┼────────────────────────┼───────────────┤\n",
              "│ dropout (\u001b[38;5;33mDropout\u001b[0m)               │ (\u001b[38;5;45mNone\u001b[0m, \u001b[38;5;34m50\u001b[0m, \u001b[38;5;34m128\u001b[0m)        │             \u001b[38;5;34m0\u001b[0m │\n",
              "├─────────────────────────────────┼────────────────────────┼───────────────┤\n",
              "│ lstm (\u001b[38;5;33mLSTM\u001b[0m)                     │ (\u001b[38;5;45mNone\u001b[0m, \u001b[38;5;34m256\u001b[0m)            │       \u001b[38;5;34m394,240\u001b[0m │\n",
              "├─────────────────────────────────┼────────────────────────┼───────────────┤\n",
              "│ dropout_1 (\u001b[38;5;33mDropout\u001b[0m)             │ (\u001b[38;5;45mNone\u001b[0m, \u001b[38;5;34m256\u001b[0m)            │             \u001b[38;5;34m0\u001b[0m │\n",
              "├─────────────────────────────────┼────────────────────────┼───────────────┤\n",
              "│ dense (\u001b[38;5;33mDense\u001b[0m)                   │ (\u001b[38;5;45mNone\u001b[0m, \u001b[38;5;34m128\u001b[0m)            │        \u001b[38;5;34m32,896\u001b[0m │\n",
              "├─────────────────────────────────┼────────────────────────┼───────────────┤\n",
              "│ dense_1 (\u001b[38;5;33mDense\u001b[0m)                 │ (\u001b[38;5;45mNone\u001b[0m, \u001b[38;5;34m4\u001b[0m)              │           \u001b[38;5;34m516\u001b[0m │\n",
              "└─────────────────────────────────┴────────────────────────┴───────────────┘\n"
            ],
            "text/html": [
              "<pre style=\"white-space:pre;overflow-x:auto;line-height:normal;font-family:Menlo,'DejaVu Sans Mono',consolas,'Courier New',monospace\">┏━━━━━━━━━━━━━━━━━━━━━━━━━━━━━━━━━┳━━━━━━━━━━━━━━━━━━━━━━━━┳━━━━━━━━━━━━━━━┓\n",
              "┃<span style=\"font-weight: bold\"> Layer (type)                    </span>┃<span style=\"font-weight: bold\"> Output Shape           </span>┃<span style=\"font-weight: bold\">       Param # </span>┃\n",
              "┡━━━━━━━━━━━━━━━━━━━━━━━━━━━━━━━━━╇━━━━━━━━━━━━━━━━━━━━━━━━╇━━━━━━━━━━━━━━━┩\n",
              "│ conv1d (<span style=\"color: #0087ff; text-decoration-color: #0087ff\">Conv1D</span>)                 │ (<span style=\"color: #00d7ff; text-decoration-color: #00d7ff\">None</span>, <span style=\"color: #00af00; text-decoration-color: #00af00\">100</span>, <span style=\"color: #00af00; text-decoration-color: #00af00\">128</span>)       │           <span style=\"color: #00af00; text-decoration-color: #00af00\">768</span> │\n",
              "├─────────────────────────────────┼────────────────────────┼───────────────┤\n",
              "│ max_pooling1d (<span style=\"color: #0087ff; text-decoration-color: #0087ff\">MaxPooling1D</span>)    │ (<span style=\"color: #00d7ff; text-decoration-color: #00d7ff\">None</span>, <span style=\"color: #00af00; text-decoration-color: #00af00\">50</span>, <span style=\"color: #00af00; text-decoration-color: #00af00\">128</span>)        │             <span style=\"color: #00af00; text-decoration-color: #00af00\">0</span> │\n",
              "├─────────────────────────────────┼────────────────────────┼───────────────┤\n",
              "│ dropout (<span style=\"color: #0087ff; text-decoration-color: #0087ff\">Dropout</span>)               │ (<span style=\"color: #00d7ff; text-decoration-color: #00d7ff\">None</span>, <span style=\"color: #00af00; text-decoration-color: #00af00\">50</span>, <span style=\"color: #00af00; text-decoration-color: #00af00\">128</span>)        │             <span style=\"color: #00af00; text-decoration-color: #00af00\">0</span> │\n",
              "├─────────────────────────────────┼────────────────────────┼───────────────┤\n",
              "│ lstm (<span style=\"color: #0087ff; text-decoration-color: #0087ff\">LSTM</span>)                     │ (<span style=\"color: #00d7ff; text-decoration-color: #00d7ff\">None</span>, <span style=\"color: #00af00; text-decoration-color: #00af00\">256</span>)            │       <span style=\"color: #00af00; text-decoration-color: #00af00\">394,240</span> │\n",
              "├─────────────────────────────────┼────────────────────────┼───────────────┤\n",
              "│ dropout_1 (<span style=\"color: #0087ff; text-decoration-color: #0087ff\">Dropout</span>)             │ (<span style=\"color: #00d7ff; text-decoration-color: #00d7ff\">None</span>, <span style=\"color: #00af00; text-decoration-color: #00af00\">256</span>)            │             <span style=\"color: #00af00; text-decoration-color: #00af00\">0</span> │\n",
              "├─────────────────────────────────┼────────────────────────┼───────────────┤\n",
              "│ dense (<span style=\"color: #0087ff; text-decoration-color: #0087ff\">Dense</span>)                   │ (<span style=\"color: #00d7ff; text-decoration-color: #00d7ff\">None</span>, <span style=\"color: #00af00; text-decoration-color: #00af00\">128</span>)            │        <span style=\"color: #00af00; text-decoration-color: #00af00\">32,896</span> │\n",
              "├─────────────────────────────────┼────────────────────────┼───────────────┤\n",
              "│ dense_1 (<span style=\"color: #0087ff; text-decoration-color: #0087ff\">Dense</span>)                 │ (<span style=\"color: #00d7ff; text-decoration-color: #00d7ff\">None</span>, <span style=\"color: #00af00; text-decoration-color: #00af00\">4</span>)              │           <span style=\"color: #00af00; text-decoration-color: #00af00\">516</span> │\n",
              "└─────────────────────────────────┴────────────────────────┴───────────────┘\n",
              "</pre>\n"
            ]
          },
          "metadata": {}
        },
        {
          "output_type": "display_data",
          "data": {
            "text/plain": [
              "\u001b[1m Total params: \u001b[0m\u001b[38;5;34m428,420\u001b[0m (1.63 MB)\n"
            ],
            "text/html": [
              "<pre style=\"white-space:pre;overflow-x:auto;line-height:normal;font-family:Menlo,'DejaVu Sans Mono',consolas,'Courier New',monospace\"><span style=\"font-weight: bold\"> Total params: </span><span style=\"color: #00af00; text-decoration-color: #00af00\">428,420</span> (1.63 MB)\n",
              "</pre>\n"
            ]
          },
          "metadata": {}
        },
        {
          "output_type": "display_data",
          "data": {
            "text/plain": [
              "\u001b[1m Trainable params: \u001b[0m\u001b[38;5;34m428,420\u001b[0m (1.63 MB)\n"
            ],
            "text/html": [
              "<pre style=\"white-space:pre;overflow-x:auto;line-height:normal;font-family:Menlo,'DejaVu Sans Mono',consolas,'Courier New',monospace\"><span style=\"font-weight: bold\"> Trainable params: </span><span style=\"color: #00af00; text-decoration-color: #00af00\">428,420</span> (1.63 MB)\n",
              "</pre>\n"
            ]
          },
          "metadata": {}
        },
        {
          "output_type": "display_data",
          "data": {
            "text/plain": [
              "\u001b[1m Non-trainable params: \u001b[0m\u001b[38;5;34m0\u001b[0m (0.00 B)\n"
            ],
            "text/html": [
              "<pre style=\"white-space:pre;overflow-x:auto;line-height:normal;font-family:Menlo,'DejaVu Sans Mono',consolas,'Courier New',monospace\"><span style=\"font-weight: bold\"> Non-trainable params: </span><span style=\"color: #00af00; text-decoration-color: #00af00\">0</span> (0.00 B)\n",
              "</pre>\n"
            ]
          },
          "metadata": {}
        }
      ]
    },
    {
      "cell_type": "code",
      "source": [
        "# Add a callback to stop training early if performance plateaus\n",
        "early_stopping = tf.keras.callbacks.EarlyStopping(\n",
        "    monitor='val_loss',  # Monitor the validation loss\n",
        "    patience=5,          # Stop after 5 epochs with no improvement\n",
        "    restore_best_weights=True # Restore the best model weights found\n",
        ")\n",
        "\n",
        "print(\"\\nStarting model training...\")\n",
        "history = model.fit(\n",
        "    train_dataset,\n",
        "    epochs=40, # Set a high number, early stopping will find the best epoch\n",
        "    validation_data=validation_dataset,\n",
        "    callbacks=[early_stopping]\n",
        ")\n",
        "\n"
      ],
      "metadata": {
        "colab": {
          "base_uri": "https://localhost:8080/"
        },
        "id": "EYkx3OcyQzKi",
        "outputId": "de72778a-34bf-4dfe-b01b-0120fbc5eff4"
      },
      "execution_count": 6,
      "outputs": [
        {
          "output_type": "stream",
          "name": "stdout",
          "text": [
            "\n",
            "Starting model training...\n",
            "Epoch 1/40\n",
            "\u001b[1m5017/5017\u001b[0m \u001b[32m━━━━━━━━━━━━━━━━━━━━\u001b[0m\u001b[37m\u001b[0m \u001b[1m62s\u001b[0m 11ms/step - accuracy: 0.4425 - loss: 1.2204 - val_accuracy: 0.5616 - val_loss: 1.0330\n",
            "Epoch 2/40\n",
            "\u001b[1m5017/5017\u001b[0m \u001b[32m━━━━━━━━━━━━━━━━━━━━\u001b[0m\u001b[37m\u001b[0m \u001b[1m58s\u001b[0m 11ms/step - accuracy: 0.6021 - loss: 0.9532 - val_accuracy: 0.8086 - val_loss: 0.5025\n",
            "Epoch 3/40\n",
            "\u001b[1m5017/5017\u001b[0m \u001b[32m━━━━━━━━━━━━━━━━━━━━\u001b[0m\u001b[37m\u001b[0m \u001b[1m58s\u001b[0m 11ms/step - accuracy: 0.8376 - loss: 0.4331 - val_accuracy: 0.9459 - val_loss: 0.1512\n",
            "Epoch 4/40\n",
            "\u001b[1m5017/5017\u001b[0m \u001b[32m━━━━━━━━━━━━━━━━━━━━\u001b[0m\u001b[37m\u001b[0m \u001b[1m58s\u001b[0m 11ms/step - accuracy: 0.9394 - loss: 0.1718 - val_accuracy: 0.9791 - val_loss: 0.0633\n",
            "Epoch 5/40\n",
            "\u001b[1m5017/5017\u001b[0m \u001b[32m━━━━━━━━━━━━━━━━━━━━\u001b[0m\u001b[37m\u001b[0m \u001b[1m59s\u001b[0m 11ms/step - accuracy: 0.9651 - loss: 0.1019 - val_accuracy: 0.9884 - val_loss: 0.0353\n",
            "Epoch 6/40\n",
            "\u001b[1m5017/5017\u001b[0m \u001b[32m━━━━━━━━━━━━━━━━━━━━\u001b[0m\u001b[37m\u001b[0m \u001b[1m59s\u001b[0m 12ms/step - accuracy: 0.9763 - loss: 0.0709 - val_accuracy: 0.9928 - val_loss: 0.0246\n",
            "Epoch 7/40\n",
            "\u001b[1m5017/5017\u001b[0m \u001b[32m━━━━━━━━━━━━━━━━━━━━\u001b[0m\u001b[37m\u001b[0m \u001b[1m59s\u001b[0m 12ms/step - accuracy: 0.9822 - loss: 0.0536 - val_accuracy: 0.9933 - val_loss: 0.0216\n",
            "Epoch 8/40\n",
            "\u001b[1m5017/5017\u001b[0m \u001b[32m━━━━━━━━━━━━━━━━━━━━\u001b[0m\u001b[37m\u001b[0m \u001b[1m59s\u001b[0m 12ms/step - accuracy: 0.9858 - loss: 0.0431 - val_accuracy: 0.9937 - val_loss: 0.0219\n",
            "Epoch 9/40\n",
            "\u001b[1m5017/5017\u001b[0m \u001b[32m━━━━━━━━━━━━━━━━━━━━\u001b[0m\u001b[37m\u001b[0m \u001b[1m59s\u001b[0m 12ms/step - accuracy: 0.9881 - loss: 0.0369 - val_accuracy: 0.9967 - val_loss: 0.0105\n",
            "Epoch 10/40\n",
            "\u001b[1m5017/5017\u001b[0m \u001b[32m━━━━━━━━━━━━━━━━━━━━\u001b[0m\u001b[37m\u001b[0m \u001b[1m59s\u001b[0m 12ms/step - accuracy: 0.9893 - loss: 0.0329 - val_accuracy: 0.9975 - val_loss: 0.0087\n",
            "Epoch 11/40\n",
            "\u001b[1m5017/5017\u001b[0m \u001b[32m━━━━━━━━━━━━━━━━━━━━\u001b[0m\u001b[37m\u001b[0m \u001b[1m59s\u001b[0m 12ms/step - accuracy: 0.9911 - loss: 0.0280 - val_accuracy: 0.9984 - val_loss: 0.0054\n",
            "Epoch 12/40\n",
            "\u001b[1m5017/5017\u001b[0m \u001b[32m━━━━━━━━━━━━━━━━━━━━\u001b[0m\u001b[37m\u001b[0m \u001b[1m60s\u001b[0m 12ms/step - accuracy: 0.9915 - loss: 0.0264 - val_accuracy: 0.9984 - val_loss: 0.0054\n",
            "Epoch 13/40\n",
            "\u001b[1m5017/5017\u001b[0m \u001b[32m━━━━━━━━━━━━━━━━━━━━\u001b[0m\u001b[37m\u001b[0m \u001b[1m60s\u001b[0m 12ms/step - accuracy: 0.9925 - loss: 0.0237 - val_accuracy: 0.9988 - val_loss: 0.0052\n",
            "Epoch 14/40\n",
            "\u001b[1m5017/5017\u001b[0m \u001b[32m━━━━━━━━━━━━━━━━━━━━\u001b[0m\u001b[37m\u001b[0m \u001b[1m60s\u001b[0m 12ms/step - accuracy: 0.9934 - loss: 0.0215 - val_accuracy: 0.9984 - val_loss: 0.0057\n",
            "Epoch 15/40\n",
            "\u001b[1m5017/5017\u001b[0m \u001b[32m━━━━━━━━━━━━━━━━━━━━\u001b[0m\u001b[37m\u001b[0m \u001b[1m60s\u001b[0m 12ms/step - accuracy: 0.9936 - loss: 0.0205 - val_accuracy: 0.9987 - val_loss: 0.0046\n",
            "Epoch 16/40\n",
            "\u001b[1m5017/5017\u001b[0m \u001b[32m━━━━━━━━━━━━━━━━━━━━\u001b[0m\u001b[37m\u001b[0m \u001b[1m60s\u001b[0m 12ms/step - accuracy: 0.9942 - loss: 0.0188 - val_accuracy: 0.9988 - val_loss: 0.0042\n",
            "Epoch 17/40\n",
            "\u001b[1m5017/5017\u001b[0m \u001b[32m━━━━━━━━━━━━━━━━━━━━\u001b[0m\u001b[37m\u001b[0m \u001b[1m60s\u001b[0m 12ms/step - accuracy: 0.9944 - loss: 0.0178 - val_accuracy: 0.9985 - val_loss: 0.0053\n",
            "Epoch 18/40\n",
            "\u001b[1m5017/5017\u001b[0m \u001b[32m━━━━━━━━━━━━━━━━━━━━\u001b[0m\u001b[37m\u001b[0m \u001b[1m60s\u001b[0m 12ms/step - accuracy: 0.9948 - loss: 0.0170 - val_accuracy: 0.9987 - val_loss: 0.0043\n",
            "Epoch 19/40\n",
            "\u001b[1m5017/5017\u001b[0m \u001b[32m━━━━━━━━━━━━━━━━━━━━\u001b[0m\u001b[37m\u001b[0m \u001b[1m60s\u001b[0m 12ms/step - accuracy: 0.9949 - loss: 0.0161 - val_accuracy: 0.9989 - val_loss: 0.0043\n",
            "Epoch 20/40\n",
            "\u001b[1m5017/5017\u001b[0m \u001b[32m━━━━━━━━━━━━━━━━━━━━\u001b[0m\u001b[37m\u001b[0m \u001b[1m60s\u001b[0m 12ms/step - accuracy: 0.9953 - loss: 0.0154 - val_accuracy: 0.9989 - val_loss: 0.0038\n",
            "Epoch 21/40\n",
            "\u001b[1m5017/5017\u001b[0m \u001b[32m━━━━━━━━━━━━━━━━━━━━\u001b[0m\u001b[37m\u001b[0m \u001b[1m60s\u001b[0m 12ms/step - accuracy: 0.9954 - loss: 0.0147 - val_accuracy: 0.9986 - val_loss: 0.0051\n",
            "Epoch 22/40\n",
            "\u001b[1m5017/5017\u001b[0m \u001b[32m━━━━━━━━━━━━━━━━━━━━\u001b[0m\u001b[37m\u001b[0m \u001b[1m60s\u001b[0m 12ms/step - accuracy: 0.9957 - loss: 0.0141 - val_accuracy: 0.9987 - val_loss: 0.0047\n",
            "Epoch 23/40\n",
            "\u001b[1m5017/5017\u001b[0m \u001b[32m━━━━━━━━━━━━━━━━━━━━\u001b[0m\u001b[37m\u001b[0m \u001b[1m60s\u001b[0m 12ms/step - accuracy: 0.9960 - loss: 0.0132 - val_accuracy: 0.9965 - val_loss: 0.0118\n",
            "Epoch 24/40\n",
            "\u001b[1m5017/5017\u001b[0m \u001b[32m━━━━━━━━━━━━━━━━━━━━\u001b[0m\u001b[37m\u001b[0m \u001b[1m60s\u001b[0m 12ms/step - accuracy: 0.9958 - loss: 0.0136 - val_accuracy: 0.9983 - val_loss: 0.0056\n",
            "Epoch 25/40\n",
            "\u001b[1m5017/5017\u001b[0m \u001b[32m━━━━━━━━━━━━━━━━━━━━\u001b[0m\u001b[37m\u001b[0m \u001b[1m60s\u001b[0m 12ms/step - accuracy: 0.9959 - loss: 0.0139 - val_accuracy: 0.9993 - val_loss: 0.0030\n",
            "Epoch 26/40\n",
            "\u001b[1m5017/5017\u001b[0m \u001b[32m━━━━━━━━━━━━━━━━━━━━\u001b[0m\u001b[37m\u001b[0m \u001b[1m59s\u001b[0m 12ms/step - accuracy: 0.9963 - loss: 0.0120 - val_accuracy: 0.9993 - val_loss: 0.0021\n",
            "Epoch 27/40\n",
            "\u001b[1m5017/5017\u001b[0m \u001b[32m━━━━━━━━━━━━━━━━━━━━\u001b[0m\u001b[37m\u001b[0m \u001b[1m59s\u001b[0m 12ms/step - accuracy: 0.9964 - loss: 0.0119 - val_accuracy: 0.9994 - val_loss: 0.0021\n",
            "Epoch 28/40\n",
            "\u001b[1m5017/5017\u001b[0m \u001b[32m━━━━━━━━━━━━━━━━━━━━\u001b[0m\u001b[37m\u001b[0m \u001b[1m59s\u001b[0m 12ms/step - accuracy: 0.9962 - loss: 0.0128 - val_accuracy: 0.9992 - val_loss: 0.0028\n",
            "Epoch 29/40\n",
            "\u001b[1m5017/5017\u001b[0m \u001b[32m━━━━━━━━━━━━━━━━━━━━\u001b[0m\u001b[37m\u001b[0m \u001b[1m59s\u001b[0m 12ms/step - accuracy: 0.9968 - loss: 0.0110 - val_accuracy: 0.9995 - val_loss: 0.0016\n",
            "Epoch 30/40\n",
            "\u001b[1m5017/5017\u001b[0m \u001b[32m━━━━━━━━━━━━━━━━━━━━\u001b[0m\u001b[37m\u001b[0m \u001b[1m59s\u001b[0m 12ms/step - accuracy: 0.9968 - loss: 0.0108 - val_accuracy: 0.9989 - val_loss: 0.0034\n",
            "Epoch 31/40\n",
            "\u001b[1m5017/5017\u001b[0m \u001b[32m━━━━━━━━━━━━━━━━━━━━\u001b[0m\u001b[37m\u001b[0m \u001b[1m59s\u001b[0m 12ms/step - accuracy: 0.9968 - loss: 0.0103 - val_accuracy: 0.9996 - val_loss: 0.0016\n",
            "Epoch 32/40\n",
            "\u001b[1m5017/5017\u001b[0m \u001b[32m━━━━━━━━━━━━━━━━━━━━\u001b[0m\u001b[37m\u001b[0m \u001b[1m59s\u001b[0m 12ms/step - accuracy: 0.9971 - loss: 0.0097 - val_accuracy: 0.9995 - val_loss: 0.0016\n",
            "Epoch 33/40\n",
            "\u001b[1m5017/5017\u001b[0m \u001b[32m━━━━━━━━━━━━━━━━━━━━\u001b[0m\u001b[37m\u001b[0m \u001b[1m59s\u001b[0m 12ms/step - accuracy: 0.9969 - loss: 0.0104 - val_accuracy: 0.9973 - val_loss: 0.0084\n",
            "Epoch 34/40\n",
            "\u001b[1m5017/5017\u001b[0m \u001b[32m━━━━━━━━━━━━━━━━━━━━\u001b[0m\u001b[37m\u001b[0m \u001b[1m59s\u001b[0m 12ms/step - accuracy: 0.9971 - loss: 0.0097 - val_accuracy: 0.9961 - val_loss: 0.0140\n"
          ]
        },
        {
          "output_type": "stream",
          "name": "stderr",
          "text": [
            "WARNING:absl:You are saving your model as an HDF5 file via `model.save()` or `keras.saving.save_model(model)`. This file format is considered legacy. We recommend using instead the native Keras format, e.g. `model.save('my_model.keras')` or `keras.saving.save_model(model, 'my_model.keras')`. \n"
          ]
        },
        {
          "output_type": "stream",
          "name": "stdout",
          "text": [
            "Model saved as 'composer_classifier_model.h5'\n"
          ]
        }
      ]
    },
    {
      "cell_type": "code",
      "source": [
        "import pickle\n",
        "\n",
        "# save the model for later use, with meta data for easier testing.\n",
        "model.save('/content/drive/MyDrive/AAI511_ML/composer_classifier_model.h5')\n",
        "print(\"Model saved as 'composer_classifier_model.h5'\")\n",
        "\n",
        "model_metadata = {\n",
        "    'note_to_int': note_to_int,\n",
        "    'composer_map': composer_map,\n",
        "    'sequence_length': sequence_length,\n",
        "    'n_vocab': n_vocab\n",
        "}\n",
        "\n",
        "metadata_path = os.path.join('/content/drive/MyDrive/AAI511_ML/', 'model_metadata.pkl')\n",
        "with open(metadata_path, 'wb') as f:\n",
        "    pickle.dump(model_metadata, f)\n",
        "print(f\"Metadata saved to: {metadata_path}\")"
      ],
      "metadata": {
        "colab": {
          "base_uri": "https://localhost:8080/"
        },
        "id": "NKY1FU01cb7M",
        "outputId": "6005784b-0b37-4c6d-e426-de1dd801a833"
      },
      "execution_count": 18,
      "outputs": [
        {
          "output_type": "stream",
          "name": "stderr",
          "text": [
            "WARNING:absl:You are saving your model as an HDF5 file via `model.save()` or `keras.saving.save_model(model)`. This file format is considered legacy. We recommend using instead the native Keras format, e.g. `model.save('my_model.keras')` or `keras.saving.save_model(model, 'my_model.keras')`. \n"
          ]
        },
        {
          "output_type": "stream",
          "name": "stdout",
          "text": [
            "Model saved as 'composer_classifier_model.h5'\n",
            "Metadata saved to: /content/drive/MyDrive/AAI511_ML/model_metadata.pkl\n"
          ]
        }
      ]
    },
    {
      "cell_type": "code",
      "source": [
        "def plot_history(history):\n",
        "    \"\"\"Plots the training and validation accuracy and loss.\"\"\"\n",
        "    acc = history.history['accuracy']\n",
        "    val_acc = history.history['val_accuracy']\n",
        "    loss = history.history['loss']\n",
        "    val_loss = history.history['val_loss']\n",
        "\n",
        "    epochs_range = range(len(acc))\n",
        "\n",
        "    plt.figure(figsize=(14, 5))\n",
        "\n",
        "    plt.subplot(1, 2, 1)\n",
        "    plt.plot(epochs_range, acc, label='Training Accuracy')\n",
        "    plt.plot(epochs_range, val_acc, label='Validation Accuracy')\n",
        "    plt.legend(loc='lower right')\n",
        "    plt.title('Training and Validation Accuracy')\n",
        "    plt.xlabel('Epoch')\n",
        "\n",
        "    plt.subplot(1, 2, 2)\n",
        "    plt.plot(epochs_range, loss, label='Training Loss')\n",
        "    plt.plot(epochs_range, val_loss, label='Validation Loss')\n",
        "    plt.legend(loc='upper right')\n",
        "    plt.title('Training and Validation Loss')\n",
        "    plt.xlabel('Epoch')\n",
        "\n",
        "    plt.show()\n",
        "\n",
        "plot_history(history)"
      ],
      "metadata": {
        "colab": {
          "base_uri": "https://localhost:8080/",
          "height": 487
        },
        "id": "LzF2455WQzMy",
        "outputId": "dfe9107d-e92a-4d81-cdf6-803c689d5916"
      },
      "execution_count": 7,
      "outputs": [
        {
          "output_type": "display_data",
          "data": {
            "text/plain": [
              "<Figure size 1400x500 with 2 Axes>"
            ],
            "image/png": "[encoded data removed]"
          },
          "metadata": {}
        }
      ]
    },
    {
      "cell_type": "code",
      "source": [
        "# testing to make sure model works\n",
        "\n",
        "def load_model_and_metadata(base_dir='/content/drive/MyDrive/AAI511_ML/'):\n",
        "    \"\"\"Load the saved model and metadata\"\"\"\n",
        "    import os\n",
        "\n",
        "    model_path = os.path.join(base_dir, 'composer_classifier_model.h5')\n",
        "    metadata_path = os.path.join(base_dir, 'model_metadata.pkl')\n",
        "\n",
        "    # Load the model\n",
        "    model_loaded = tf.keras.models.load_model(model_path)\n",
        "    print(f\"Model loaded from: {model_path}\")\n",
        "\n",
        "    # Load metadata\n",
        "    with open(metadata_path, 'rb') as f:\n",
        "        metadata = pickle.load(f)\n",
        "    print(f\"Metadata loaded from: {metadata_path}\")\n",
        "\n",
        "    return model_loaded, metadata\n",
        "\n",
        "# === SIMPLE TEST FUNCTION ===\n",
        "def test_midi_file(file_path, base_dir='/content/drive/MyDrive/AAI511_ML/'):\n",
        "    \"\"\"Test a single MIDI file using saved model\"\"\"\n",
        "    import numpy as np\n",
        "\n",
        "    # Load model and metadata\n",
        "    model, metadata = load_model_and_metadata(base_dir)\n",
        "\n",
        "    # Parse the MIDI file\n",
        "    notes = parse_notes_from_file_mido(file_path)\n",
        "\n",
        "    if len(notes) < metadata['sequence_length']:\n",
        "        print(f\"File too short: {len(notes)} notes, need {metadata['sequence_length']}\")\n",
        "        return\n",
        "\n",
        "    # Take first sequence\n",
        "    test_sequence = notes[:metadata['sequence_length']]\n",
        "\n",
        "    # Convert to integers\n",
        "    try:\n",
        "        int_sequence = [metadata['note_to_int'][note] for note in test_sequence]\n",
        "    except KeyError as e:\n",
        "        print(f\"Unknown note in file: {e}\")\n",
        "        return\n",
        "\n",
        "    # Preprocess\n",
        "    test_input = np.array(int_sequence).reshape(1, metadata['sequence_length'], 1)\n",
        "    test_input = test_input / float(metadata['n_vocab'])\n",
        "\n",
        "    # Predict\n",
        "    prediction = model.predict(test_input, verbose=0)\n",
        "    predicted_id = np.argmax(prediction[0])\n",
        "    confidence = prediction[0][predicted_id]\n",
        "\n",
        "    # Get composer name\n",
        "    id_to_composer = {v: k for k, v in metadata['composer_map'].items()}\n",
        "    predicted_composer = id_to_composer[predicted_id]\n",
        "\n",
        "    print(f\"\\nTesting: {os.path.basename(file_path)}\")\n",
        "    print(f\"Predicted composer: {predicted_composer.upper()}\")\n",
        "    print(f\"Confidence: {confidence:.4f}\")\n",
        "\n",
        "    # Show top 3 predictions\n",
        "    top_3 = np.argsort(prediction[0])[-3:][::-1]\n",
        "    print(f\"\\n🏆 Top 3 predictions:\")\n",
        "    for i, idx in enumerate(top_3):\n",
        "        composer = id_to_composer[idx]\n",
        "        prob = prediction[0][idx]\n",
        "        print(f\"   {i+1}. {composer}: {prob:.4f}\")\n",
        "\n",
        "test_file = '/content/midi_classic_music/midiclassics/Bach/AveMaria.mid'\n",
        "test_midi_file(test_file)\n"
      ],
      "metadata": {
        "colab": {
          "base_uri": "https://localhost:8080/"
        },
        "id": "7D-Khe-5RFII",
        "outputId": "5d941ec6-5207-46aa-aec1-d3e535b480ba"
      },
      "execution_count": 26,
      "outputs": [
        {
          "output_type": "stream",
          "name": "stderr",
          "text": [
            "WARNING:absl:Compiled the loaded model, but the compiled metrics have yet to be built. `model.compile_metrics` will be empty until you train or evaluate the model.\n"
          ]
        },
        {
          "output_type": "stream",
          "name": "stdout",
          "text": [
            "Model loaded from: /content/drive/MyDrive/AAI511_ML/composer_classifier_model.h5\n",
            "Metadata loaded from: /content/drive/MyDrive/AAI511_ML/model_metadata.pkl\n",
            "\n",
            "Testing: AveMaria.mid\n",
            "Predicted composer: BACH\n",
            "Confidence: 1.0000\n",
            "\n",
            "🏆 Top 3 predictions:\n",
            "   1. bach: 1.0000\n",
            "   2. beethoven: 0.0000\n",
            "   3. chopin: 0.0000\n"
          ]
        }
      ]
    },
    {
      "cell_type": "code",
      "source": [
        "from sklearn.metrics import classification_report\n",
        "import numpy as np\n",
        "\n",
        "print(\"Generating classification report for the validation set...\")\n",
        "\n",
        "# Get the model's predictions on the validation data\n",
        "# The model outputs probabilities, so we use np.argmax to get the predicted class index\n",
        "y_pred_probs = model.predict(X_val)\n",
        "y_pred = np.argmax(y_pred_probs, axis=1)\n",
        "\n",
        "# Get the true labels\n",
        "y_true = y_val\n",
        "\n",
        "# Get the composer names from the map for a more readable report\n",
        "# Sort by the class index (0, 1, 2, ...) to match the report order\n",
        "target_names = sorted(composer_map, key=composer_map.get)\n",
        "\n",
        "# Generate and print the report\n",
        "print(\"\\n--- Classification Report ---\")\n",
        "print(classification_report(y_true, y_pred, target_names=target_names))"
      ],
      "metadata": {
        "colab": {
          "base_uri": "https://localhost:8080/"
        },
        "id": "EuRslkjhRHGM",
        "outputId": "65facade-0851-430a-8336-f5bee850a533"
      },
      "execution_count": 27,
      "outputs": [
        {
          "output_type": "stream",
          "name": "stdout",
          "text": [
            "Generating classification report for the validation set...\n",
            "\u001b[1m5017/5017\u001b[0m \u001b[32m━━━━━━━━━━━━━━━━━━━━\u001b[0m\u001b[37m\u001b[0m \u001b[1m11s\u001b[0m 2ms/step\n",
            "\n",
            "--- Classification Report ---\n",
            "              precision    recall  f1-score   support\n",
            "\n",
            "        bach       1.00      1.00      1.00     35714\n",
            "   beethoven       1.00      1.00      1.00     60499\n",
            "      chopin       1.00      1.00      1.00     37711\n",
            "      mozart       1.00      1.00      1.00     26615\n",
            "\n",
            "    accuracy                           1.00    160539\n",
            "   macro avg       1.00      1.00      1.00    160539\n",
            "weighted avg       1.00      1.00      1.00    160539\n",
            "\n"
          ]
        }
      ]
    }
  ]
}