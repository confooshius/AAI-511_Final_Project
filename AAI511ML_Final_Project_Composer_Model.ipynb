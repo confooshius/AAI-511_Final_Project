{
  "nbformat": 4,
  "nbformat_minor": 0,
  "metadata": {
    "colab": {
      "provenance": [],
      "machine_shape": "hm",
      "gpuType": "T4"
    },
    "kernelspec": {
      "name": "python3",
      "display_name": "Python 3"
    },
    "language_info": {
      "name": "python"
    },
    "accelerator": "GPU"
  },
  "cells": [
    {
      "cell_type": "markdown",
      "source": [
        "# AAI 511 Final Project - Victor Hsu, Keith Holder - Composer Prediction Model\n",
        "\n",
        "The code below shows our process for building a Composer prediction model"
      ],
      "metadata": {
        "id": "omETXDKDiEJb"
      }
    },
    {
      "cell_type": "markdown",
      "source": [
        "# Data collection\n",
        "\n",
        "Unzip initial composers from kaggle website"
      ],
      "metadata": {
        "id": "xZ9mMG6Gh6EG"
      }
    },
    {
      "cell_type": "code",
      "execution_count": 1,
      "metadata": {
        "colab": {
          "base_uri": "https://localhost:8080/"
        },
        "id": "0f0HQ6PzgNq3",
        "outputId": "c92317e3-1332-4ffe-f99b-0110de2b56ec"
      },
      "outputs": [
        {
          "output_type": "stream",
          "name": "stdout",
          "text": [
            "Mounted at /content/drive\n"
          ]
        }
      ],
      "source": [
        "import os\n",
        "import numpy as np\n",
        "from PIL import Image\n",
        "from sklearn.model_selection import train_test_split\n",
        "from google.colab import drive\n",
        "\n",
        "# Mount Google Drive\n",
        "drive.mount('/content/drive')\n",
        "\n",
        "# Extract Music Files\n",
        "zip_path = '/content/drive/My Drive/AAI511_ML/midi_classic_music.zip'\n",
        "extract_path = '/content/midi_classic_music/'\n",
        "\n",
        "# Unzip the file.\n",
        "!unzip -q -n \"{zip_path}\" -d \"{extract_path}\""
      ]
    },
    {
      "cell_type": "markdown",
      "source": [
        "# Keep only the composers mentioned in the final project\n",
        "\n",
        "select the required composers from the given dataset.\n",
        "\n",
        "1-Bach\n",
        "\n",
        "2-Beethoven\n",
        "\n",
        "3-Chopin\n",
        "\n",
        "4-Mozart"
      ],
      "metadata": {
        "id": "RpxqzQPsjnPP"
      }
    },
    {
      "cell_type": "code",
      "source": [
        "import shutil\n",
        "\n",
        "composers = ['Bach', 'Beethoven', 'Chopin', 'Mozart']\n",
        "\n",
        "for item in os.listdir(extract_path):\n",
        "    item_path = os.path.join(extract_path, item)\n",
        "    if os.path.isfile(item_path) and (item.endswith('.mid') or item.endswith('.MID')):\n",
        "        os.remove(item_path)\n",
        "        # print(f\"Remove file at root: {item}\")\n",
        "\n",
        "midi_classic_path = extract_path + 'midiclassics'\n",
        "\n",
        "for item in os.listdir(midi_classic_path):\n",
        "    item_path = os.path.join(midi_classic_path, item)\n",
        "    if os.path.isfile(item_path) and (item.endswith('.mid') or item.endswith('.MID')):\n",
        "        os.remove(item_path)\n",
        "        # print(f\"Remove file at midi_classic_path: {item}\")\n",
        "\n",
        "# remove rest of non-composer files.\n",
        "for root, dirs, files in os.walk(extract_path, topdown=False):\n",
        "    for dir_name in dirs:\n",
        "        if dir_name in composers:\n",
        "            continue  # Keep this directory\n",
        "\n",
        "        full_path = os.path.join(root, dir_name)\n",
        "        contains_desired = False\n",
        "\n",
        "        for subroot, subdirs, subfiles in os.walk(full_path):\n",
        "            if any(composer in subdirs for composer in composers):\n",
        "                contains_desired = True\n",
        "                break\n",
        "\n",
        "        if not contains_desired:\n",
        "            shutil.rmtree(full_path)\n",
        "            # print(f\"Removed: {full_path}\") for debugging"
      ],
      "metadata": {
        "id": "N3Y_89KvjkZD"
      },
      "execution_count": 2,
      "outputs": []
    },
    {
      "cell_type": "markdown",
      "source": [
        "# Pre-processing - feature extraction\n",
        "\n",
        "Convert the musical scores into a format suitable for deep learning models. This involves converting the musical scores into MIDI files and applying data augmentation techniques. Feature extraction happens for notes, chords, etc. We parsed the MIDI files to extract musical notes/chords, and then built a vocabulary, converting into sequences that the model can process."
      ],
      "metadata": {
        "id": "ojV-HEdkA_3Y"
      }
    },
    {
      "cell_type": "code",
      "source": [
        "!pip install music21\n",
        "!pip install mido"
      ],
      "metadata": {
        "colab": {
          "base_uri": "https://localhost:8080/"
        },
        "id": "ZGApEREeBAC8",
        "outputId": "d941e2df-9ef2-4428-a5e5-9a780cd59e45"
      },
      "execution_count": 3,
      "outputs": [
        {
          "output_type": "stream",
          "name": "stdout",
          "text": [
            "Requirement already satisfied: music21 in /usr/local/lib/python3.11/dist-packages (9.3.0)\n",
            "Requirement already satisfied: chardet in /usr/local/lib/python3.11/dist-packages (from music21) (5.2.0)\n",
            "Requirement already satisfied: joblib in /usr/local/lib/python3.11/dist-packages (from music21) (1.5.1)\n",
            "Requirement already satisfied: jsonpickle in /usr/local/lib/python3.11/dist-packages (from music21) (4.1.1)\n",
            "Requirement already satisfied: matplotlib in /usr/local/lib/python3.11/dist-packages (from music21) (3.10.0)\n",
            "Requirement already satisfied: more-itertools in /usr/local/lib/python3.11/dist-packages (from music21) (10.7.0)\n",
            "Requirement already satisfied: numpy in /usr/local/lib/python3.11/dist-packages (from music21) (2.0.2)\n",
            "Requirement already satisfied: requests in /usr/local/lib/python3.11/dist-packages (from music21) (2.32.3)\n",
            "Requirement already satisfied: webcolors>=1.5 in /usr/local/lib/python3.11/dist-packages (from music21) (24.11.1)\n",
            "Requirement already satisfied: contourpy>=1.0.1 in /usr/local/lib/python3.11/dist-packages (from matplotlib->music21) (1.3.3)\n",
            "Requirement already satisfied: cycler>=0.10 in /usr/local/lib/python3.11/dist-packages (from matplotlib->music21) (0.12.1)\n",
            "Requirement already satisfied: fonttools>=4.22.0 in /usr/local/lib/python3.11/dist-packages (from matplotlib->music21) (4.59.0)\n",
            "Requirement already satisfied: kiwisolver>=1.3.1 in /usr/local/lib/python3.11/dist-packages (from matplotlib->music21) (1.4.8)\n",
            "Requirement already satisfied: packaging>=20.0 in /usr/local/lib/python3.11/dist-packages (from matplotlib->music21) (25.0)\n",
            "Requirement already satisfied: pillow>=8 in /usr/local/lib/python3.11/dist-packages (from matplotlib->music21) (11.3.0)\n",
            "Requirement already satisfied: pyparsing>=2.3.1 in /usr/local/lib/python3.11/dist-packages (from matplotlib->music21) (3.2.3)\n",
            "Requirement already satisfied: python-dateutil>=2.7 in /usr/local/lib/python3.11/dist-packages (from matplotlib->music21) (2.9.0.post0)\n",
            "Requirement already satisfied: charset-normalizer<4,>=2 in /usr/local/lib/python3.11/dist-packages (from requests->music21) (3.4.2)\n",
            "Requirement already satisfied: idna<4,>=2.5 in /usr/local/lib/python3.11/dist-packages (from requests->music21) (3.10)\n",
            "Requirement already satisfied: urllib3<3,>=1.21.1 in /usr/local/lib/python3.11/dist-packages (from requests->music21) (2.5.0)\n",
            "Requirement already satisfied: certifi>=2017.4.17 in /usr/local/lib/python3.11/dist-packages (from requests->music21) (2025.8.3)\n",
            "Requirement already satisfied: six>=1.5 in /usr/local/lib/python3.11/dist-packages (from python-dateutil>=2.7->matplotlib->music21) (1.17.0)\n",
            "Collecting mido\n",
            "  Downloading mido-1.3.3-py3-none-any.whl.metadata (6.4 kB)\n",
            "Requirement already satisfied: packaging in /usr/local/lib/python3.11/dist-packages (from mido) (25.0)\n",
            "Downloading mido-1.3.3-py3-none-any.whl (54 kB)\n",
            "\u001b[2K   \u001b[90m━━━━━━━━━━━━━━━━━━━━━━━━━━━━━━━━━━━━━━━━\u001b[0m \u001b[32m54.6/54.6 kB\u001b[0m \u001b[31m436.7 kB/s\u001b[0m eta \u001b[36m0:00:00\u001b[0m\n",
            "\u001b[?25hInstalling collected packages: mido\n",
            "Successfully installed mido-1.3.3\n"
          ]
        }
      ]
    },
    {
      "cell_type": "code",
      "source": [
        "#\n",
        "# A script for preprocessing MIDI files for composer identification.\n",
        "#\n",
        "# Major Improvements:\n",
        "# 1. Enriched Features: Extracts not just notes, but also duration and velocity (dynamics)\n",
        "#    to create a much richer representation of musical style.\n",
        "# 2. Correct Data Handling for NNs: Prepares integer-encoded sequences for use with\n",
        "#    an Embedding layer, which is the correct approach for categorical data.\n",
        "# 3. Robust Vocabulary: Builds a vocabulary only from the training set to prevent\n",
        "#    data leakage and filters out rare events to reduce noise.\n",
        "#\n",
        "import mido\n",
        "import music21\n",
        "from pathlib import Path\n",
        "from collections import Counter\n",
        "from multiprocessing import Pool, cpu_count\n",
        "import numpy as np\n",
        "from sklearn.model_selection import train_test_split\n",
        "import tensorflow as tf\n",
        "\n",
        "# --- Configuration ---\n",
        "MIDI_ROOT_DIR = '/content/midi_classic_music/midiclassics/'\n",
        "SEQUENCE_LENGTH = 100 # The length of a sequence fed to the model\n",
        "MIN_VOCAB_FREQUENCY = 10 # Minimum times an event must appear to be in the vocabulary\n",
        "UNKNOWN_TOKEN = '<UNK>' # Token for events not in the vocabulary\n",
        "\n",
        "print(\"Pre-computing MIDI note names for optimization\")\n",
        "MIDI_NOTE_TO_NAME = {}\n",
        "PITCH_NAMES = ['C', 'C#', 'D', 'D#', 'E', 'F', 'F#', 'G', 'G#', 'A', 'A#', 'B']\n",
        "for midi_note in range(128):\n",
        "    # The formula for MIDI octave is (note // 12) - 1\n",
        "    octave = (midi_note // 12) - 1\n",
        "    # The pitch name is the remainder when divided by 12\n",
        "    pitch = PITCH_NAMES[midi_note % 12]\n",
        "    MIDI_NOTE_TO_NAME[midi_note] = f\"{pitch}{octave}\"\n",
        "# created lookup table to improve speed of parsing\n",
        "\n",
        "# --- Helper Functions for Feature Extraction ---\n",
        "def quantize_duration(delta_time):\n",
        "    \"\"\"Quantizes a time delta (in seconds) into discrete categories.\"\"\"\n",
        "    if delta_time < 0.03:\n",
        "        return 'grace'  # Very short, like a grace note\n",
        "    if delta_time < 0.1:\n",
        "        return '32nd'\n",
        "    if delta_time < 0.2:\n",
        "        return '16th'\n",
        "    if delta_time < 0.4:\n",
        "        return '8th'\n",
        "    if delta_time < 0.8:\n",
        "        return 'quarter'\n",
        "    if delta_time < 1.5:\n",
        "        return 'half'\n",
        "    return 'whole'\n",
        "\n",
        "def quantize_velocity(velocity):\n",
        "    \"\"\"Quantizes a MIDI velocity (0-127) into discrete categories.\"\"\"\n",
        "    if velocity < 35:\n",
        "        return 'pianissimo' # pp\n",
        "    if velocity < 60:\n",
        "        return 'piano' # p\n",
        "    if velocity < 85:\n",
        "        return 'mezzo-forte' # mf\n",
        "    if velocity < 110:\n",
        "        return 'forte' # f\n",
        "    return 'fortissimo' # ff\n",
        "\n",
        "def get_songs_by_composer(root_dir):\n",
        "    \"\"\"Finds all MIDI files and groups them by composer from the directory structure.\"\"\"\n",
        "    songs_dict = {}\n",
        "    root_path = Path(root_dir)\n",
        "    for composer_path in root_path.iterdir():\n",
        "        if composer_path.is_dir():\n",
        "            composer_name = composer_path.name.lower()\n",
        "            # CORRECTED: Use *.mid to find MIDI files, not .mid\n",
        "            songs_dict[composer_name] = list(composer_path.glob('**/*.mid'))\n",
        "    return songs_dict\n",
        "\n",
        "def parse_rich_features_from_file(file_path):\n",
        "    \"\"\"\n",
        "    Parses a MIDI file to extract rich musical events.\n",
        "    An event is a combination of pitch, duration, and velocity.\n",
        "    \"\"\"\n",
        "    events = []\n",
        "    try:\n",
        "        midi_file = mido.MidiFile(file_path)\n",
        "\n",
        "        # initialize lists\n",
        "        current_notes = []\n",
        "        current_velocities = []\n",
        "        # We process events in \"time steps\". A time step contains all notes that start simultaneously.\n",
        "        for msg in mido.merge_tracks(midi_file.tracks):\n",
        "            # A delta time > 0 means we have moved to a new time step.\n",
        "            if msg.time > 0:\n",
        "                # Get the quantized duration from the delta time of the current message\n",
        "                duration = quantize_duration(msg.time)\n",
        "\n",
        "                # The notes being processed are from the previous time step.\n",
        "                # We now know their duration, so we can create the event string.\n",
        "                if current_notes:\n",
        "                    avg_velocity = quantize_velocity(np.mean(current_velocities))\n",
        "                    current_notes.sort()\n",
        "                    note_str = '.'.join(current_notes)\n",
        "\n",
        "                    event_str = f\"p={note_str}_d={duration}_v={avg_velocity}\"\n",
        "                    events.append(event_str)\n",
        "\n",
        "                    # Reset for the new time step\n",
        "                    current_notes = []\n",
        "                    current_velocities = []\n",
        "\n",
        "            # Capture all notes that are \"note_on\" at the current time step\n",
        "            if msg.type == 'note_on' and msg.velocity > 0:\n",
        "                pitch_name = MIDI_NOTE_TO_NAME[msg.note]\n",
        "                current_notes.append(pitch_name)\n",
        "                current_velocities.append(msg.velocity)\n",
        "\n",
        "    except Exception as e:\n",
        "        print(f\" - Could not parse {file_path}: {e}\")\n",
        "\n",
        "    return events\n",
        "\n",
        "\n",
        "def create_sequences_from_file_dict(file_dict, file_to_events_map, event_to_int, composer_map, sequence_length, step=10):\n",
        "    \"\"\"\n",
        "    Creates integer sequences from a dictionary of files.\n",
        "\n",
        "    OPTIMIZED with a step parameter to generate fewer, less-redundant sequences.\n",
        "    \"\"\"\n",
        "    network_input, network_output = [], []\n",
        "    unk_token_int = event_to_int.get(UNKNOWN_TOKEN)\n",
        "\n",
        "    for composer_name, song_files in file_dict.items():\n",
        "        composer_id = composer_map[composer_name]\n",
        "\n",
        "        for song_file in song_files:\n",
        "            events_in_song = file_to_events_map.get(song_file, [])\n",
        "\n",
        "            if len(events_in_song) > sequence_length:\n",
        "                # sliding window\n",
        "                for i in range(0, len(events_in_song) - sequence_length, step):\n",
        "                    sequence_in = events_in_song[i : i + sequence_length]\n",
        "                    int_sequence = [event_to_int.get(event, unk_token_int) for event in sequence_in]\n",
        "\n",
        "                    if None not in int_sequence:\n",
        "                        network_input.append(int_sequence)\n",
        "                        network_output.append(composer_id)\n",
        "\n",
        "    return network_input, network_output\n",
        "\n",
        "# --- Main Execution Block ---\n",
        "if __name__ == '__main__':\n",
        "    # Step 1: Discover files and create train/validation split\n",
        "    # We split by files (musical works) BEFORE any processing to prevent data leakage.\n",
        "    print(\"Step 1: Finding MIDI files and creating train/val split...\")\n",
        "    songs_dict = get_songs_by_composer(MIDI_ROOT_DIR)\n",
        "\n",
        "    all_composers = sorted(songs_dict.keys())\n",
        "    composer_map = {name: i for i, name in enumerate(all_composers)}\n",
        "    num_classes = len(all_composers)\n",
        "\n",
        "    train_files, val_files = {}, {}\n",
        "    for composer, files in songs_dict.items():\n",
        "        if len(files) > 1:\n",
        "            train_f, val_f = train_test_split(files, test_size=0.2, random_state=42)\n",
        "            train_files[composer] = train_f\n",
        "            val_files[composer] = val_f\n",
        "    print(\"Train/Validation split complete.\")\n",
        "\n",
        "    # Step 2: Parse all MIDI files to extract rich features in parallel\n",
        "    print(f\"\\nStep 2: Parsing all MIDI files with {cpu_count()} cores...\")\n",
        "    all_files = [f for files in songs_dict.values() for f in files]\n",
        "    with Pool() as pool:\n",
        "        all_event_lists = pool.map(parse_rich_features_from_file, all_files)\n",
        "    file_to_events_map = dict(zip(all_files, all_event_lists))\n",
        "    print(\"Parsing complete.\")\n",
        "\n",
        "    # Step 3: Build a robust vocabulary from the TRAINING data ONLY\n",
        "    print(\"\\nStep 3: Building vocabulary from training data...\")\n",
        "    train_files_flat = [f for files in train_files.values() for f in files]\n",
        "    train_events = [event for f in train_files_flat for event in file_to_events_map[f]]\n",
        "\n",
        "    event_counts = Counter(train_events)\n",
        "\n",
        "    # Filter vocabulary to include only events that appear frequently enough\n",
        "    original_vocab_size = len(event_counts)\n",
        "    filtered_events = [event for event, count in event_counts.items() if count >= MIN_VOCAB_FREQUENCY]\n",
        "\n",
        "    # Create the final vocabulary and mappings\n",
        "    vocab = [UNKNOWN_TOKEN] + filtered_events\n",
        "    n_vocab = len(vocab)\n",
        "    event_to_int = {event: i for i, event in enumerate(vocab)}\n",
        "\n",
        "    print(f\"Vocabulary built. Original size: {original_vocab_size}, Filtered size: {n_vocab}\")\n",
        "    print(\"Example event string:\", np.random.choice(filtered_events))\n",
        "\n",
        "    # Step 4: Create training and validation sequences\n",
        "    print(\"\\nStep 4: Creating integer sequences for training and validation...\")\n",
        "    train_input, train_output = create_sequences_from_file_dict(\n",
        "        train_files, file_to_events_map, event_to_int, composer_map, SEQUENCE_LENGTH\n",
        "    )\n",
        "    val_input, val_output = create_sequences_from_file_dict(\n",
        "        val_files, file_to_events_map, event_to_int, composer_map, SEQUENCE_LENGTH\n",
        "    )\n",
        "\n",
        "    # Step 5: Final data preparation for the model\n",
        "    # The data is now integer-encoded.\n",
        "    train_input = np.array(train_input)\n",
        "    train_output = tf.keras.utils.to_categorical(np.array(train_output), num_classes=num_classes)\n",
        "    val_input = np.array(val_input)\n",
        "    val_output = tf.keras.utils.to_categorical(np.array(val_output), num_classes=num_classes)"
      ],
      "metadata": {
        "colab": {
          "base_uri": "https://localhost:8080/"
        },
        "id": "7Zq3XLpagew3",
        "outputId": "c1e025f4-8a60-4ad7-d926-5bd1884d07cd"
      },
      "execution_count": 4,
      "outputs": [
        {
          "output_type": "stream",
          "name": "stdout",
          "text": [
            "Pre-computing MIDI note names for optimization\n",
            "Step 1: Finding MIDI files and creating train/val split...\n",
            "Train/Validation split complete.\n",
            "\n",
            "Step 2: Parsing all MIDI files with 8 cores...\n",
            " - Could not parse /content/midi_classic_music/midiclassics/Beethoven/Anhang 14-3.mid: Could not decode key with 3 flats and mode 255\n",
            "Parsing complete.\n",
            "\n",
            "Step 3: Building vocabulary from training data...\n",
            "Vocabulary built. Original size: 69518, Filtered size: 5219\n",
            "Example event string: p=A#4.F#3_d=whole_v=forte\n",
            "\n",
            "Step 4: Creating integer sequences for training and validation...\n"
          ]
        }
      ]
    },
    {
      "cell_type": "markdown",
      "source": [
        "# Saving pre-processed data\n",
        "\n",
        "Saving to speed up execution later on."
      ],
      "metadata": {
        "id": "waZ7iy9YiuSZ"
      }
    },
    {
      "cell_type": "code",
      "source": [
        "# saved preprocessed data for later to save time.\n",
        "\n",
        "drive.mount('/content/drive')\n",
        "os.makedirs('/content/drive/MyDrive/AAI511_ML', exist_ok=True)\n",
        "\n",
        "# we had to go through several iterations to get this right!\n",
        "save_path = '/content/drive/MyDrive/AAI511_ML/preprocessed_composer_data_v7.npz'\n",
        "\n",
        "print(f\"\\nSaving pre-processed data to {save_path}...\")\n",
        "\n",
        "np.savez_compressed(\n",
        "        save_path,\n",
        "        train_input=train_input,\n",
        "        train_output=train_output,\n",
        "        val_input=val_input,\n",
        "        val_output=val_output,\n",
        "        event_to_int=event_to_int,\n",
        "        composer_map=composer_map,\n",
        "        n_vocab=n_vocab\n",
        "    )\n",
        "\n",
        "# old method\n",
        "# np.savez_compressed(\n",
        "#     save_path,\n",
        "#     network_input=network_input,\n",
        "#     network_output=network_output,\n",
        "#     n_vocab=np.array([n_vocab]), # Save n_vocab as a numpy array\n",
        "#     composer_map=composer_map,   # Save the composer mapping dictionary\n",
        "#     note_to_int=note_to_int      # Save the note mapping dictionary\n",
        "# )\n",
        "\n",
        "print(\"Data saved\")"
      ],
      "metadata": {
        "id": "0lbFRfu4OTzY",
        "colab": {
          "base_uri": "https://localhost:8080/"
        },
        "outputId": "5adbb767-e3a5-4533-fc09-2d29ed2e3f32"
      },
      "execution_count": 41,
      "outputs": [
        {
          "output_type": "stream",
          "name": "stdout",
          "text": [
            "Drive already mounted at /content/drive; to attempt to forcibly remount, call drive.mount(\"/content/drive\", force_remount=True).\n",
            "\n",
            "Saving pre-processed data to /content/drive/MyDrive/AAI511_ML/preprocessed_composer_data_v7.npz...\n",
            "Data saved\n"
          ]
        }
      ]
    },
    {
      "cell_type": "markdown",
      "source": [
        "## Model Training\n",
        "\n",
        "data validation - make sure the data is what we expect from the preprocessing step\n",
        "split - split into train/test/validation\n"
      ],
      "metadata": {
        "id": "NEqaj3xIQwGM"
      }
    },
    {
      "cell_type": "code",
      "source": [
        "!pip install --upgrade numpy"
      ],
      "metadata": {
        "colab": {
          "base_uri": "https://localhost:8080/",
          "height": 467
        },
        "id": "VPCrI1kiQwN-",
        "outputId": "f69d2fdf-d9ea-4567-aeda-41cc850b051e"
      },
      "execution_count": null,
      "outputs": [
        {
          "output_type": "stream",
          "name": "stdout",
          "text": [
            "Requirement already satisfied: numpy in /usr/local/lib/python3.11/dist-packages (2.0.2)\n",
            "Collecting numpy\n",
            "  Downloading numpy-2.3.2-cp311-cp311-manylinux_2_27_x86_64.manylinux_2_28_x86_64.whl.metadata (62 kB)\n",
            "\u001b[2K     \u001b[90m━━━━━━━━━━━━━━━━━━━━━━━━━━━━━━━━━━━━━━━━\u001b[0m \u001b[32m62.1/62.1 kB\u001b[0m \u001b[31m2.9 MB/s\u001b[0m eta \u001b[36m0:00:00\u001b[0m\n",
            "\u001b[?25hDownloading numpy-2.3.2-cp311-cp311-manylinux_2_27_x86_64.manylinux_2_28_x86_64.whl (16.9 MB)\n",
            "\u001b[2K   \u001b[90m━━━━━━━━━━━━━━━━━━━━━━━━━━━━━━━━━━━━━━━━\u001b[0m \u001b[32m16.9/16.9 MB\u001b[0m \u001b[31m105.0 MB/s\u001b[0m eta \u001b[36m0:00:00\u001b[0m\n",
            "\u001b[?25hInstalling collected packages: numpy\n",
            "  Attempting uninstall: numpy\n",
            "    Found existing installation: numpy 2.0.2\n",
            "    Uninstalling numpy-2.0.2:\n",
            "      Successfully uninstalled numpy-2.0.2\n",
            "\u001b[31mERROR: pip's dependency resolver does not currently take into account all the packages that are installed. This behaviour is the source of the following dependency conflicts.\n",
            "opencv-contrib-python 4.12.0.88 requires numpy<2.3.0,>=2; python_version >= \"3.9\", but you have numpy 2.3.2 which is incompatible.\n",
            "numba 0.60.0 requires numpy<2.1,>=1.22, but you have numpy 2.3.2 which is incompatible.\n",
            "opencv-python-headless 4.12.0.88 requires numpy<2.3.0,>=2; python_version >= \"3.9\", but you have numpy 2.3.2 which is incompatible.\n",
            "opencv-python 4.12.0.88 requires numpy<2.3.0,>=2; python_version >= \"3.9\", but you have numpy 2.3.2 which is incompatible.\n",
            "tensorflow 2.19.0 requires numpy<2.2.0,>=1.26.0, but you have numpy 2.3.2 which is incompatible.\n",
            "cupy-cuda12x 13.3.0 requires numpy<2.3,>=1.22, but you have numpy 2.3.2 which is incompatible.\u001b[0m\u001b[31m\n",
            "\u001b[0mSuccessfully installed numpy-2.3.2\n"
          ]
        },
        {
          "output_type": "display_data",
          "data": {
            "application/vnd.colab-display-data+json": {
              "pip_warning": {
                "packages": [
                  "numpy"
                ]
              },
              "id": "66a0087401564cc1b1ee37b67b9b7636"
            }
          },
          "metadata": {}
        }
      ]
    },
    {
      "cell_type": "code",
      "source": [
        "import numpy as np\n",
        "print(f\"NumPy version THIS session is using: {np.__version__}\")\n",
        "import os\n",
        "from google.colab import drive\n",
        "import zipfile\n",
        "\n",
        "# Mount Google Drive\n",
        "drive.mount('/content/drive')\n",
        "\n",
        "save_path = '/content/drive/MyDrive/AAI511_ML/preprocessed_composer_data_v7.npz'\n",
        "\n",
        "# print(f\"Inspecting arrays inside: {save_path}\\n\") for debugging\n",
        "\n",
        "try:\n",
        "    with zipfile.ZipFile(save_path) as zf:\n",
        "        for name in zf.namelist():\n",
        "            if not name.endswith('.npy'):\n",
        "                continue\n",
        "\n",
        "            with zf.open(name) as fp:\n",
        "                # get the file format version\n",
        "                version = np.lib.format.read_magic(fp)\n",
        "\n",
        "                # Call the correct header function based on the version\n",
        "                if version[0] == 1:\n",
        "                    shape, fortran_order, dtype = np.lib.format.read_array_header_1_0(fp)\n",
        "                elif version[0] == 2:\n",
        "                    shape, fortran_order, dtype = np.lib.format.read_array_header_2_0(fp)\n",
        "                else:\n",
        "                    print(f\"--> Array: '{name.replace('.npy', '')}' has an unsupported format version: {version}\")\n",
        "                    continue\n",
        "\n",
        "                array_name = name.replace('.npy', '')\n",
        "                # more debugging\n",
        "                # print(f\"--> Array: '{array_name}'\")\n",
        "                # print(f\"    Shape: {shape}\")\n",
        "                # print(f\"    Data Type (dtype): {dtype}\")\n",
        "                # print(\"-\" * 20)\n",
        "\n",
        "except Exception as e:\n",
        "    print(f\"An error occurred while inspecting the file: {e}\")"
      ],
      "metadata": {
        "colab": {
          "base_uri": "https://localhost:8080/"
        },
        "id": "t6r5V0qRQzCI",
        "outputId": "9394e4c0-ab6e-49a3-a569-7c3b06378bbf"
      },
      "execution_count": 6,
      "outputs": [
        {
          "output_type": "stream",
          "name": "stdout",
          "text": [
            "NumPy version THIS session is using: 2.0.2\n",
            "Drive already mounted at /content/drive; to attempt to forcibly remount, call drive.mount(\"/content/drive\", force_remount=True).\n"
          ]
        }
      ]
    },
    {
      "cell_type": "code",
      "source": [
        "import tensorflow as tf\n",
        "import numpy as np\n",
        "from sklearn.model_selection import train_test_split\n",
        "import matplotlib.pyplot as plt\n",
        "\n",
        "# Load the preprocessed data\n",
        "print(f\"Loading preprocessed data from: {save_path}\")\n",
        "with np.load(save_path, allow_pickle=True) as data:\n",
        "    train_input = data['train_input']\n",
        "    train_output = data['train_output']\n",
        "    val_input = data['val_input']\n",
        "    val_output = data['val_output']\n",
        "    composer_map = data['composer_map'].item()\n",
        "    event_to_int = data['event_to_int'].item()\n",
        "    sequence_length = train_input.shape[1]\n",
        "\n",
        "    try:\n",
        "        n_vocab = data['n_vocab'].item()\n",
        "    except KeyError:\n",
        "        # If not in npz, use note_to_int\n",
        "        print('unexpected KeyError')\n",
        "\n",
        "print(\"Data loaded!\")\n",
        "\n",
        "# Split data into training (80%) and validation (20%) sets - no longer needed as we split in the preprocessing stages\n",
        "# print(\"Splitting data into training and validation sets...\")\n",
        "# X_train, X_val, y_train, y_val = train_test_split(\n",
        "#     train_input,\n",
        "#     train_output,\n",
        "#     test_size=0.2,\n",
        "#     random_state=42, # for reproducibility\n",
        "#     stratify=train_output # Ensures same class distribution in train/val sets\n",
        "# )\n",
        "\n",
        "X_train = train_input\n",
        "y_train = train_output\n",
        "X_val = val_input\n",
        "y_val = val_output\n",
        "\n",
        "print(f\"Training samples: {len(X_train)}\")\n",
        "print(f\"Validation samples: {len(X_val)}\")\n",
        "print(f\"Number of vocab: {n_vocab}\")"
      ],
      "metadata": {
        "colab": {
          "base_uri": "https://localhost:8080/"
        },
        "id": "yAiBRXi9QzEM",
        "outputId": "a76e0ebf-f2fd-4241-9206-780e9761f37e"
      },
      "execution_count": 42,
      "outputs": [
        {
          "output_type": "stream",
          "name": "stdout",
          "text": [
            "Loading preprocessed data from: /content/drive/MyDrive/AAI511_ML/preprocessed_composer_data_v7.npz\n",
            "Data loaded!\n",
            "Training samples: 64266\n",
            "Validation samples: 16209\n",
            "Number of vocab: 5219\n"
          ]
        }
      ]
    },
    {
      "cell_type": "code",
      "source": [
        "def create_optimized_dataset(features, labels, batch_size=64, is_training=True):\n",
        "    \"\"\"Create an optimized dataset.\"\"\"\n",
        "    dataset = tf.data.Dataset.from_tensor_slices((features, labels))\n",
        "    if is_training:\n",
        "        dataset = dataset.shuffle(len(features), reshuffle_each_iteration=True)\n",
        "\n",
        "    dataset = dataset.batch(batch_size)\n",
        "    dataset = dataset.prefetch(tf.data.AUTOTUNE)\n",
        "    return dataset\n",
        "\n",
        "# Create the datasets\n",
        "BATCH_SIZE = 128\n",
        "train_dataset = create_optimized_dataset(X_train, y_train, batch_size=BATCH_SIZE)\n",
        "validation_dataset = create_optimized_dataset(X_val, y_val, batch_size=BATCH_SIZE, is_training=False)\n",
        "\n",
        "print(\"\\nTensorFlow datasets created.\")"
      ],
      "metadata": {
        "colab": {
          "base_uri": "https://localhost:8080/"
        },
        "id": "69f08iXZQzGU",
        "outputId": "0853b1f5-ed89-4404-b4ea-6f0f87d0275e"
      },
      "execution_count": 13,
      "outputs": [
        {
          "output_type": "stream",
          "name": "stdout",
          "text": [
            "\n",
            "TensorFlow datasets created.\n"
          ]
        }
      ]
    },
    {
      "cell_type": "markdown",
      "source": [
        "## Define/Compile LSTM-CNN Model"
      ],
      "metadata": {
        "id": "IzmPexdZQ7F0"
      }
    },
    {
      "cell_type": "code",
      "source": [
        "# original\n",
        "# def build_cnn_lstm_model(input_shape, num_classes):\n",
        "#     \"\"\"Builds a hybrid CNN-LSTM model for sequence classification.\"\"\"\n",
        "#     model = tf.keras.Sequential([\n",
        "#         # Input Layer\n",
        "#         tf.keras.layers.Input(shape=input_shape),\n",
        "\n",
        "#         # 1. CNN Block: To find local musical patterns\n",
        "#         tf.keras.layers.Conv1D(filters=128, kernel_size=5, activation='relu', padding='causal'),\n",
        "#         tf.keras.layers.MaxPooling1D(pool_size=2),\n",
        "#         tf.keras.layers.Dropout(0.2),\n",
        "\n",
        "#         # 2. LSTM Block: To learn long-term structure\n",
        "#         tf.keras.layers.LSTM(256, return_sequences=False),\n",
        "#         tf.keras.layers.Dropout(0.3),\n",
        "\n",
        "#         # 3. Classification\n",
        "#         tf.keras.layers.Dense(128, activation='relu'),\n",
        "#         tf.keras.layers.Dense(num_classes, activation='softmax') # Softmax for multi-class classification\n",
        "#     ])\n",
        "#     return model\n",
        "\n",
        "# --- Updated Model Definition ---\n",
        "def build_cnn_lstm_model(input_shape, num_classes, n_vocab):\n",
        "    \"\"\"\n",
        "    Builds a hybrid CNN-LSTM model with an Embedding layer.\n",
        "    This is the CORRECT way to process categorical sequence data.\n",
        "    \"\"\"\n",
        "    model = tf.keras.Sequential([\n",
        "        # The input_shape is now just the sequence length, e.g., (100,)\n",
        "        tf.keras.layers.Input(shape=input_shape),\n",
        "\n",
        "        # 1. Embedding Layer\n",
        "        # This layer turns integer IDs into dense vectors.\n",
        "        # It learns relationships between musical events.\n",
        "        # input_dim: The size of our vocabulary (n_vocab)\n",
        "        # output_dim: The size of the vector for each event (a hyperparameter)\n",
        "        tf.keras.layers.Embedding(input_dim=n_vocab, output_dim=128),\n",
        "\n",
        "        # 2. CNN Block (operates on the learned embeddings)\n",
        "        tf.keras.layers.Conv1D(filters=128, kernel_size=5, activation='relu', padding='causal',\n",
        "                               kernel_regularizer=tf.keras.regularizers.l2(0.001)),\n",
        "        tf.keras.layers.MaxPooling1D(pool_size=2),\n",
        "        tf.keras.layers.Dropout(0.25),\n",
        "\n",
        "        # 3. LSTM Block\n",
        "        tf.keras.layers.LSTM(256, return_sequences=False,\n",
        "                             kernel_regularizer=tf.keras.regularizers.l2(0.001)),\n",
        "        tf.keras.layers.Dropout(0.35),\n",
        "\n",
        "        # 4. Classification Head\n",
        "        tf.keras.layers.Dense(128, activation='relu',\n",
        "                              kernel_regularizer=tf.keras.regularizers.l2(0.001)),\n",
        "        tf.keras.layers.Dense(num_classes, activation='softmax')\n",
        "    ])\n",
        "    return model\n",
        "\n",
        "# Get model parameters from the data\n",
        "input_shape = X_train.shape[1:]\n",
        "num_classes = len(np.unique(train_output))\n",
        "print(len(np.unique(train_output)))\n",
        "print(composer_map)\n",
        "\n",
        "# Build and compile the model\n",
        "print(\"\\nBuilding and compiling the model...\")\n",
        "model = build_cnn_lstm_model(input_shape=input_shape, num_classes=4, n_vocab=n_vocab) # 4 is the num composers\n",
        "\n",
        "model.compile(\n",
        "    optimizer=tf.keras.optimizers.Adam(learning_rate=0.001), # adjusted learning rate after some attempts\n",
        "    loss='categorical_crossentropy', # Use this for integer labels\n",
        "    metrics=['accuracy']\n",
        ")\n",
        "\n",
        "model.summary()"
      ],
      "metadata": {
        "colab": {
          "base_uri": "https://localhost:8080/",
          "height": 460
        },
        "id": "I0ZMzzDZQzIU",
        "outputId": "9b01d5d0-0c13-465d-ab87-9e9553224775"
      },
      "execution_count": 20,
      "outputs": [
        {
          "output_type": "stream",
          "name": "stdout",
          "text": [
            "2\n",
            "{'bach': 0, 'beethoven': 1, 'chopin': 2, 'mozart': 3}\n",
            "\n",
            "Building and compiling the model...\n"
          ]
        },
        {
          "output_type": "display_data",
          "data": {
            "text/plain": [
              "\u001b[1mModel: \"sequential_3\"\u001b[0m\n"
            ],
            "text/html": [
              "<pre style=\"white-space:pre;overflow-x:auto;line-height:normal;font-family:Menlo,'DejaVu Sans Mono',consolas,'Courier New',monospace\"><span style=\"font-weight: bold\">Model: \"sequential_3\"</span>\n",
              "</pre>\n"
            ]
          },
          "metadata": {}
        },
        {
          "output_type": "display_data",
          "data": {
            "text/plain": [
              "┏━━━━━━━━━━━━━━━━━━━━━━━━━━━━━━━━━┳━━━━━━━━━━━━━━━━━━━━━━━━┳━━━━━━━━━━━━━━━┓\n",
              "┃\u001b[1m \u001b[0m\u001b[1mLayer (type)                   \u001b[0m\u001b[1m \u001b[0m┃\u001b[1m \u001b[0m\u001b[1mOutput Shape          \u001b[0m\u001b[1m \u001b[0m┃\u001b[1m \u001b[0m\u001b[1m      Param #\u001b[0m\u001b[1m \u001b[0m┃\n",
              "┡━━━━━━━━━━━━━━━━━━━━━━━━━━━━━━━━━╇━━━━━━━━━━━━━━━━━━━━━━━━╇━━━━━━━━━━━━━━━┩\n",
              "│ embedding_3 (\u001b[38;5;33mEmbedding\u001b[0m)         │ (\u001b[38;5;45mNone\u001b[0m, \u001b[38;5;34m100\u001b[0m, \u001b[38;5;34m128\u001b[0m)       │       \u001b[38;5;34m668,032\u001b[0m │\n",
              "├─────────────────────────────────┼────────────────────────┼───────────────┤\n",
              "│ conv1d_3 (\u001b[38;5;33mConv1D\u001b[0m)               │ (\u001b[38;5;45mNone\u001b[0m, \u001b[38;5;34m100\u001b[0m, \u001b[38;5;34m128\u001b[0m)       │        \u001b[38;5;34m82,048\u001b[0m │\n",
              "├─────────────────────────────────┼────────────────────────┼───────────────┤\n",
              "│ max_pooling1d_3 (\u001b[38;5;33mMaxPooling1D\u001b[0m)  │ (\u001b[38;5;45mNone\u001b[0m, \u001b[38;5;34m50\u001b[0m, \u001b[38;5;34m128\u001b[0m)        │             \u001b[38;5;34m0\u001b[0m │\n",
              "├─────────────────────────────────┼────────────────────────┼───────────────┤\n",
              "│ dropout_6 (\u001b[38;5;33mDropout\u001b[0m)             │ (\u001b[38;5;45mNone\u001b[0m, \u001b[38;5;34m50\u001b[0m, \u001b[38;5;34m128\u001b[0m)        │             \u001b[38;5;34m0\u001b[0m │\n",
              "├─────────────────────────────────┼────────────────────────┼───────────────┤\n",
              "│ lstm_3 (\u001b[38;5;33mLSTM\u001b[0m)                   │ (\u001b[38;5;45mNone\u001b[0m, \u001b[38;5;34m256\u001b[0m)            │       \u001b[38;5;34m394,240\u001b[0m │\n",
              "├─────────────────────────────────┼────────────────────────┼───────────────┤\n",
              "│ dropout_7 (\u001b[38;5;33mDropout\u001b[0m)             │ (\u001b[38;5;45mNone\u001b[0m, \u001b[38;5;34m256\u001b[0m)            │             \u001b[38;5;34m0\u001b[0m │\n",
              "├─────────────────────────────────┼────────────────────────┼───────────────┤\n",
              "│ dense_6 (\u001b[38;5;33mDense\u001b[0m)                 │ (\u001b[38;5;45mNone\u001b[0m, \u001b[38;5;34m128\u001b[0m)            │        \u001b[38;5;34m32,896\u001b[0m │\n",
              "├─────────────────────────────────┼────────────────────────┼───────────────┤\n",
              "│ dense_7 (\u001b[38;5;33mDense\u001b[0m)                 │ (\u001b[38;5;45mNone\u001b[0m, \u001b[38;5;34m4\u001b[0m)              │           \u001b[38;5;34m516\u001b[0m │\n",
              "└─────────────────────────────────┴────────────────────────┴───────────────┘\n"
            ],
            "text/html": [
              "<pre style=\"white-space:pre;overflow-x:auto;line-height:normal;font-family:Menlo,'DejaVu Sans Mono',consolas,'Courier New',monospace\">┏━━━━━━━━━━━━━━━━━━━━━━━━━━━━━━━━━┳━━━━━━━━━━━━━━━━━━━━━━━━┳━━━━━━━━━━━━━━━┓\n",
              "┃<span style=\"font-weight: bold\"> Layer (type)                    </span>┃<span style=\"font-weight: bold\"> Output Shape           </span>┃<span style=\"font-weight: bold\">       Param # </span>┃\n",
              "┡━━━━━━━━━━━━━━━━━━━━━━━━━━━━━━━━━╇━━━━━━━━━━━━━━━━━━━━━━━━╇━━━━━━━━━━━━━━━┩\n",
              "│ embedding_3 (<span style=\"color: #0087ff; text-decoration-color: #0087ff\">Embedding</span>)         │ (<span style=\"color: #00d7ff; text-decoration-color: #00d7ff\">None</span>, <span style=\"color: #00af00; text-decoration-color: #00af00\">100</span>, <span style=\"color: #00af00; text-decoration-color: #00af00\">128</span>)       │       <span style=\"color: #00af00; text-decoration-color: #00af00\">668,032</span> │\n",
              "├─────────────────────────────────┼────────────────────────┼───────────────┤\n",
              "│ conv1d_3 (<span style=\"color: #0087ff; text-decoration-color: #0087ff\">Conv1D</span>)               │ (<span style=\"color: #00d7ff; text-decoration-color: #00d7ff\">None</span>, <span style=\"color: #00af00; text-decoration-color: #00af00\">100</span>, <span style=\"color: #00af00; text-decoration-color: #00af00\">128</span>)       │        <span style=\"color: #00af00; text-decoration-color: #00af00\">82,048</span> │\n",
              "├─────────────────────────────────┼────────────────────────┼───────────────┤\n",
              "│ max_pooling1d_3 (<span style=\"color: #0087ff; text-decoration-color: #0087ff\">MaxPooling1D</span>)  │ (<span style=\"color: #00d7ff; text-decoration-color: #00d7ff\">None</span>, <span style=\"color: #00af00; text-decoration-color: #00af00\">50</span>, <span style=\"color: #00af00; text-decoration-color: #00af00\">128</span>)        │             <span style=\"color: #00af00; text-decoration-color: #00af00\">0</span> │\n",
              "├─────────────────────────────────┼────────────────────────┼───────────────┤\n",
              "│ dropout_6 (<span style=\"color: #0087ff; text-decoration-color: #0087ff\">Dropout</span>)             │ (<span style=\"color: #00d7ff; text-decoration-color: #00d7ff\">None</span>, <span style=\"color: #00af00; text-decoration-color: #00af00\">50</span>, <span style=\"color: #00af00; text-decoration-color: #00af00\">128</span>)        │             <span style=\"color: #00af00; text-decoration-color: #00af00\">0</span> │\n",
              "├─────────────────────────────────┼────────────────────────┼───────────────┤\n",
              "│ lstm_3 (<span style=\"color: #0087ff; text-decoration-color: #0087ff\">LSTM</span>)                   │ (<span style=\"color: #00d7ff; text-decoration-color: #00d7ff\">None</span>, <span style=\"color: #00af00; text-decoration-color: #00af00\">256</span>)            │       <span style=\"color: #00af00; text-decoration-color: #00af00\">394,240</span> │\n",
              "├─────────────────────────────────┼────────────────────────┼───────────────┤\n",
              "│ dropout_7 (<span style=\"color: #0087ff; text-decoration-color: #0087ff\">Dropout</span>)             │ (<span style=\"color: #00d7ff; text-decoration-color: #00d7ff\">None</span>, <span style=\"color: #00af00; text-decoration-color: #00af00\">256</span>)            │             <span style=\"color: #00af00; text-decoration-color: #00af00\">0</span> │\n",
              "├─────────────────────────────────┼────────────────────────┼───────────────┤\n",
              "│ dense_6 (<span style=\"color: #0087ff; text-decoration-color: #0087ff\">Dense</span>)                 │ (<span style=\"color: #00d7ff; text-decoration-color: #00d7ff\">None</span>, <span style=\"color: #00af00; text-decoration-color: #00af00\">128</span>)            │        <span style=\"color: #00af00; text-decoration-color: #00af00\">32,896</span> │\n",
              "├─────────────────────────────────┼────────────────────────┼───────────────┤\n",
              "│ dense_7 (<span style=\"color: #0087ff; text-decoration-color: #0087ff\">Dense</span>)                 │ (<span style=\"color: #00d7ff; text-decoration-color: #00d7ff\">None</span>, <span style=\"color: #00af00; text-decoration-color: #00af00\">4</span>)              │           <span style=\"color: #00af00; text-decoration-color: #00af00\">516</span> │\n",
              "└─────────────────────────────────┴────────────────────────┴───────────────┘\n",
              "</pre>\n"
            ]
          },
          "metadata": {}
        },
        {
          "output_type": "display_data",
          "data": {
            "text/plain": [
              "\u001b[1m Total params: \u001b[0m\u001b[38;5;34m1,177,732\u001b[0m (4.49 MB)\n"
            ],
            "text/html": [
              "<pre style=\"white-space:pre;overflow-x:auto;line-height:normal;font-family:Menlo,'DejaVu Sans Mono',consolas,'Courier New',monospace\"><span style=\"font-weight: bold\"> Total params: </span><span style=\"color: #00af00; text-decoration-color: #00af00\">1,177,732</span> (4.49 MB)\n",
              "</pre>\n"
            ]
          },
          "metadata": {}
        },
        {
          "output_type": "display_data",
          "data": {
            "text/plain": [
              "\u001b[1m Trainable params: \u001b[0m\u001b[38;5;34m1,177,732\u001b[0m (4.49 MB)\n"
            ],
            "text/html": [
              "<pre style=\"white-space:pre;overflow-x:auto;line-height:normal;font-family:Menlo,'DejaVu Sans Mono',consolas,'Courier New',monospace\"><span style=\"font-weight: bold\"> Trainable params: </span><span style=\"color: #00af00; text-decoration-color: #00af00\">1,177,732</span> (4.49 MB)\n",
              "</pre>\n"
            ]
          },
          "metadata": {}
        },
        {
          "output_type": "display_data",
          "data": {
            "text/plain": [
              "\u001b[1m Non-trainable params: \u001b[0m\u001b[38;5;34m0\u001b[0m (0.00 B)\n"
            ],
            "text/html": [
              "<pre style=\"white-space:pre;overflow-x:auto;line-height:normal;font-family:Menlo,'DejaVu Sans Mono',consolas,'Courier New',monospace\"><span style=\"font-weight: bold\"> Non-trainable params: </span><span style=\"color: #00af00; text-decoration-color: #00af00\">0</span> (0.00 B)\n",
              "</pre>\n"
            ]
          },
          "metadata": {}
        }
      ]
    },
    {
      "cell_type": "code",
      "source": [
        "# Add a callback to stop training early if performance plateaus\n",
        "early_stopping = tf.keras.callbacks.EarlyStopping(\n",
        "    monitor='val_loss',  # Monitor the validation loss\n",
        "    patience=5,          # Stop after 5 epochs with no improvement\n",
        "    restore_best_weights=True # Restore the best model weights found\n",
        ")\n",
        "\n",
        "print(\"\\nStarting model training...\")\n",
        "history = model.fit(\n",
        "    train_dataset,\n",
        "    epochs=40, # Set a high number, early stopping will find the best epoch\n",
        "    validation_data=validation_dataset,\n",
        "    callbacks=[early_stopping]#,\n",
        "    # verbose=0 # to keep code clean\n",
        ")\n",
        "print(\"\\nModel training complete\")"
      ],
      "metadata": {
        "colab": {
          "base_uri": "https://localhost:8080/"
        },
        "id": "EYkx3OcyQzKi",
        "outputId": "2b811546-eb81-4d7c-f3b4-37d8d109f650"
      },
      "execution_count": 25,
      "outputs": [
        {
          "output_type": "stream",
          "name": "stdout",
          "text": [
            "\n",
            "Starting model training...\n",
            "Epoch 1/40\n",
            "\u001b[1m503/503\u001b[0m \u001b[32m━━━━━━━━━━━━━━━━━━━━\u001b[0m\u001b[37m\u001b[0m \u001b[1m7s\u001b[0m 15ms/step - accuracy: 0.9941 - loss: 0.0525 - val_accuracy: 0.6081 - val_loss: 2.1882\n",
            "Epoch 2/40\n",
            "\u001b[1m503/503\u001b[0m \u001b[32m━━━━━━━━━━━━━━━━━━━━\u001b[0m\u001b[37m\u001b[0m \u001b[1m7s\u001b[0m 14ms/step - accuracy: 0.9898 - loss: 0.0686 - val_accuracy: 0.6034 - val_loss: 2.1765\n",
            "Epoch 3/40\n",
            "\u001b[1m503/503\u001b[0m \u001b[32m━━━━━━━━━━━━━━━━━━━━\u001b[0m\u001b[37m\u001b[0m \u001b[1m7s\u001b[0m 14ms/step - accuracy: 0.9944 - loss: 0.0492 - val_accuracy: 0.6380 - val_loss: 2.1884\n",
            "Epoch 4/40\n",
            "\u001b[1m503/503\u001b[0m \u001b[32m━━━━━━━━━━━━━━━━━━━━\u001b[0m\u001b[37m\u001b[0m \u001b[1m7s\u001b[0m 14ms/step - accuracy: 0.9959 - loss: 0.0409 - val_accuracy: 0.5837 - val_loss: 2.9017\n",
            "Epoch 5/40\n",
            "\u001b[1m503/503\u001b[0m \u001b[32m━━━━━━━━━━━━━━━━━━━━\u001b[0m\u001b[37m\u001b[0m \u001b[1m7s\u001b[0m 14ms/step - accuracy: 0.9856 - loss: 0.0861 - val_accuracy: 0.6433 - val_loss: 2.3460\n",
            "Epoch 6/40\n",
            "\u001b[1m503/503\u001b[0m \u001b[32m━━━━━━━━━━━━━━━━━━━━\u001b[0m\u001b[37m\u001b[0m \u001b[1m7s\u001b[0m 15ms/step - accuracy: 0.9957 - loss: 0.0428 - val_accuracy: 0.5974 - val_loss: 2.3641\n",
            "Epoch 7/40\n",
            "\u001b[1m503/503\u001b[0m \u001b[32m━━━━━━━━━━━━━━━━━━━━\u001b[0m\u001b[37m\u001b[0m \u001b[1m7s\u001b[0m 15ms/step - accuracy: 0.9950 - loss: 0.0427 - val_accuracy: 0.6153 - val_loss: 2.7053\n",
            "\n",
            "Model training complete\n"
          ]
        }
      ]
    },
    {
      "cell_type": "code",
      "source": [
        "!pip install keras-tuner"
      ],
      "metadata": {
        "colab": {
          "base_uri": "https://localhost:8080/"
        },
        "id": "kIqJ5D5bq4Al",
        "outputId": "f360c0c6-344b-4e0a-9bf4-605ef4eae2c3"
      },
      "execution_count": 26,
      "outputs": [
        {
          "output_type": "stream",
          "name": "stdout",
          "text": [
            "Collecting keras-tuner\n",
            "  Downloading keras_tuner-1.4.7-py3-none-any.whl.metadata (5.4 kB)\n",
            "Requirement already satisfied: keras in /usr/local/lib/python3.11/dist-packages (from keras-tuner) (3.10.0)\n",
            "Requirement already satisfied: packaging in /usr/local/lib/python3.11/dist-packages (from keras-tuner) (25.0)\n",
            "Requirement already satisfied: requests in /usr/local/lib/python3.11/dist-packages (from keras-tuner) (2.32.3)\n",
            "Collecting kt-legacy (from keras-tuner)\n",
            "  Downloading kt_legacy-1.0.5-py3-none-any.whl.metadata (221 bytes)\n",
            "Requirement already satisfied: absl-py in /usr/local/lib/python3.11/dist-packages (from keras->keras-tuner) (1.4.0)\n",
            "Requirement already satisfied: numpy in /usr/local/lib/python3.11/dist-packages (from keras->keras-tuner) (2.0.2)\n",
            "Requirement already satisfied: rich in /usr/local/lib/python3.11/dist-packages (from keras->keras-tuner) (13.9.4)\n",
            "Requirement already satisfied: namex in /usr/local/lib/python3.11/dist-packages (from keras->keras-tuner) (0.1.0)\n",
            "Requirement already satisfied: h5py in /usr/local/lib/python3.11/dist-packages (from keras->keras-tuner) (3.14.0)\n",
            "Requirement already satisfied: optree in /usr/local/lib/python3.11/dist-packages (from keras->keras-tuner) (0.17.0)\n",
            "Requirement already satisfied: ml-dtypes in /usr/local/lib/python3.11/dist-packages (from keras->keras-tuner) (0.5.3)\n",
            "Requirement already satisfied: charset-normalizer<4,>=2 in /usr/local/lib/python3.11/dist-packages (from requests->keras-tuner) (3.4.2)\n",
            "Requirement already satisfied: idna<4,>=2.5 in /usr/local/lib/python3.11/dist-packages (from requests->keras-tuner) (3.10)\n",
            "Requirement already satisfied: urllib3<3,>=1.21.1 in /usr/local/lib/python3.11/dist-packages (from requests->keras-tuner) (2.5.0)\n",
            "Requirement already satisfied: certifi>=2017.4.17 in /usr/local/lib/python3.11/dist-packages (from requests->keras-tuner) (2025.8.3)\n",
            "Requirement already satisfied: typing-extensions>=4.6.0 in /usr/local/lib/python3.11/dist-packages (from optree->keras->keras-tuner) (4.14.1)\n",
            "Requirement already satisfied: markdown-it-py>=2.2.0 in /usr/local/lib/python3.11/dist-packages (from rich->keras->keras-tuner) (3.0.0)\n",
            "Requirement already satisfied: pygments<3.0.0,>=2.13.0 in /usr/local/lib/python3.11/dist-packages (from rich->keras->keras-tuner) (2.19.2)\n",
            "Requirement already satisfied: mdurl~=0.1 in /usr/local/lib/python3.11/dist-packages (from markdown-it-py>=2.2.0->rich->keras->keras-tuner) (0.1.2)\n",
            "Downloading keras_tuner-1.4.7-py3-none-any.whl (129 kB)\n",
            "\u001b[2K   \u001b[90m━━━━━━━━━━━━━━━━━━━━━━━━━━━━━━━━━━━━━━━\u001b[0m \u001b[32m129.1/129.1 kB\u001b[0m \u001b[31m909.6 kB/s\u001b[0m eta \u001b[36m0:00:00\u001b[0m\n",
            "\u001b[?25hDownloading kt_legacy-1.0.5-py3-none-any.whl (9.6 kB)\n",
            "Installing collected packages: kt-legacy, keras-tuner\n",
            "Successfully installed keras-tuner-1.4.7 kt-legacy-1.0.5\n"
          ]
        }
      ]
    },
    {
      "cell_type": "code",
      "source": [
        "# above model reached a respectible .6433 val_accuracy rating. I wanted to see if I could improve it so tried a keras_tuner to find optimal learning rate.\n",
        "\n",
        "import keras_tuner\n",
        "\n",
        "def build_tunable_model(hp):\n",
        "    \"\"\"\n",
        "    This is the complete, corrected model-building function for KerasTuner.\n",
        "    \"\"\"\n",
        "    model = tf.keras.Sequential()\n",
        "    model.add(tf.keras.layers.Input(shape=(SEQUENCE_LENGTH,)))\n",
        "\n",
        "    # 1. Tune the Embedding layer\n",
        "    hp_embedding_dim = hp.Int('embedding_dim', min_value=64, max_value=256, step=64)\n",
        "    model.add(tf.keras.layers.Embedding(input_dim=n_vocab, output_dim=hp_embedding_dim))\n",
        "\n",
        "    # 2. Tune the CNN block\n",
        "    hp_cnn_filters = hp.Int('cnn_filters', min_value=64, max_value=256, step=64)\n",
        "    model.add(tf.keras.layers.Conv1D(filters=hp_cnn_filters, kernel_size=5, activation='relu', padding='causal'))\n",
        "    model.add(tf.keras.layers.MaxPooling1D(pool_size=2))\n",
        "\n",
        "    hp_dropout_1 = hp.Float('dropout_1', min_value=0.2, max_value=0.5, step=0.05)\n",
        "    model.add(tf.keras.layers.Dropout(hp_dropout_1))\n",
        "\n",
        "    # 3. Tune the LSTM block\n",
        "    hp_lstm_units = hp.Int('lstm_units', min_value=128, max_value=512, step=128)\n",
        "    model.add(tf.keras.layers.LSTM(hp_lstm_units, return_sequences=False))\n",
        "\n",
        "    hp_dropout_2 = hp.Float('dropout_2', min_value=0.2, max_value=0.5, step=0.05)\n",
        "    model.add(tf.keras.layers.Dropout(hp_dropout_2))\n",
        "\n",
        "    # 4. Classification Head\n",
        "    # This section was likely missing or incorrect in your previous version.\n",
        "    model.add(tf.keras.layers.Dense(128, activation='relu'))\n",
        "\n",
        "    # Ensure the final layer uses the 'num_classes'\n",
        "    model.add(tf.keras.layers.Dense(4, activation='softmax'))\n",
        "\n",
        "    # 5. Tune the learning rate and compile\n",
        "    hp_learning_rate = hp.Choice('learning_rate', values=[1e-3, 1e-4, 5e-5])\n",
        "    model.compile(optimizer=tf.keras.optimizers.Adam(learning_rate=hp_learning_rate),\n",
        "                  loss='categorical_crossentropy',\n",
        "                  metrics=['accuracy'])\n",
        "    return model\n",
        "\n",
        "tuner = keras_tuner.Hyperband(build_tunable_model,\n",
        "                              objective='val_accuracy',\n",
        "                              max_epochs=20,\n",
        "                              factor=3,\n",
        "                              directory='my_tuning_dir',\n",
        "                              project_name='composer_tuning')\n",
        "\n",
        "# This will run the search for the best hyperparameters\n",
        "tuner.search(train_input, train_output, epochs=50, validation_data=(val_input, val_output), callbacks=[tf.keras.callbacks.EarlyStopping(patience=5)])\n",
        "\n",
        "# Get the optimal hyperparameters\n",
        "best_hps = tuner.get_best_hyperparameters(num_trials=1)[0]\n",
        "print(f\"Best learning rate: {best_hps.get('learning_rate')}\")\n",
        "\n"
      ],
      "metadata": {
        "colab": {
          "base_uri": "https://localhost:8080/"
        },
        "id": "lDhq3BTmqhQv",
        "outputId": "7edc2e42-79c7-4899-b826-d562d551ec65"
      },
      "execution_count": 29,
      "outputs": [
        {
          "output_type": "stream",
          "name": "stdout",
          "text": [
            "Trial 26 Complete [00h 02m 34s]\n",
            "val_accuracy: 0.6448269486427307\n",
            "\n",
            "Best val_accuracy So Far: 0.6593250632286072\n",
            "Total elapsed time: 00h 41m 42s\n",
            "Best learning rate: 0.001\n"
          ]
        }
      ]
    },
    {
      "cell_type": "code",
      "source": [
        "print(f\"Best learning rate: {best_hps.get('learning_rate')}\")\n",
        "print(f\"CNN Filters:          {best_hps.get('cnn_filters')}\")\n",
        "print(f\"Dropout Rate 1:       {best_hps.get('dropout_1'):.4f}\")\n",
        "print(f\"LSTM Units:           {best_hps.get('lstm_units')}\")\n",
        "print(f\"Dropout Rate 2:       {best_hps.get('dropout_2'):.4f}\")"
      ],
      "metadata": {
        "colab": {
          "base_uri": "https://localhost:8080/"
        },
        "id": "lyvGA1781iKA",
        "outputId": "b3c15ca7-c248-4d54-a71f-2fd2349878a9"
      },
      "execution_count": 30,
      "outputs": [
        {
          "output_type": "stream",
          "name": "stdout",
          "text": [
            "Best learning rate: 0.001\n",
            "CNN Filters:          256\n",
            "Dropout Rate 1:       0.3000\n",
            "LSTM Units:           256\n",
            "Dropout Rate 2:       0.2500\n",
            "Learning Rate:        0.001\n"
          ]
        }
      ]
    },
    {
      "cell_type": "markdown",
      "source": [
        "Using updated hyperparameters, attempt another round of model training"
      ],
      "metadata": {
        "id": "eMutlMCS2Dp_"
      }
    },
    {
      "cell_type": "code",
      "source": [
        "def create_final_model(n_vocab, num_classes, sequence_length):\n",
        "    \"\"\"\n",
        "    Builds the final model using the optimal hyperparameters found by KerasTuner.\n",
        "    \"\"\"\n",
        "    embedding_dim = 128\n",
        "\n",
        "    model = tf.keras.Sequential([\n",
        "        # Input Layer\n",
        "        tf.keras.layers.Input(shape=(sequence_length,)),\n",
        "\n",
        "        # Embedding Layer\n",
        "        tf.keras.layers.Embedding(input_dim=n_vocab, output_dim=embedding_dim),\n",
        "\n",
        "        # From tuner: CNN Filters = 256\n",
        "        tf.keras.layers.Conv1D(filters=256, kernel_size=5, activation='relu', padding='causal'),\n",
        "        tf.keras.layers.MaxPooling1D(pool_size=2),\n",
        "\n",
        "        # From tuner: Dropout Rate 1 = 0.30\n",
        "        tf.keras.layers.Dropout(0.30),\n",
        "\n",
        "        # From tuner: LSTM Units = 256\n",
        "        tf.keras.layers.LSTM(256, return_sequences=False),\n",
        "\n",
        "        # From tuner: Dropout Rate 2 = 0.25\n",
        "        tf.keras.layers.Dropout(0.25),\n",
        "\n",
        "        # Classification Head\n",
        "        tf.keras.layers.Dense(128, activation='relu'),\n",
        "        tf.keras.layers.Dense(4, activation='softmax')\n",
        "    ])\n",
        "\n",
        "    return model\n",
        "final_model = create_final_model(n_vocab, 4, sequence_length)\n",
        "\n",
        "# 2. Compile the model with the optimal learning rate\n",
        "# From tuner: Learning Rate = 0.001\n",
        "optimizer = tf.keras.optimizers.Adam(learning_rate=0.001)\n",
        "final_model.compile(optimizer=optimizer,\n",
        "                    loss='categorical_crossentropy',\n",
        "                    metrics=['accuracy'])\n",
        "\n",
        "print(\"Final Model Summary\")\n",
        "final_model.summary()\n",
        "\n",
        "# 3. Train the model for a good number of epochs\n",
        "print(\"\\nTraining Final Model\")\n",
        "history = final_model.fit(\n",
        "    train_input,\n",
        "    train_output,\n",
        "    epochs=100,  # Set a high number of epochs\n",
        "    validation_data=(val_input, val_output),\n",
        "    # Use EarlyStopping to prevent overfitting and save the best version of the model\n",
        "    callbacks=[tf.keras.callbacks.EarlyStopping(monitor='val_accuracy', patience=10, restore_best_weights=True)]\n",
        ")\n"
      ],
      "metadata": {
        "colab": {
          "base_uri": "https://localhost:8080/",
          "height": 1000
        },
        "id": "fuoHd4lV2Gp3",
        "outputId": "93d9770b-5d98-4f36-d8a1-52a748ab06bf"
      },
      "execution_count": 32,
      "outputs": [
        {
          "output_type": "stream",
          "name": "stdout",
          "text": [
            "--- Final Model Summary ---\n"
          ]
        },
        {
          "output_type": "display_data",
          "data": {
            "text/plain": [
              "\u001b[1mModel: \"sequential_2\"\u001b[0m\n"
            ],
            "text/html": [
              "<pre style=\"white-space:pre;overflow-x:auto;line-height:normal;font-family:Menlo,'DejaVu Sans Mono',consolas,'Courier New',monospace\"><span style=\"font-weight: bold\">Model: \"sequential_2\"</span>\n",
              "</pre>\n"
            ]
          },
          "metadata": {}
        },
        {
          "output_type": "display_data",
          "data": {
            "text/plain": [
              "┏━━━━━━━━━━━━━━━━━━━━━━━━━━━━━━━━━┳━━━━━━━━━━━━━━━━━━━━━━━━┳━━━━━━━━━━━━━━━┓\n",
              "┃\u001b[1m \u001b[0m\u001b[1mLayer (type)                   \u001b[0m\u001b[1m \u001b[0m┃\u001b[1m \u001b[0m\u001b[1mOutput Shape          \u001b[0m\u001b[1m \u001b[0m┃\u001b[1m \u001b[0m\u001b[1m      Param #\u001b[0m\u001b[1m \u001b[0m┃\n",
              "┡━━━━━━━━━━━━━━━━━━━━━━━━━━━━━━━━━╇━━━━━━━━━━━━━━━━━━━━━━━━╇━━━━━━━━━━━━━━━┩\n",
              "│ embedding_2 (\u001b[38;5;33mEmbedding\u001b[0m)         │ (\u001b[38;5;45mNone\u001b[0m, \u001b[38;5;34m100\u001b[0m, \u001b[38;5;34m128\u001b[0m)       │       \u001b[38;5;34m668,032\u001b[0m │\n",
              "├─────────────────────────────────┼────────────────────────┼───────────────┤\n",
              "│ conv1d_2 (\u001b[38;5;33mConv1D\u001b[0m)               │ (\u001b[38;5;45mNone\u001b[0m, \u001b[38;5;34m100\u001b[0m, \u001b[38;5;34m256\u001b[0m)       │       \u001b[38;5;34m164,096\u001b[0m │\n",
              "├─────────────────────────────────┼────────────────────────┼───────────────┤\n",
              "│ max_pooling1d_2 (\u001b[38;5;33mMaxPooling1D\u001b[0m)  │ (\u001b[38;5;45mNone\u001b[0m, \u001b[38;5;34m50\u001b[0m, \u001b[38;5;34m256\u001b[0m)        │             \u001b[38;5;34m0\u001b[0m │\n",
              "├─────────────────────────────────┼────────────────────────┼───────────────┤\n",
              "│ dropout_4 (\u001b[38;5;33mDropout\u001b[0m)             │ (\u001b[38;5;45mNone\u001b[0m, \u001b[38;5;34m50\u001b[0m, \u001b[38;5;34m256\u001b[0m)        │             \u001b[38;5;34m0\u001b[0m │\n",
              "├─────────────────────────────────┼────────────────────────┼───────────────┤\n",
              "│ lstm_2 (\u001b[38;5;33mLSTM\u001b[0m)                   │ (\u001b[38;5;45mNone\u001b[0m, \u001b[38;5;34m256\u001b[0m)            │       \u001b[38;5;34m525,312\u001b[0m │\n",
              "├─────────────────────────────────┼────────────────────────┼───────────────┤\n",
              "│ dropout_5 (\u001b[38;5;33mDropout\u001b[0m)             │ (\u001b[38;5;45mNone\u001b[0m, \u001b[38;5;34m256\u001b[0m)            │             \u001b[38;5;34m0\u001b[0m │\n",
              "├─────────────────────────────────┼────────────────────────┼───────────────┤\n",
              "│ dense_4 (\u001b[38;5;33mDense\u001b[0m)                 │ (\u001b[38;5;45mNone\u001b[0m, \u001b[38;5;34m128\u001b[0m)            │        \u001b[38;5;34m32,896\u001b[0m │\n",
              "├─────────────────────────────────┼────────────────────────┼───────────────┤\n",
              "│ dense_5 (\u001b[38;5;33mDense\u001b[0m)                 │ (\u001b[38;5;45mNone\u001b[0m, \u001b[38;5;34m4\u001b[0m)              │           \u001b[38;5;34m516\u001b[0m │\n",
              "└─────────────────────────────────┴────────────────────────┴───────────────┘\n"
            ],
            "text/html": [
              "<pre style=\"white-space:pre;overflow-x:auto;line-height:normal;font-family:Menlo,'DejaVu Sans Mono',consolas,'Courier New',monospace\">┏━━━━━━━━━━━━━━━━━━━━━━━━━━━━━━━━━┳━━━━━━━━━━━━━━━━━━━━━━━━┳━━━━━━━━━━━━━━━┓\n",
              "┃<span style=\"font-weight: bold\"> Layer (type)                    </span>┃<span style=\"font-weight: bold\"> Output Shape           </span>┃<span style=\"font-weight: bold\">       Param # </span>┃\n",
              "┡━━━━━━━━━━━━━━━━━━━━━━━━━━━━━━━━━╇━━━━━━━━━━━━━━━━━━━━━━━━╇━━━━━━━━━━━━━━━┩\n",
              "│ embedding_2 (<span style=\"color: #0087ff; text-decoration-color: #0087ff\">Embedding</span>)         │ (<span style=\"color: #00d7ff; text-decoration-color: #00d7ff\">None</span>, <span style=\"color: #00af00; text-decoration-color: #00af00\">100</span>, <span style=\"color: #00af00; text-decoration-color: #00af00\">128</span>)       │       <span style=\"color: #00af00; text-decoration-color: #00af00\">668,032</span> │\n",
              "├─────────────────────────────────┼────────────────────────┼───────────────┤\n",
              "│ conv1d_2 (<span style=\"color: #0087ff; text-decoration-color: #0087ff\">Conv1D</span>)               │ (<span style=\"color: #00d7ff; text-decoration-color: #00d7ff\">None</span>, <span style=\"color: #00af00; text-decoration-color: #00af00\">100</span>, <span style=\"color: #00af00; text-decoration-color: #00af00\">256</span>)       │       <span style=\"color: #00af00; text-decoration-color: #00af00\">164,096</span> │\n",
              "├─────────────────────────────────┼────────────────────────┼───────────────┤\n",
              "│ max_pooling1d_2 (<span style=\"color: #0087ff; text-decoration-color: #0087ff\">MaxPooling1D</span>)  │ (<span style=\"color: #00d7ff; text-decoration-color: #00d7ff\">None</span>, <span style=\"color: #00af00; text-decoration-color: #00af00\">50</span>, <span style=\"color: #00af00; text-decoration-color: #00af00\">256</span>)        │             <span style=\"color: #00af00; text-decoration-color: #00af00\">0</span> │\n",
              "├─────────────────────────────────┼────────────────────────┼───────────────┤\n",
              "│ dropout_4 (<span style=\"color: #0087ff; text-decoration-color: #0087ff\">Dropout</span>)             │ (<span style=\"color: #00d7ff; text-decoration-color: #00d7ff\">None</span>, <span style=\"color: #00af00; text-decoration-color: #00af00\">50</span>, <span style=\"color: #00af00; text-decoration-color: #00af00\">256</span>)        │             <span style=\"color: #00af00; text-decoration-color: #00af00\">0</span> │\n",
              "├─────────────────────────────────┼────────────────────────┼───────────────┤\n",
              "│ lstm_2 (<span style=\"color: #0087ff; text-decoration-color: #0087ff\">LSTM</span>)                   │ (<span style=\"color: #00d7ff; text-decoration-color: #00d7ff\">None</span>, <span style=\"color: #00af00; text-decoration-color: #00af00\">256</span>)            │       <span style=\"color: #00af00; text-decoration-color: #00af00\">525,312</span> │\n",
              "├─────────────────────────────────┼────────────────────────┼───────────────┤\n",
              "│ dropout_5 (<span style=\"color: #0087ff; text-decoration-color: #0087ff\">Dropout</span>)             │ (<span style=\"color: #00d7ff; text-decoration-color: #00d7ff\">None</span>, <span style=\"color: #00af00; text-decoration-color: #00af00\">256</span>)            │             <span style=\"color: #00af00; text-decoration-color: #00af00\">0</span> │\n",
              "├─────────────────────────────────┼────────────────────────┼───────────────┤\n",
              "│ dense_4 (<span style=\"color: #0087ff; text-decoration-color: #0087ff\">Dense</span>)                 │ (<span style=\"color: #00d7ff; text-decoration-color: #00d7ff\">None</span>, <span style=\"color: #00af00; text-decoration-color: #00af00\">128</span>)            │        <span style=\"color: #00af00; text-decoration-color: #00af00\">32,896</span> │\n",
              "├─────────────────────────────────┼────────────────────────┼───────────────┤\n",
              "│ dense_5 (<span style=\"color: #0087ff; text-decoration-color: #0087ff\">Dense</span>)                 │ (<span style=\"color: #00d7ff; text-decoration-color: #00d7ff\">None</span>, <span style=\"color: #00af00; text-decoration-color: #00af00\">4</span>)              │           <span style=\"color: #00af00; text-decoration-color: #00af00\">516</span> │\n",
              "└─────────────────────────────────┴────────────────────────┴───────────────┘\n",
              "</pre>\n"
            ]
          },
          "metadata": {}
        },
        {
          "output_type": "display_data",
          "data": {
            "text/plain": [
              "\u001b[1m Total params: \u001b[0m\u001b[38;5;34m1,390,852\u001b[0m (5.31 MB)\n"
            ],
            "text/html": [
              "<pre style=\"white-space:pre;overflow-x:auto;line-height:normal;font-family:Menlo,'DejaVu Sans Mono',consolas,'Courier New',monospace\"><span style=\"font-weight: bold\"> Total params: </span><span style=\"color: #00af00; text-decoration-color: #00af00\">1,390,852</span> (5.31 MB)\n",
              "</pre>\n"
            ]
          },
          "metadata": {}
        },
        {
          "output_type": "display_data",
          "data": {
            "text/plain": [
              "\u001b[1m Trainable params: \u001b[0m\u001b[38;5;34m1,390,852\u001b[0m (5.31 MB)\n"
            ],
            "text/html": [
              "<pre style=\"white-space:pre;overflow-x:auto;line-height:normal;font-family:Menlo,'DejaVu Sans Mono',consolas,'Courier New',monospace\"><span style=\"font-weight: bold\"> Trainable params: </span><span style=\"color: #00af00; text-decoration-color: #00af00\">1,390,852</span> (5.31 MB)\n",
              "</pre>\n"
            ]
          },
          "metadata": {}
        },
        {
          "output_type": "display_data",
          "data": {
            "text/plain": [
              "\u001b[1m Non-trainable params: \u001b[0m\u001b[38;5;34m0\u001b[0m (0.00 B)\n"
            ],
            "text/html": [
              "<pre style=\"white-space:pre;overflow-x:auto;line-height:normal;font-family:Menlo,'DejaVu Sans Mono',consolas,'Courier New',monospace\"><span style=\"font-weight: bold\"> Non-trainable params: </span><span style=\"color: #00af00; text-decoration-color: #00af00\">0</span> (0.00 B)\n",
              "</pre>\n"
            ]
          },
          "metadata": {}
        },
        {
          "output_type": "stream",
          "name": "stdout",
          "text": [
            "\n",
            "--- Training Final Model ---\n",
            "Epoch 1/100\n",
            "\u001b[1m2009/2009\u001b[0m \u001b[32m━━━━━━━━━━━━━━━━━━━━\u001b[0m\u001b[37m\u001b[0m \u001b[1m20s\u001b[0m 9ms/step - accuracy: 0.7695 - loss: 0.6073 - val_accuracy: 0.6390 - val_loss: 1.4286\n",
            "Epoch 2/100\n",
            "\u001b[1m2009/2009\u001b[0m \u001b[32m━━━━━━━━━━━━━━━━━━━━\u001b[0m\u001b[37m\u001b[0m \u001b[1m18s\u001b[0m 9ms/step - accuracy: 0.9721 - loss: 0.0870 - val_accuracy: 0.6284 - val_loss: 1.9318\n",
            "Epoch 3/100\n",
            "\u001b[1m2009/2009\u001b[0m \u001b[32m━━━━━━━━━━━━━━━━━━━━\u001b[0m\u001b[37m\u001b[0m \u001b[1m18s\u001b[0m 9ms/step - accuracy: 0.9881 - loss: 0.0380 - val_accuracy: 0.6309 - val_loss: 1.9838\n",
            "Epoch 4/100\n",
            "\u001b[1m2009/2009\u001b[0m \u001b[32m━━━━━━━━━━━━━━━━━━━━\u001b[0m\u001b[37m\u001b[0m \u001b[1m18s\u001b[0m 9ms/step - accuracy: 0.9940 - loss: 0.0209 - val_accuracy: 0.6152 - val_loss: 2.4915\n",
            "Epoch 5/100\n",
            "\u001b[1m2009/2009\u001b[0m \u001b[32m━━━━━━━━━━━━━━━━━━━━\u001b[0m\u001b[37m\u001b[0m \u001b[1m18s\u001b[0m 9ms/step - accuracy: 0.9945 - loss: 0.0175 - val_accuracy: 0.6266 - val_loss: 2.5463\n",
            "Epoch 6/100\n",
            "\u001b[1m2009/2009\u001b[0m \u001b[32m━━━━━━━━━━━━━━━━━━━━\u001b[0m\u001b[37m\u001b[0m \u001b[1m18s\u001b[0m 9ms/step - accuracy: 0.9957 - loss: 0.0129 - val_accuracy: 0.6159 - val_loss: 2.5140\n",
            "Epoch 7/100\n",
            "\u001b[1m2009/2009\u001b[0m \u001b[32m━━━━━━━━━━━━━━━━━━━━\u001b[0m\u001b[37m\u001b[0m \u001b[1m18s\u001b[0m 9ms/step - accuracy: 0.9961 - loss: 0.0123 - val_accuracy: 0.6230 - val_loss: 2.8288\n",
            "Epoch 8/100\n",
            "\u001b[1m2009/2009\u001b[0m \u001b[32m━━━━━━━━━━━━━━━━━━━━\u001b[0m\u001b[37m\u001b[0m \u001b[1m18s\u001b[0m 9ms/step - accuracy: 0.9971 - loss: 0.0097 - val_accuracy: 0.6451 - val_loss: 2.7263\n",
            "Epoch 9/100\n",
            "\u001b[1m2009/2009\u001b[0m \u001b[32m━━━━━━━━━━━━━━━━━━━━\u001b[0m\u001b[37m\u001b[0m \u001b[1m18s\u001b[0m 9ms/step - accuracy: 0.9973 - loss: 0.0081 - val_accuracy: 0.6002 - val_loss: 3.2107\n",
            "Epoch 10/100\n",
            "\u001b[1m2009/2009\u001b[0m \u001b[32m━━━━━━━━━━━━━━━━━━━━\u001b[0m\u001b[37m\u001b[0m \u001b[1m18s\u001b[0m 9ms/step - accuracy: 0.9978 - loss: 0.0075 - val_accuracy: 0.6224 - val_loss: 3.1230\n",
            "Epoch 11/100\n",
            "\u001b[1m2009/2009\u001b[0m \u001b[32m━━━━━━━━━━━━━━━━━━━━\u001b[0m\u001b[37m\u001b[0m \u001b[1m18s\u001b[0m 9ms/step - accuracy: 0.9981 - loss: 0.0064 - val_accuracy: 0.6396 - val_loss: 2.8703\n",
            "Epoch 12/100\n",
            "\u001b[1m2009/2009\u001b[0m \u001b[32m━━━━━━━━━━━━━━━━━━━━\u001b[0m\u001b[37m\u001b[0m \u001b[1m18s\u001b[0m 9ms/step - accuracy: 0.9989 - loss: 0.0043 - val_accuracy: 0.6248 - val_loss: 3.9364\n",
            "Epoch 13/100\n",
            "\u001b[1m2009/2009\u001b[0m \u001b[32m━━━━━━━━━━━━━━━━━━━━\u001b[0m\u001b[37m\u001b[0m \u001b[1m18s\u001b[0m 9ms/step - accuracy: 0.9985 - loss: 0.0051 - val_accuracy: 0.6089 - val_loss: 3.5663\n",
            "Epoch 14/100\n",
            "\u001b[1m2009/2009\u001b[0m \u001b[32m━━━━━━━━━━━━━━━━━━━━\u001b[0m\u001b[37m\u001b[0m \u001b[1m18s\u001b[0m 9ms/step - accuracy: 0.9985 - loss: 0.0050 - val_accuracy: 0.6454 - val_loss: 3.5237\n",
            "Epoch 15/100\n",
            "\u001b[1m2009/2009\u001b[0m \u001b[32m━━━━━━━━━━━━━━━━━━━━\u001b[0m\u001b[37m\u001b[0m \u001b[1m19s\u001b[0m 9ms/step - accuracy: 0.9986 - loss: 0.0045 - val_accuracy: 0.5949 - val_loss: 3.9675\n",
            "Epoch 16/100\n",
            "\u001b[1m2009/2009\u001b[0m \u001b[32m━━━━━━━━━━━━━━━━━━━━\u001b[0m\u001b[37m\u001b[0m \u001b[1m18s\u001b[0m 9ms/step - accuracy: 0.9981 - loss: 0.0067 - val_accuracy: 0.6283 - val_loss: 3.4933\n",
            "Epoch 17/100\n",
            "\u001b[1m2009/2009\u001b[0m \u001b[32m━━━━━━━━━━━━━━━━━━━━\u001b[0m\u001b[37m\u001b[0m \u001b[1m18s\u001b[0m 9ms/step - accuracy: 0.9986 - loss: 0.0046 - val_accuracy: 0.6396 - val_loss: 3.2476\n",
            "Epoch 18/100\n",
            "\u001b[1m2009/2009\u001b[0m \u001b[32m━━━━━━━━━━━━━━━━━━━━\u001b[0m\u001b[37m\u001b[0m \u001b[1m18s\u001b[0m 9ms/step - accuracy: 0.9989 - loss: 0.0036 - val_accuracy: 0.6427 - val_loss: 3.6210\n",
            "Epoch 19/100\n",
            "\u001b[1m2009/2009\u001b[0m \u001b[32m━━━━━━━━━━━━━━━━━━━━\u001b[0m\u001b[37m\u001b[0m \u001b[1m18s\u001b[0m 9ms/step - accuracy: 0.9989 - loss: 0.0031 - val_accuracy: 0.6337 - val_loss: 3.7276\n",
            "Epoch 20/100\n",
            "\u001b[1m2009/2009\u001b[0m \u001b[32m━━━━━━━━━━━━━━━━━━━━\u001b[0m\u001b[37m\u001b[0m \u001b[1m18s\u001b[0m 9ms/step - accuracy: 0.9988 - loss: 0.0045 - val_accuracy: 0.6480 - val_loss: 3.7284\n",
            "Epoch 21/100\n",
            "\u001b[1m2009/2009\u001b[0m \u001b[32m━━━━━━━━━━━━━━━━━━━━\u001b[0m\u001b[37m\u001b[0m \u001b[1m18s\u001b[0m 9ms/step - accuracy: 0.9985 - loss: 0.0044 - val_accuracy: 0.6363 - val_loss: 3.4238\n",
            "Epoch 22/100\n",
            "\u001b[1m2009/2009\u001b[0m \u001b[32m━━━━━━━━━━━━━━━━━━━━\u001b[0m\u001b[37m\u001b[0m \u001b[1m18s\u001b[0m 9ms/step - accuracy: 0.9991 - loss: 0.0034 - val_accuracy: 0.6127 - val_loss: 4.1793\n",
            "Epoch 23/100\n",
            "\u001b[1m2009/2009\u001b[0m \u001b[32m━━━━━━━━━━━━━━━━━━━━\u001b[0m\u001b[37m\u001b[0m \u001b[1m18s\u001b[0m 9ms/step - accuracy: 0.9991 - loss: 0.0028 - val_accuracy: 0.6280 - val_loss: 3.7310\n",
            "Epoch 24/100\n",
            "\u001b[1m2009/2009\u001b[0m \u001b[32m━━━━━━━━━━━━━━━━━━━━\u001b[0m\u001b[37m\u001b[0m \u001b[1m18s\u001b[0m 9ms/step - accuracy: 0.9991 - loss: 0.0031 - val_accuracy: 0.6259 - val_loss: 3.2149\n",
            "Epoch 25/100\n",
            "\u001b[1m2009/2009\u001b[0m \u001b[32m━━━━━━━━━━━━━━━━━━━━\u001b[0m\u001b[37m\u001b[0m \u001b[1m18s\u001b[0m 9ms/step - accuracy: 0.9997 - loss: 0.0015 - val_accuracy: 0.6200 - val_loss: 4.2210\n",
            "Epoch 26/100\n",
            "\u001b[1m2009/2009\u001b[0m \u001b[32m━━━━━━━━━━━━━━━━━━━━\u001b[0m\u001b[37m\u001b[0m \u001b[1m18s\u001b[0m 9ms/step - accuracy: 0.9989 - loss: 0.0030 - val_accuracy: 0.6149 - val_loss: 3.8415\n",
            "Epoch 27/100\n",
            "\u001b[1m2009/2009\u001b[0m \u001b[32m━━━━━━━━━━━━━━━━━━━━\u001b[0m\u001b[37m\u001b[0m \u001b[1m18s\u001b[0m 9ms/step - accuracy: 0.9993 - loss: 0.0022 - val_accuracy: 0.6176 - val_loss: 4.0870\n",
            "Epoch 28/100\n",
            "\u001b[1m2009/2009\u001b[0m \u001b[32m━━━━━━━━━━━━━━━━━━━━\u001b[0m\u001b[37m\u001b[0m \u001b[1m18s\u001b[0m 9ms/step - accuracy: 0.9989 - loss: 0.0035 - val_accuracy: 0.6243 - val_loss: 3.6782\n",
            "Epoch 29/100\n",
            "\u001b[1m2009/2009\u001b[0m \u001b[32m━━━━━━━━━━━━━━━━━━━━\u001b[0m\u001b[37m\u001b[0m \u001b[1m18s\u001b[0m 9ms/step - accuracy: 0.9994 - loss: 0.0019 - val_accuracy: 0.6090 - val_loss: 3.9442\n",
            "Epoch 30/100\n",
            "\u001b[1m2009/2009\u001b[0m \u001b[32m━━━━━━━━━━━━━━━━━━━━\u001b[0m\u001b[37m\u001b[0m \u001b[1m18s\u001b[0m 9ms/step - accuracy: 0.9993 - loss: 0.0022 - val_accuracy: 0.6187 - val_loss: 3.8430\n"
          ]
        }
      ]
    },
    {
      "cell_type": "markdown",
      "source": [
        "Final Model reached a slightly improved 0.6454. For a last attempt, will try bidirectional LSTM, which uses our optimized hyperparameters from keras tuner."
      ],
      "metadata": {
        "id": "yC3xc89w4Zhm"
      }
    },
    {
      "cell_type": "code",
      "source": [
        "# This function defines the new model architecture\n",
        "def create_bidirectional_model(n_vocab, num_classes, sequence_length):\n",
        "    \"\"\"\n",
        "    Builds the final model using a Bidirectional LSTM layer.\n",
        "    \"\"\"\n",
        "    # Using the best hyperparameter values from your tuner search\n",
        "    embedding_dim = 128  # A strong default choice\n",
        "    cnn_filters = 256\n",
        "    lstm_units = 256\n",
        "    dropout_1 = 0.30\n",
        "    dropout_2 = 0.25\n",
        "\n",
        "    model = tf.keras.Sequential([\n",
        "        tf.keras.layers.Input(shape=(sequence_length,)),\n",
        "        tf.keras.layers.Embedding(input_dim=n_vocab, output_dim=embedding_dim),\n",
        "\n",
        "        tf.keras.layers.Conv1D(filters=cnn_filters, kernel_size=5, activation='relu', padding='causal'),\n",
        "        tf.keras.layers.MaxPooling1D(pool_size=2),\n",
        "        tf.keras.layers.Dropout(dropout_1),\n",
        "        # The LSTM layer is now wrapped in a Bidirectional layer.\n",
        "        # This allows the model to learn context from both past and future events.\n",
        "        tf.keras.layers.Bidirectional(tf.keras.layers.LSTM(lstm_units, return_sequences=False)),\n",
        "\n",
        "        tf.keras.layers.Dropout(dropout_2),\n",
        "\n",
        "        # Classification Head\n",
        "        tf.keras.layers.Dense(128, activation='relu'),\n",
        "        tf.keras.layers.Dense(4, activation='softmax')\n",
        "    ])\n",
        "\n",
        "    return model\n",
        "\n",
        "# --- Build, Compile, and Train the Final Model ---\n",
        "\n",
        "print(\"Building the Bidirectional model...\")\n",
        "bi_model = create_bidirectional_model(n_vocab, 4, sequence_length)\n",
        "\n",
        "print(\"Compiling model...\")\n",
        "optimizer = tf.keras.optimizers.Adam(learning_rate=0.001)\n",
        "bi_model.compile(optimizer=optimizer,\n",
        "                 loss='categorical_crossentropy',\n",
        "                 metrics=['accuracy'])\n",
        "\n",
        "print(\"\\nModel Summary\")\n",
        "bi_model.summary()\n",
        "\n",
        "# 3. Train the model\n",
        "print(\"\\nTraining Bidirectional Model\")\n",
        "history = bi_model.fit(\n",
        "    train_input,\n",
        "    train_output,\n",
        "    epochs=100,  # Set a high number and let EarlyStopping find the best epoch\n",
        "    batch_size=64,\n",
        "    validation_data=(val_input, val_output),\n",
        "    callbacks=[tf.keras.callbacks.EarlyStopping(\n",
        "        monitor='val_accuracy',\n",
        "        patience=10, # Stop if val_accuracy doesn't improve for 10 epochs\n",
        "        restore_best_weights=True # Return the best version of the model\n",
        "    )]\n",
        ")"
      ],
      "metadata": {
        "colab": {
          "base_uri": "https://localhost:8080/",
          "height": 946
        },
        "id": "b8_DKebr4vTl",
        "outputId": "9245f78c-2fe4-4999-c297-dad32cc13d61"
      },
      "execution_count": 33,
      "outputs": [
        {
          "output_type": "stream",
          "name": "stdout",
          "text": [
            "Building the Bidirectional model...\n",
            "Compiling model...\n",
            "\n",
            "Model Summary\n"
          ]
        },
        {
          "output_type": "display_data",
          "data": {
            "text/plain": [
              "\u001b[1mModel: \"sequential_3\"\u001b[0m\n"
            ],
            "text/html": [
              "<pre style=\"white-space:pre;overflow-x:auto;line-height:normal;font-family:Menlo,'DejaVu Sans Mono',consolas,'Courier New',monospace\"><span style=\"font-weight: bold\">Model: \"sequential_3\"</span>\n",
              "</pre>\n"
            ]
          },
          "metadata": {}
        },
        {
          "output_type": "display_data",
          "data": {
            "text/plain": [
              "┏━━━━━━━━━━━━━━━━━━━━━━━━━━━━━━━━━┳━━━━━━━━━━━━━━━━━━━━━━━━┳━━━━━━━━━━━━━━━┓\n",
              "┃\u001b[1m \u001b[0m\u001b[1mLayer (type)                   \u001b[0m\u001b[1m \u001b[0m┃\u001b[1m \u001b[0m\u001b[1mOutput Shape          \u001b[0m\u001b[1m \u001b[0m┃\u001b[1m \u001b[0m\u001b[1m      Param #\u001b[0m\u001b[1m \u001b[0m┃\n",
              "┡━━━━━━━━━━━━━━━━━━━━━━━━━━━━━━━━━╇━━━━━━━━━━━━━━━━━━━━━━━━╇━━━━━━━━━━━━━━━┩\n",
              "│ embedding_3 (\u001b[38;5;33mEmbedding\u001b[0m)         │ (\u001b[38;5;45mNone\u001b[0m, \u001b[38;5;34m100\u001b[0m, \u001b[38;5;34m128\u001b[0m)       │       \u001b[38;5;34m668,032\u001b[0m │\n",
              "├─────────────────────────────────┼────────────────────────┼───────────────┤\n",
              "│ conv1d_3 (\u001b[38;5;33mConv1D\u001b[0m)               │ (\u001b[38;5;45mNone\u001b[0m, \u001b[38;5;34m100\u001b[0m, \u001b[38;5;34m256\u001b[0m)       │       \u001b[38;5;34m164,096\u001b[0m │\n",
              "├─────────────────────────────────┼────────────────────────┼───────────────┤\n",
              "│ max_pooling1d_3 (\u001b[38;5;33mMaxPooling1D\u001b[0m)  │ (\u001b[38;5;45mNone\u001b[0m, \u001b[38;5;34m50\u001b[0m, \u001b[38;5;34m256\u001b[0m)        │             \u001b[38;5;34m0\u001b[0m │\n",
              "├─────────────────────────────────┼────────────────────────┼───────────────┤\n",
              "│ dropout_6 (\u001b[38;5;33mDropout\u001b[0m)             │ (\u001b[38;5;45mNone\u001b[0m, \u001b[38;5;34m50\u001b[0m, \u001b[38;5;34m256\u001b[0m)        │             \u001b[38;5;34m0\u001b[0m │\n",
              "├─────────────────────────────────┼────────────────────────┼───────────────┤\n",
              "│ bidirectional (\u001b[38;5;33mBidirectional\u001b[0m)   │ (\u001b[38;5;45mNone\u001b[0m, \u001b[38;5;34m512\u001b[0m)            │     \u001b[38;5;34m1,050,624\u001b[0m │\n",
              "├─────────────────────────────────┼────────────────────────┼───────────────┤\n",
              "│ dropout_7 (\u001b[38;5;33mDropout\u001b[0m)             │ (\u001b[38;5;45mNone\u001b[0m, \u001b[38;5;34m512\u001b[0m)            │             \u001b[38;5;34m0\u001b[0m │\n",
              "├─────────────────────────────────┼────────────────────────┼───────────────┤\n",
              "│ dense_6 (\u001b[38;5;33mDense\u001b[0m)                 │ (\u001b[38;5;45mNone\u001b[0m, \u001b[38;5;34m128\u001b[0m)            │        \u001b[38;5;34m65,664\u001b[0m │\n",
              "├─────────────────────────────────┼────────────────────────┼───────────────┤\n",
              "│ dense_7 (\u001b[38;5;33mDense\u001b[0m)                 │ (\u001b[38;5;45mNone\u001b[0m, \u001b[38;5;34m4\u001b[0m)              │           \u001b[38;5;34m516\u001b[0m │\n",
              "└─────────────────────────────────┴────────────────────────┴───────────────┘\n"
            ],
            "text/html": [
              "<pre style=\"white-space:pre;overflow-x:auto;line-height:normal;font-family:Menlo,'DejaVu Sans Mono',consolas,'Courier New',monospace\">┏━━━━━━━━━━━━━━━━━━━━━━━━━━━━━━━━━┳━━━━━━━━━━━━━━━━━━━━━━━━┳━━━━━━━━━━━━━━━┓\n",
              "┃<span style=\"font-weight: bold\"> Layer (type)                    </span>┃<span style=\"font-weight: bold\"> Output Shape           </span>┃<span style=\"font-weight: bold\">       Param # </span>┃\n",
              "┡━━━━━━━━━━━━━━━━━━━━━━━━━━━━━━━━━╇━━━━━━━━━━━━━━━━━━━━━━━━╇━━━━━━━━━━━━━━━┩\n",
              "│ embedding_3 (<span style=\"color: #0087ff; text-decoration-color: #0087ff\">Embedding</span>)         │ (<span style=\"color: #00d7ff; text-decoration-color: #00d7ff\">None</span>, <span style=\"color: #00af00; text-decoration-color: #00af00\">100</span>, <span style=\"color: #00af00; text-decoration-color: #00af00\">128</span>)       │       <span style=\"color: #00af00; text-decoration-color: #00af00\">668,032</span> │\n",
              "├─────────────────────────────────┼────────────────────────┼───────────────┤\n",
              "│ conv1d_3 (<span style=\"color: #0087ff; text-decoration-color: #0087ff\">Conv1D</span>)               │ (<span style=\"color: #00d7ff; text-decoration-color: #00d7ff\">None</span>, <span style=\"color: #00af00; text-decoration-color: #00af00\">100</span>, <span style=\"color: #00af00; text-decoration-color: #00af00\">256</span>)       │       <span style=\"color: #00af00; text-decoration-color: #00af00\">164,096</span> │\n",
              "├─────────────────────────────────┼────────────────────────┼───────────────┤\n",
              "│ max_pooling1d_3 (<span style=\"color: #0087ff; text-decoration-color: #0087ff\">MaxPooling1D</span>)  │ (<span style=\"color: #00d7ff; text-decoration-color: #00d7ff\">None</span>, <span style=\"color: #00af00; text-decoration-color: #00af00\">50</span>, <span style=\"color: #00af00; text-decoration-color: #00af00\">256</span>)        │             <span style=\"color: #00af00; text-decoration-color: #00af00\">0</span> │\n",
              "├─────────────────────────────────┼────────────────────────┼───────────────┤\n",
              "│ dropout_6 (<span style=\"color: #0087ff; text-decoration-color: #0087ff\">Dropout</span>)             │ (<span style=\"color: #00d7ff; text-decoration-color: #00d7ff\">None</span>, <span style=\"color: #00af00; text-decoration-color: #00af00\">50</span>, <span style=\"color: #00af00; text-decoration-color: #00af00\">256</span>)        │             <span style=\"color: #00af00; text-decoration-color: #00af00\">0</span> │\n",
              "├─────────────────────────────────┼────────────────────────┼───────────────┤\n",
              "│ bidirectional (<span style=\"color: #0087ff; text-decoration-color: #0087ff\">Bidirectional</span>)   │ (<span style=\"color: #00d7ff; text-decoration-color: #00d7ff\">None</span>, <span style=\"color: #00af00; text-decoration-color: #00af00\">512</span>)            │     <span style=\"color: #00af00; text-decoration-color: #00af00\">1,050,624</span> │\n",
              "├─────────────────────────────────┼────────────────────────┼───────────────┤\n",
              "│ dropout_7 (<span style=\"color: #0087ff; text-decoration-color: #0087ff\">Dropout</span>)             │ (<span style=\"color: #00d7ff; text-decoration-color: #00d7ff\">None</span>, <span style=\"color: #00af00; text-decoration-color: #00af00\">512</span>)            │             <span style=\"color: #00af00; text-decoration-color: #00af00\">0</span> │\n",
              "├─────────────────────────────────┼────────────────────────┼───────────────┤\n",
              "│ dense_6 (<span style=\"color: #0087ff; text-decoration-color: #0087ff\">Dense</span>)                 │ (<span style=\"color: #00d7ff; text-decoration-color: #00d7ff\">None</span>, <span style=\"color: #00af00; text-decoration-color: #00af00\">128</span>)            │        <span style=\"color: #00af00; text-decoration-color: #00af00\">65,664</span> │\n",
              "├─────────────────────────────────┼────────────────────────┼───────────────┤\n",
              "│ dense_7 (<span style=\"color: #0087ff; text-decoration-color: #0087ff\">Dense</span>)                 │ (<span style=\"color: #00d7ff; text-decoration-color: #00d7ff\">None</span>, <span style=\"color: #00af00; text-decoration-color: #00af00\">4</span>)              │           <span style=\"color: #00af00; text-decoration-color: #00af00\">516</span> │\n",
              "└─────────────────────────────────┴────────────────────────┴───────────────┘\n",
              "</pre>\n"
            ]
          },
          "metadata": {}
        },
        {
          "output_type": "display_data",
          "data": {
            "text/plain": [
              "\u001b[1m Total params: \u001b[0m\u001b[38;5;34m1,948,932\u001b[0m (7.43 MB)\n"
            ],
            "text/html": [
              "<pre style=\"white-space:pre;overflow-x:auto;line-height:normal;font-family:Menlo,'DejaVu Sans Mono',consolas,'Courier New',monospace\"><span style=\"font-weight: bold\"> Total params: </span><span style=\"color: #00af00; text-decoration-color: #00af00\">1,948,932</span> (7.43 MB)\n",
              "</pre>\n"
            ]
          },
          "metadata": {}
        },
        {
          "output_type": "display_data",
          "data": {
            "text/plain": [
              "\u001b[1m Trainable params: \u001b[0m\u001b[38;5;34m1,948,932\u001b[0m (7.43 MB)\n"
            ],
            "text/html": [
              "<pre style=\"white-space:pre;overflow-x:auto;line-height:normal;font-family:Menlo,'DejaVu Sans Mono',consolas,'Courier New',monospace\"><span style=\"font-weight: bold\"> Trainable params: </span><span style=\"color: #00af00; text-decoration-color: #00af00\">1,948,932</span> (7.43 MB)\n",
              "</pre>\n"
            ]
          },
          "metadata": {}
        },
        {
          "output_type": "display_data",
          "data": {
            "text/plain": [
              "\u001b[1m Non-trainable params: \u001b[0m\u001b[38;5;34m0\u001b[0m (0.00 B)\n"
            ],
            "text/html": [
              "<pre style=\"white-space:pre;overflow-x:auto;line-height:normal;font-family:Menlo,'DejaVu Sans Mono',consolas,'Courier New',monospace\"><span style=\"font-weight: bold\"> Non-trainable params: </span><span style=\"color: #00af00; text-decoration-color: #00af00\">0</span> (0.00 B)\n",
              "</pre>\n"
            ]
          },
          "metadata": {}
        },
        {
          "output_type": "stream",
          "name": "stdout",
          "text": [
            "\n",
            "Training Bidirectional Model\n",
            "Epoch 1/100\n",
            "\u001b[1m1005/1005\u001b[0m \u001b[32m━━━━━━━━━━━━━━━━━━━━\u001b[0m\u001b[37m\u001b[0m \u001b[1m21s\u001b[0m 18ms/step - accuracy: 0.7833 - loss: 0.5462 - val_accuracy: 0.6530 - val_loss: 1.4750\n",
            "Epoch 2/100\n",
            "\u001b[1m1005/1005\u001b[0m \u001b[32m━━━━━━━━━━━━━━━━━━━━\u001b[0m\u001b[37m\u001b[0m \u001b[1m18s\u001b[0m 18ms/step - accuracy: 0.9748 - loss: 0.0767 - val_accuracy: 0.6274 - val_loss: 1.9602\n",
            "Epoch 3/100\n",
            "\u001b[1m1005/1005\u001b[0m \u001b[32m━━━━━━━━━━━━━━━━━━━━\u001b[0m\u001b[37m\u001b[0m \u001b[1m18s\u001b[0m 18ms/step - accuracy: 0.9903 - loss: 0.0300 - val_accuracy: 0.6545 - val_loss: 1.9150\n",
            "Epoch 4/100\n",
            "\u001b[1m1005/1005\u001b[0m \u001b[32m━━━━━━━━━━━━━━━━━━━━\u001b[0m\u001b[37m\u001b[0m \u001b[1m18s\u001b[0m 18ms/step - accuracy: 0.9940 - loss: 0.0189 - val_accuracy: 0.6259 - val_loss: 2.5310\n",
            "Epoch 5/100\n",
            "\u001b[1m1005/1005\u001b[0m \u001b[32m━━━━━━━━━━━━━━━━━━━━\u001b[0m\u001b[37m\u001b[0m \u001b[1m18s\u001b[0m 18ms/step - accuracy: 0.9948 - loss: 0.0170 - val_accuracy: 0.6452 - val_loss: 2.6168\n",
            "Epoch 6/100\n",
            "\u001b[1m1005/1005\u001b[0m \u001b[32m━━━━━━━━━━━━━━━━━━━━\u001b[0m\u001b[37m\u001b[0m \u001b[1m18s\u001b[0m 18ms/step - accuracy: 0.9967 - loss: 0.0117 - val_accuracy: 0.6263 - val_loss: 2.6164\n",
            "Epoch 7/100\n",
            "\u001b[1m1005/1005\u001b[0m \u001b[32m━━━━━━━━━━━━━━━━━━━━\u001b[0m\u001b[37m\u001b[0m \u001b[1m19s\u001b[0m 18ms/step - accuracy: 0.9967 - loss: 0.0100 - val_accuracy: 0.6383 - val_loss: 2.7127\n",
            "Epoch 8/100\n",
            "\u001b[1m1005/1005\u001b[0m \u001b[32m━━━━━━━━━━━━━━━━━━━━\u001b[0m\u001b[37m\u001b[0m \u001b[1m19s\u001b[0m 18ms/step - accuracy: 0.9948 - loss: 0.0172 - val_accuracy: 0.6321 - val_loss: 2.9555\n",
            "Epoch 9/100\n",
            "\u001b[1m1005/1005\u001b[0m \u001b[32m━━━━━━━━━━━━━━━━━━━━\u001b[0m\u001b[37m\u001b[0m \u001b[1m19s\u001b[0m 19ms/step - accuracy: 0.9980 - loss: 0.0058 - val_accuracy: 0.6190 - val_loss: 3.0668\n",
            "Epoch 10/100\n",
            "\u001b[1m1005/1005\u001b[0m \u001b[32m━━━━━━━━━━━━━━━━━━━━\u001b[0m\u001b[37m\u001b[0m \u001b[1m19s\u001b[0m 19ms/step - accuracy: 0.9974 - loss: 0.0071 - val_accuracy: 0.6438 - val_loss: 3.0586\n",
            "Epoch 11/100\n",
            "\u001b[1m1005/1005\u001b[0m \u001b[32m━━━━━━━━━━━━━━━━━━━━\u001b[0m\u001b[37m\u001b[0m \u001b[1m18s\u001b[0m 18ms/step - accuracy: 0.9985 - loss: 0.0053 - val_accuracy: 0.6032 - val_loss: 3.6111\n",
            "Epoch 12/100\n",
            "\u001b[1m1005/1005\u001b[0m \u001b[32m━━━━━━━━━━━━━━━━━━━━\u001b[0m\u001b[37m\u001b[0m \u001b[1m18s\u001b[0m 18ms/step - accuracy: 0.9967 - loss: 0.0083 - val_accuracy: 0.6441 - val_loss: 3.0791\n",
            "Epoch 13/100\n",
            "\u001b[1m1005/1005\u001b[0m \u001b[32m━━━━━━━━━━━━━━━━━━━━\u001b[0m\u001b[37m\u001b[0m \u001b[1m18s\u001b[0m 18ms/step - accuracy: 0.9987 - loss: 0.0048 - val_accuracy: 0.6439 - val_loss: 2.7527\n"
          ]
        }
      ]
    },
    {
      "cell_type": "markdown",
      "source": [
        "It seems this is the best we can do with this dataset, with val accuracy of 0.6545. We've optimized the parameters using keras tuner, and even gone out of our way to create a bidirectional model. We will save the bidirectional model and use it for our final evaluation."
      ],
      "metadata": {
        "id": "jGmQhFN55J6J"
      }
    },
    {
      "cell_type": "code",
      "source": [
        "import pickle\n",
        "\n",
        "# save the model for later use, with meta data for easier testing.\n",
        "bi_model.save('/content/drive/MyDrive/AAI511_ML/composer_classifier_model_v1_bidirectional.keras')\n",
        "print(\"Model saved as 'composer_classifier_model.keras'\")\n",
        "\n",
        "model_metadata = {\n",
        "    'composer_map': composer_map,\n",
        "    'sequence_length': sequence_length,\n",
        "    'n_vocab': n_vocab,\n",
        "    'event_to_int': event_to_int\n",
        "}\n",
        "\n",
        "metadata_path = os.path.join('/content/drive/MyDrive/AAI511_ML/', 'model_metadata_v2.pkl')\n",
        "with open(metadata_path, 'wb') as f:\n",
        "    pickle.dump(model_metadata, f)\n",
        "print(f\"Metadata saved to: {metadata_path}\")"
      ],
      "metadata": {
        "colab": {
          "base_uri": "https://localhost:8080/"
        },
        "id": "NKY1FU01cb7M",
        "outputId": "82f62f37-6378-46ea-a27c-f9165b1ebe49"
      },
      "execution_count": 44,
      "outputs": [
        {
          "output_type": "stream",
          "name": "stdout",
          "text": [
            "Model saved as 'composer_classifier_model.keras'\n",
            "Metadata saved to: /content/drive/MyDrive/AAI511_ML/model_metadata_v2.pkl\n"
          ]
        }
      ]
    },
    {
      "cell_type": "code",
      "source": [
        "def plot_history(history):\n",
        "    \"\"\"Plots the training and validation accuracy and loss.\"\"\"\n",
        "    acc = history.history['accuracy']\n",
        "    val_acc = history.history['val_accuracy']\n",
        "    loss = history.history['loss']\n",
        "    val_loss = history.history['val_loss']\n",
        "\n",
        "    epochs_range = range(len(acc))\n",
        "\n",
        "    plt.figure(figsize=(14, 5))\n",
        "\n",
        "    plt.subplot(1, 2, 1)\n",
        "    plt.plot(epochs_range, acc, label='Training Accuracy')\n",
        "    plt.plot(epochs_range, val_acc, label='Validation Accuracy')\n",
        "    plt.legend(loc='lower right')\n",
        "    plt.title('Training and Validation Accuracy')\n",
        "    plt.xlabel('Epoch')\n",
        "\n",
        "    plt.subplot(1, 2, 2)\n",
        "    plt.plot(epochs_range, loss, label='Training Loss')\n",
        "    plt.plot(epochs_range, val_loss, label='Validation Loss')\n",
        "    plt.legend(loc='upper right')\n",
        "    plt.title('Training and Validation Loss')\n",
        "    plt.xlabel('Epoch')\n",
        "\n",
        "    plt.show()\n",
        "\n",
        "plot_history(history)"
      ],
      "metadata": {
        "colab": {
          "base_uri": "https://localhost:8080/",
          "height": 486
        },
        "id": "LzF2455WQzMy",
        "outputId": "38492bb6-4b26-437d-e646-b0f0e902dca5"
      },
      "execution_count": 35,
      "outputs": [
        {
          "output_type": "display_data",
          "data": {
            "text/plain": [
              "<Figure size 1400x500 with 2 Axes>"
            ],
            "image/png": "[encoded data removed]"
          },
          "metadata": {
            "image/png": {
              "width": 1145,
              "height": 469
            }
          }
        }
      ]
    },
    {
      "cell_type": "code",
      "source": [
        "# testing to make sure model works\n",
        "\n",
        "def parse_rich_features_from_file(file_path):\n",
        "    \"\"\"The correct parser for creating rich event strings.\"\"\"\n",
        "    events = []\n",
        "    try:\n",
        "        midi_file = mido.MidiFile(file_path)\n",
        "        current_notes, current_velocities = [], []\n",
        "        for msg in mido.merge_tracks(midi_file.tracks):\n",
        "            if msg.time > 0 and current_notes:\n",
        "                duration = quantize_duration(msg.time)\n",
        "                avg_velocity = quantize_velocity(np.mean(current_velocities))\n",
        "                current_notes.sort()\n",
        "                note_str = '.'.join(current_notes)\n",
        "                event_str = f\"p={note_str}_d={duration}_v={avg_velocity}\"\n",
        "                events.append(event_str)\n",
        "                current_notes, current_velocities = [], []\n",
        "            if msg.type == 'note_on' and msg.velocity > 0:\n",
        "                # Calling music21 directly for each note since we arent optimizing for a few test cases\n",
        "                pitch_name = music21.pitch.Pitch(midi=msg.note).nameWithOctave\n",
        "                current_notes.append(pitch_name)\n",
        "                current_velocities.append(msg.velocity)\n",
        "    except Exception as e:\n",
        "        print(f\" - Could not parse {file_path}: {e}\")\n",
        "    return events\n",
        "\n",
        "def predict_composer_for_file(file_path, model, metadata):\n",
        "    \"\"\"Processes a single MIDI file and predicts its composer.\"\"\"\n",
        "\n",
        "    print(\"-\" * 40)\n",
        "    print(f\"Testing: {os.path.basename(file_path)}\")\n",
        "\n",
        "    # PARSE using the rich feature parser\n",
        "    events = parse_rich_features_from_file(file_path)\n",
        "\n",
        "    sequence_length = metadata['sequence_length']\n",
        "    if len(events) < sequence_length:\n",
        "        print(f\"File is too short. Contains {len(events)} events, but model requires {sequence_length}.\")\n",
        "        return\n",
        "\n",
        "    event_to_int = metadata['event_to_int']\n",
        "    unk_token_int = event_to_int.get('<UNK>') # Handle events not seen in training\n",
        "\n",
        "    test_events = events[:sequence_length]\n",
        "    int_sequence = [event_to_int.get(event, unk_token_int) for event in test_events]\n",
        "    test_input = np.array(int_sequence).reshape(1, sequence_length)\n",
        "\n",
        "    # PREDICT\n",
        "    prediction = model.predict(test_input, verbose=0)[0] # Get prediction for the single item\n",
        "    predicted_id = np.argmax(prediction)\n",
        "    confidence = prediction[predicted_id]\n",
        "\n",
        "    id_to_composer = {v: k for k, v in metadata['composer_map'].items()}\n",
        "    predicted_composer = id_to_composer.get(predicted_id, \"Unknown\")\n",
        "\n",
        "    print(f\"Predicted Composer: {predicted_composer.upper()}\")\n",
        "    print(f\"Confidence: {confidence:.2%}\")\n",
        "\n",
        "    # Show top 3 predictions\n",
        "    top_3_indices = np.argsort(prediction)[-3:][::-1]\n",
        "    print(\"\\nTop 3 Predictions:\")\n",
        "    for i, idx in enumerate(top_3_indices):\n",
        "        composer = id_to_composer.get(idx, \"Unknown\")\n",
        "        prob = prediction[idx]\n",
        "        print(f\"  {i+1}. {composer.title()}: {prob:.2%}\")\n",
        "\n",
        "model_path = os.path.join('/content/drive/MyDrive/AAI511_ML/', 'composer_classifier_model_v1_bidirectional.keras')\n",
        "metadata_path = os.path.join('/content/drive/MyDrive/AAI511_ML/', 'model_metadata_v2.pkl')\n",
        "model = tf.keras.models.load_model(model_path)\n",
        "with open(metadata_path, 'rb') as f:\n",
        "    metadata = pickle.load(f)\n",
        "print(\"Model and metadata loaded successfully.\\n\")\n",
        "\n",
        "test_file_bach = '/content/midi_classic_music/midiclassics/Bach/AveMaria.mid'\n",
        "test_file_beethoven = '/content/midi_classic_music/midiclassics/Beethoven/Fur Elise.mid'\n",
        "test_file_chopin = '/content/midi_classic_music/midiclassics/Chopin/Ballad op32.mid'\n",
        "test_file_mozart = '/content/midi_classic_music/midiclassics/Mozart/Adagio in B flat.mid'\n",
        "# add more test files here for more testing as needed\n",
        "predict_composer_for_file(test_file_bach, model, metadata)\n",
        "predict_composer_for_file(test_file_beethoven, model, metadata)\n",
        "predict_composer_for_file(test_file_chopin, model, metadata)\n",
        "predict_composer_for_file(test_file_mozart, model, metadata)\n",
        "\n",
        "# the warning is expected and has no impact on model performance"
      ],
      "metadata": {
        "colab": {
          "base_uri": "https://localhost:8080/"
        },
        "id": "7D-Khe-5RFII",
        "outputId": "c61fbf3f-2abb-4c73-d398-5047b3518323"
      },
      "execution_count": 45,
      "outputs": [
        {
          "output_type": "stream",
          "name": "stdout",
          "text": [
            "Model and metadata loaded successfully.\n",
            "\n",
            "----------------------------------------\n",
            "Testing: AveMaria.mid\n",
            "Predicted Composer: MOZART\n",
            "Confidence: 89.07%\n",
            "\n",
            "Top 3 Predictions:\n",
            "  1. Mozart: 89.07%\n",
            "  2. Bach: 10.17%\n",
            "  3. Beethoven: 0.76%\n",
            "----------------------------------------\n",
            "Testing: Fur Elise.mid\n",
            "Predicted Composer: BACH\n",
            "Confidence: 100.00%\n",
            "\n",
            "Top 3 Predictions:\n",
            "  1. Bach: 100.00%\n",
            "  2. Mozart: 0.00%\n",
            "  3. Beethoven: 0.00%\n",
            "----------------------------------------\n",
            "Testing: Ballad op32.mid\n",
            "Predicted Composer: CHOPIN\n",
            "Confidence: 99.95%\n",
            "\n",
            "Top 3 Predictions:\n",
            "  1. Chopin: 99.95%\n",
            "  2. Beethoven: 0.03%\n",
            "  3. Mozart: 0.01%\n",
            "----------------------------------------\n",
            "Testing: Adagio in B flat.mid\n",
            "Predicted Composer: MOZART\n",
            "Confidence: 99.96%\n",
            "\n",
            "Top 3 Predictions:\n",
            "  1. Mozart: 99.96%\n",
            "  2. Beethoven: 0.03%\n",
            "  3. Bach: 0.01%\n"
          ]
        }
      ]
    },
    {
      "cell_type": "markdown",
      "source": [
        "So our testing succeeded in 50% of the test cases, and had Bach as 2nd place for the prediction it was in. Not a great result, but getting closer to success."
      ],
      "metadata": {
        "id": "2i1psbRL9LIq"
      }
    },
    {
      "cell_type": "code",
      "source": [
        "from sklearn.metrics import classification_report\n",
        "import numpy as np\n",
        "\n",
        "print(\"Generating classification report for the validation set...\")\n",
        "\n",
        "# Get the model's predictions on the validation data\n",
        "y_pred_probs = model.predict(X_val)\n",
        "y_pred = np.argmax(y_pred_probs, axis=1)\n",
        "\n",
        "# Get the true labels\n",
        "y_true = np.argmax(y_val, axis=1)\n",
        "\n",
        "# Get the composer names from the map for a more readable report\n",
        "# Sort by the class index (0, 1, 2, ...) to match the report order\n",
        "target_names = sorted(composer_map, key=composer_map.get)\n",
        "\n",
        "# Generate and print the report\n",
        "print(\"\\n Classification Report \")\n",
        "print(classification_report(y_true, y_pred, target_names=target_names))"
      ],
      "metadata": {
        "colab": {
          "base_uri": "https://localhost:8080/"
        },
        "id": "EuRslkjhRHGM",
        "outputId": "52622535-f990-46f1-8125-88b31fd7a977"
      },
      "execution_count": 47,
      "outputs": [
        {
          "output_type": "stream",
          "name": "stdout",
          "text": [
            "Generating classification report for the validation set...\n",
            "\u001b[1m507/507\u001b[0m \u001b[32m━━━━━━━━━━━━━━━━━━━━\u001b[0m\u001b[37m\u001b[0m \u001b[1m2s\u001b[0m 4ms/step\n",
            "\n",
            " Classification Report \n",
            "              precision    recall  f1-score   support\n",
            "\n",
            "        bach       0.67      0.88      0.76      2979\n",
            "   beethoven       0.67      0.70      0.68      7148\n",
            "      chopin       0.74      0.57      0.65      4149\n",
            "      mozart       0.39      0.33      0.36      1933\n",
            "\n",
            "    accuracy                           0.65     16209\n",
            "   macro avg       0.62      0.62      0.61     16209\n",
            "weighted avg       0.65      0.65      0.65     16209\n",
            "\n"
          ]
        }
      ]
    }
  ]
}
