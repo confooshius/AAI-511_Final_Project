{
  "nbformat": 4,
  "nbformat_minor": 0,
  "metadata": {
    "colab": {
      "provenance": [],
      "machine_shape": "hm",
      "gpuType": "T4"
    },
    "kernelspec": {
      "name": "python3",
      "display_name": "Python 3"
    },
    "language_info": {
      "name": "python"
    },
    "accelerator": "GPU"
  },
  "cells": [
    {
      "cell_type": "markdown",
      "source": [
        "# AAI 511 Final Project - Victor Hsu, Keith Holder - Composer Prediction Model\n",
        "\n",
        "The code below shows our process for building a Composer prediction model"
      ],
      "metadata": {
        "id": "omETXDKDiEJb"
      }
    },
    {
      "cell_type": "markdown",
      "source": [
        "# Data collection\n",
        "\n",
        "Unzip initial composers from kaggle website"
      ],
      "metadata": {
        "id": "xZ9mMG6Gh6EG"
      }
    },
    {
      "cell_type": "code",
      "execution_count": 13,
      "metadata": {
        "colab": {
          "base_uri": "https://localhost:8080/"
        },
        "id": "0f0HQ6PzgNq3",
        "outputId": "8cfa5788-4cee-4dfa-97ac-f105940d3c87"
      },
      "outputs": [
        {
          "output_type": "stream",
          "name": "stdout",
          "text": [
            "Drive already mounted at /content/drive; to attempt to forcibly remount, call drive.mount(\"/content/drive\", force_remount=True).\n"
          ]
        }
      ],
      "source": [
        "import os\n",
        "import numpy as np\n",
        "from PIL import Image\n",
        "from sklearn.model_selection import train_test_split\n",
        "from google.colab import drive\n",
        "\n",
        "# Mount Google Drive\n",
        "drive.mount('/content/drive')\n",
        "\n",
        "# Extract Music Files\n",
        "zip_path = '/content/drive/My Drive/AAI511_ML/midi_classic_music.zip'\n",
        "extract_path = '/content/midi_classic_music/'\n",
        "\n",
        "# Unzip the file.\n",
        "!unzip -q -n \"{zip_path}\" -d \"{extract_path}\""
      ]
    },
    {
      "cell_type": "markdown",
      "source": [
        "# Keep only the composers mentioned in the final project\n",
        "\n",
        "select the required composers from the given dataset.\n",
        "\n",
        "1-Bach\n",
        "\n",
        "2-Beethoven\n",
        "\n",
        "3-Chopin\n",
        "\n",
        "4-Mozart"
      ],
      "metadata": {
        "id": "RpxqzQPsjnPP"
      }
    },
    {
      "cell_type": "code",
      "source": [
        "import shutil\n",
        "\n",
        "composers = ['Bach', 'Beethoven', 'Chopin', 'Mozart']\n",
        "\n",
        "for item in os.listdir(extract_path):\n",
        "    item_path = os.path.join(extract_path, item)\n",
        "    if os.path.isfile(item_path) and (item.endswith('.mid') or item.endswith('.MID')):\n",
        "        os.remove(item_path)\n",
        "        print(f\"Remove file at root: {item}\")\n",
        "\n",
        "midi_classic_path = extract_path + 'midiclassics'\n",
        "\n",
        "for item in os.listdir(midi_classic_path):\n",
        "    item_path = os.path.join(midi_classic_path, item)\n",
        "    if os.path.isfile(item_path) and (item.endswith('.mid') or item.endswith('.MID')):\n",
        "        os.remove(item_path)\n",
        "        print(f\"Remove file at midi_classic_path: {item}\")\n",
        "\n",
        "# remove rest of non-composer files.\n",
        "for root, dirs, files in os.walk(extract_path, topdown=False):\n",
        "    for dir_name in dirs:\n",
        "        if dir_name in composers:\n",
        "            continue  # Keep this directory\n",
        "\n",
        "        full_path = os.path.join(root, dir_name)\n",
        "        contains_desired = False\n",
        "\n",
        "        for subroot, subdirs, subfiles in os.walk(full_path):\n",
        "            if any(composer in subdirs for composer in composers):\n",
        "                contains_desired = True\n",
        "                break\n",
        "\n",
        "        if not contains_desired:\n",
        "            shutil.rmtree(full_path)\n",
        "            # print(f\"Removed: {full_path}\") for debugging"
      ],
      "metadata": {
        "colab": {
          "base_uri": "https://localhost:8080/"
        },
        "id": "N3Y_89KvjkZD",
        "outputId": "9702a024-f94c-4569-d59f-c3bdbe36838a"
      },
      "execution_count": 14,
      "outputs": [
        {
          "output_type": "stream",
          "name": "stdout",
          "text": [
            "Remove file at root: Tchaikovsky Lake Of The Swans Act 2 13mov.mid\n",
            "Remove file at root: Tchaikovsky Lake Of The Swans Act 2 11mov.mid\n",
            "Remove file at root: Tchaikovsky Lake Of The Swans Act 2 14mov.mid\n",
            "Remove file at root: Tchaikovsky Lake Of The Swans Act 2 10mov.mid\n",
            "Remove file at root: Tchaicovsky Waltz of the Flowers.MID\n",
            "Remove file at root: Tchaikovsky Lake Of The Swans Act 2 12mov.mid\n",
            "Remove file at root: Tchaikovsky Lake Of The Swans Act 1 6mov.mid\n",
            "Remove file at root: Rothchlid Symphony Rmw12 3mov.mid\n",
            "Remove file at root: Tchaikovsky Lake Of The Swans Act 1 7-8movs.mid\n",
            "Remove file at root: Rothchild Symphony Rmw12 2mov.mid\n",
            "Remove file at root: Tchaikovsky Lake Of The Swans Act 1 5mov.mid\n",
            "Remove file at root: Tchaikovsky Lake Of The Swans Act 1 9mov.mid\n",
            "Remove file at root: Wagner Ride of the valkyries.mid\n",
            "Remove file at root: Sibelius Kuolema Vals op44.mid\n",
            "Remove file at root: Tchaikovsky Lake Of The Swans Act 1 3mov.mid\n",
            "Remove file at root: Tchaikovsky Lake Of The Swans Act 1 1mov.mid\n",
            "Remove file at root: Tchaikovsky Lake Of The Swans Act 1 2mov.mid\n",
            "Remove file at root: Tchaikovsky Lake Of The Swans Act 1 4mov.mid\n",
            "Remove file at midi_classic_path: Liszt Paganini Etude n2.mid\n",
            "Remove file at midi_classic_path: Bizet Symphony in C 4mov.mid\n",
            "Remove file at midi_classic_path: Debussy Suite Bergamasque 1mov.mid\n",
            "Remove file at midi_classic_path: Pollen Beguine Royale.mid\n",
            "Remove file at midi_classic_path: Tchaikovsky Lake Of The Swans Act 2 13mov.mid\n",
            "Remove file at midi_classic_path: Kuhlau Sonatina op55 n1.mid\n",
            "Remove file at midi_classic_path: C.P.E.Bach Solfeggieto.mid\n",
            "Remove file at midi_classic_path: Rimsky Korsakov ''Flight Of the Bumblebee''.mid\n",
            "Remove file at midi_classic_path: Buxethude Buxwv157 Tocatta and Fugue.mid\n",
            "Remove file at midi_classic_path: Buxethude Buxwv155 Toccata.mid\n",
            "Remove file at midi_classic_path: Buxethude Buxwv138 Prelude.mid\n",
            "Remove file at midi_classic_path: Buxethude Buxwv153 Prelude.mid\n",
            "Remove file at midi_classic_path: Bizet Symphony in C 1mov.mid\n",
            "Remove file at midi_classic_path: Rothchild Symphony Rmw12 1mov.mid\n",
            "Remove file at midi_classic_path: Tchaikovsky Lake Of The Swans Act 2 11mov.mid\n",
            "Remove file at midi_classic_path: meditation thais.mid\n",
            "Remove file at midi_classic_path: Dvorak Symphony op70 n7 2mov.mid\n",
            "Remove file at midi_classic_path: Tchaikovsky Lake Of The Swans Act 2 14mov.mid\n",
            "Remove file at midi_classic_path: Tchaikovsky Lake Of The Swans Act 2 10mov.mid\n",
            "Remove file at midi_classic_path: Debussy Suite Bergamasque 4mov.mid\n",
            "Remove file at midi_classic_path: Reger Burlesque op58 n3.mid\n",
            "Remove file at midi_classic_path: Diabelli Sonatina op151 n2 3mov.mid\n",
            "Remove file at midi_classic_path: Buxethude Buxwv160 Ciacona.mid\n",
            "Remove file at midi_classic_path: Rothchild Oboe Concerto Rmw09 2mov.mid\n",
            "Remove file at midi_classic_path: Liszt Bach Prelude Transcription.mid\n",
            "Remove file at midi_classic_path: Pachebel Toccata n7.mid\n",
            "Remove file at midi_classic_path: Nicolai Overture The Merry Wives of Windsor.mid\n",
            "Remove file at midi_classic_path: Buxethude Buxwv158 Preambulum.mid\n",
            "Remove file at midi_classic_path: Liszt Paganini Etude n5.mid\n",
            "Remove file at midi_classic_path: Tchaicovsky Waltz of the Flowers.MID\n",
            "Remove file at midi_classic_path: Debussy Suite Bergamasque 2mov.mid\n",
            "Remove file at midi_classic_path: Reinecke Piano Concerto n3 3mov.mid\n",
            "Remove file at midi_classic_path: Reinecke Piano Concerto n3 1mov.mid\n",
            "Remove file at midi_classic_path: Dvorak Trio op26.mid\n",
            "Remove file at midi_classic_path: Reinecke Piano Concerto n3 2mov.mid\n",
            "Remove file at midi_classic_path: Kuhlau Sonatina op60 n3.mid\n",
            "Remove file at midi_classic_path: Bartok Suite 1mov.mid\n",
            "Remove file at midi_classic_path: Diabelli Sonatina op151 n1 1mov.mid\n",
            "Remove file at midi_classic_path: Grieg Piano Concerto 2mov.mid\n",
            "Remove file at midi_classic_path: Tchaikovsky Lake Of The Swans Act 2 12mov.mid\n",
            "Remove file at midi_classic_path: Dvorak Symphony op70 n7 3mov.mid\n",
            "Remove file at midi_classic_path: Debussy Suite Bergamasque 3mov.mid\n",
            "Remove file at midi_classic_path: Dvorak Symphony op70 n7 1mov.mid\n",
            "Remove file at midi_classic_path: Tchaikovsky Lake Of The Swans Act 1 6mov.mid\n",
            "Remove file at midi_classic_path: Rothchlid Symphony Rmw12 3mov.mid\n",
            "Remove file at midi_classic_path: Buxethude Buxwv162 Prelude.mid\n",
            "Remove file at midi_classic_path: Bartok Suite 2mov.mid\n",
            "Remove file at midi_classic_path: Rothchild Horn Concerto Rmw16 3mov.mid\n",
            "Remove file at midi_classic_path: Tchaikovsky Lake Of The Swans Act 1 7-8movs.mid\n",
            "Remove file at midi_classic_path: Liszt Paganini Etude n1.mid\n",
            "Remove file at midi_classic_path: Buxethude Buxwv156 Toccata.mid\n",
            "Remove file at midi_classic_path: Dvorak Symphony op70 n7 4mov.mid\n",
            "Remove file at midi_classic_path: Kuhlau Sonatina op55 n3 1mov.mid\n",
            "Remove file at midi_classic_path: Kuhlau Sonatina op60 n2.mid\n",
            "Remove file at midi_classic_path: Liszt Paganini Etude n3.mid\n",
            "Remove file at midi_classic_path: Rothchild Symphony Rmw12 2mov.mid\n",
            "Remove file at midi_classic_path: Liszt Ab irato ''The Perfect Etude'' S143 R4b.mid\n",
            "Remove file at midi_classic_path: Rothchild Oboe Concerto Rmw09 3mov.mid\n",
            "Remove file at midi_classic_path: Diabelli Sonatina op151 n2 1mov.mid\n",
            "Remove file at midi_classic_path: Buxethude Buxwv136 Prelude.mid\n",
            "Remove file at midi_classic_path: Tchaikovsky Lake Of The Swans Act 1 5mov.mid\n",
            "Remove file at midi_classic_path: Kuhlau Sonatina op20 n1.mid\n",
            "Remove file at midi_classic_path: Diabelli Sonatina op151 n4 2mov.mid\n",
            "Remove file at midi_classic_path: Rothchild Piano Sonata Rmw13 2mov.mid\n",
            "Remove file at midi_classic_path: Lizt Piano Concerto n1 S124.mid\n",
            "Remove file at midi_classic_path: Buxethude Buxwv167 Canzonetta.mid\n",
            "Remove file at midi_classic_path: Buxethude Buxwv161 Passcaglia.mid\n",
            "Remove file at midi_classic_path: Tchaikovsky Lake Of The Swans Act 1 9mov.mid\n",
            "Remove file at midi_classic_path: Diabelli Sonatina op151 n4 1mov.mid\n",
            "Remove file at midi_classic_path: Rothchild Oboe Concerto Rmw09 1mov.mid\n",
            "Remove file at midi_classic_path: Wagner Ride of the valkyries.mid\n",
            "Remove file at midi_classic_path: Pachebel Toccata n1.mid\n",
            "Remove file at midi_classic_path: Reger Burlesque op58 n6.mid\n",
            "Remove file at midi_classic_path: Bizet Symphony in C 3mov.mid\n",
            "Remove file at midi_classic_path: Liszt Hungarian Rhapsody n2.MID\n",
            "Remove file at midi_classic_path: Pachebel Toccata n2.mid\n",
            "Remove file at midi_classic_path: Diabelli Sonatina op151 n3 1mov.mid\n",
            "Remove file at midi_classic_path: Rothchild Piano Sonata Rmw13 1mov.mid\n",
            "Remove file at midi_classic_path: Rothchild Piano Sonata Rmw13 3mov.mid\n",
            "Remove file at midi_classic_path: Sibelius Kuolema Vals op44.mid\n",
            "Remove file at midi_classic_path: Reger Burlesque op58 n5.mid\n",
            "Remove file at midi_classic_path: Diabelli Sonatina op151 n2 2mov.mid\n",
            "Remove file at midi_classic_path: Ginastera Estancia.mid\n",
            "Remove file at midi_classic_path: Buxethude Buxwv157 Toccata.mid\n",
            "Remove file at midi_classic_path: Tchaikovsky Lake Of The Swans Act 1 3mov.mid\n",
            "Remove file at midi_classic_path: Pachebel Toccata n4.mid\n",
            "Remove file at midi_classic_path: Dvorak Slavonic dance n8.mid\n",
            "Remove file at midi_classic_path: Grieg Piano Concerto op16 1mov.mid\n",
            "Remove file at midi_classic_path: Gershuin Rhapsody In Blue Piano Duet.mid\n",
            "Remove file at midi_classic_path: Buxethude Buxwv145 Prelude.mid\n",
            "Remove file at midi_classic_path: Pachebel Toccata n3.mid\n",
            "Remove file at midi_classic_path: Rothchild Horn Concerto Rmw16 2mov.mid\n",
            "Remove file at midi_classic_path: Tchaikovsky Lake Of The Swans Act 1 1mov.mid\n",
            "Remove file at midi_classic_path: Tchaikovsky Lake Of The Swans Act 1 2mov.mid\n",
            "Remove file at midi_classic_path: Bizet Carmen Prelude.mid\n",
            "Remove file at midi_classic_path: Diabelli Sonatina op151 n3 3mov.mid\n",
            "Remove file at midi_classic_path: Diabelli Sonatina op151 n1 2mov.mid\n",
            "Remove file at midi_classic_path: Rothchild Horn Concerto Rmw16 1mov.mid\n",
            "Remove file at midi_classic_path: Diabelli Sonatina op151 n1 3mov.mid\n",
            "Remove file at midi_classic_path: Bizet Symphony in C 2mov.mid\n",
            "Remove file at midi_classic_path: Tchaikovsky Lake Of The Swans Act 1 4mov.mid\n",
            "Remove file at midi_classic_path: Diabelli Sonatina op151 n3 2mov.mid\n"
          ]
        }
      ]
    },
    {
      "cell_type": "markdown",
      "source": [
        "# Pre-processing - feature extraction\n",
        "\n",
        "Convert the musical scores into a format suitable for deep learning models. This involves converting the musical scores into MIDI files and applying data augmentation techniques. Feature extraction happens for notes, chords, etc. We parsed the MIDI files to extract musical notes/chords, and then built a vocabulary, converting into sequences that the model can process."
      ],
      "metadata": {
        "id": "ojV-HEdkA_3Y"
      }
    },
    {
      "cell_type": "code",
      "source": [
        "!pip install music21\n",
        "!pip install mido"
      ],
      "metadata": {
        "colab": {
          "base_uri": "https://localhost:8080/"
        },
        "id": "ZGApEREeBAC8",
        "outputId": "5b8de3d9-490d-45a1-ad6a-a9ce22a99946"
      },
      "execution_count": 15,
      "outputs": [
        {
          "output_type": "stream",
          "name": "stdout",
          "text": [
            "Requirement already satisfied: music21 in /usr/local/lib/python3.11/dist-packages (9.3.0)\n",
            "Requirement already satisfied: chardet in /usr/local/lib/python3.11/dist-packages (from music21) (5.2.0)\n",
            "Requirement already satisfied: joblib in /usr/local/lib/python3.11/dist-packages (from music21) (1.5.1)\n",
            "Requirement already satisfied: jsonpickle in /usr/local/lib/python3.11/dist-packages (from music21) (4.1.1)\n",
            "Requirement already satisfied: matplotlib in /usr/local/lib/python3.11/dist-packages (from music21) (3.10.0)\n",
            "Requirement already satisfied: more-itertools in /usr/local/lib/python3.11/dist-packages (from music21) (10.7.0)\n",
            "Requirement already satisfied: numpy in /usr/local/lib/python3.11/dist-packages (from music21) (2.3.2)\n",
            "Requirement already satisfied: requests in /usr/local/lib/python3.11/dist-packages (from music21) (2.32.3)\n",
            "Requirement already satisfied: webcolors>=1.5 in /usr/local/lib/python3.11/dist-packages (from music21) (24.11.1)\n",
            "Requirement already satisfied: contourpy>=1.0.1 in /usr/local/lib/python3.11/dist-packages (from matplotlib->music21) (1.3.3)\n",
            "Requirement already satisfied: cycler>=0.10 in /usr/local/lib/python3.11/dist-packages (from matplotlib->music21) (0.12.1)\n",
            "Requirement already satisfied: fonttools>=4.22.0 in /usr/local/lib/python3.11/dist-packages (from matplotlib->music21) (4.59.0)\n",
            "Requirement already satisfied: kiwisolver>=1.3.1 in /usr/local/lib/python3.11/dist-packages (from matplotlib->music21) (1.4.8)\n",
            "Requirement already satisfied: packaging>=20.0 in /usr/local/lib/python3.11/dist-packages (from matplotlib->music21) (25.0)\n",
            "Requirement already satisfied: pillow>=8 in /usr/local/lib/python3.11/dist-packages (from matplotlib->music21) (11.3.0)\n",
            "Requirement already satisfied: pyparsing>=2.3.1 in /usr/local/lib/python3.11/dist-packages (from matplotlib->music21) (3.2.3)\n",
            "Requirement already satisfied: python-dateutil>=2.7 in /usr/local/lib/python3.11/dist-packages (from matplotlib->music21) (2.9.0.post0)\n",
            "Requirement already satisfied: charset-normalizer<4,>=2 in /usr/local/lib/python3.11/dist-packages (from requests->music21) (3.4.2)\n",
            "Requirement already satisfied: idna<4,>=2.5 in /usr/local/lib/python3.11/dist-packages (from requests->music21) (3.10)\n",
            "Requirement already satisfied: urllib3<3,>=1.21.1 in /usr/local/lib/python3.11/dist-packages (from requests->music21) (2.5.0)\n",
            "Requirement already satisfied: certifi>=2017.4.17 in /usr/local/lib/python3.11/dist-packages (from requests->music21) (2025.8.3)\n",
            "Requirement already satisfied: six>=1.5 in /usr/local/lib/python3.11/dist-packages (from python-dateutil>=2.7->matplotlib->music21) (1.17.0)\n",
            "Requirement already satisfied: mido in /usr/local/lib/python3.11/dist-packages (1.3.3)\n",
            "Requirement already satisfied: packaging in /usr/local/lib/python3.11/dist-packages (from mido) (25.0)\n"
          ]
        }
      ]
    },
    {
      "cell_type": "code",
      "source": [
        "import numpy as np\n",
        "import os\n",
        "from collections import Counter\n",
        "from pathlib import Path\n",
        "import music21 # needed for pitch conversion\n",
        "import mido    # faster MIDI parser\n",
        "from multiprocessing import Pool, cpu_count\n",
        "\n",
        "#  Get Song Paths\n",
        "def get_songs_by_composer(root_dir):\n",
        "    songs_dict = {}\n",
        "    root_path = Path(root_dir)\n",
        "    for composer_path in root_path.iterdir():\n",
        "        if composer_path.is_dir():\n",
        "            composer_name = composer_path.name.lower()\n",
        "            songs_dict[composer_name] = list(composer_path.glob('**/*.mid*'))\n",
        "    return songs_dict\n",
        "\n",
        "# Feature extraction - notes from files\n",
        "def parse_notes_from_file_mido(file_path):\n",
        "    notes_to_parse = []\n",
        "    try:\n",
        "        midi_file = mido.MidiFile(file_path)\n",
        "        current_chord_notes = []\n",
        "        for msg in mido.merge_tracks(midi_file.tracks):\n",
        "            if msg.time > 0 and current_chord_notes:\n",
        "                current_chord_notes.sort()\n",
        "                notes_to_parse.append('.'.join(current_chord_notes))\n",
        "                current_chord_notes = []\n",
        "            if msg.type == 'note_on' and msg.velocity > 0:\n",
        "                pitch_name = music21.pitch.Pitch(midi=msg.note).nameWithOctave\n",
        "                current_chord_notes.append(pitch_name)\n",
        "        if current_chord_notes:\n",
        "            current_chord_notes.sort()\n",
        "            notes_to_parse.append('.'.join(current_chord_notes))\n",
        "    except Exception as e:\n",
        "        print(f\"  - Could not parse {file_path} with mido: {e}\")\n",
        "    return notes_to_parse\n",
        "\n",
        "if __name__ == '__main__':\n",
        "    MIDI_ROOT_DIR = '/content/midi_classic_music/midiclassics/'\n",
        "\n",
        "    print(f\"Step 1: Building vocabulary in parallel using {cpu_count()} cores...\")\n",
        "    songs_dict = get_songs_by_composer(MIDI_ROOT_DIR)\n",
        "\n",
        "    all_files = [file for files_list in songs_dict.values() for file in files_list]\n",
        "\n",
        "    # Use a multiprocessing Pool to parse files in parallel\n",
        "    with Pool() as pool:\n",
        "        all_note_lists = pool.map(parse_notes_from_file_mido, all_files)\n",
        "\n",
        "    # Flatten the list of lists into a single list of all notes\n",
        "    all_notes = [note for sublist in all_note_lists for note in sublist]\n",
        "\n",
        "    # feature extraction - vocabulary creation\n",
        "    note_counts = Counter(all_notes)\n",
        "    n_vocab = len(note_counts)\n",
        "    pitch_names = sorted(note_counts.keys())\n",
        "    note_to_int = {note: number for number, note in enumerate(pitch_names)}\n",
        "    print(f\"\\nVocabulary Size (unique notes/chords): {n_vocab}\")\n",
        "\n",
        "    #  Create sequences and save\n",
        "    print(\"\\nStep 2: Creating sequences and labeling with composer IDs...\")\n",
        "    network_input = []\n",
        "    network_output = []\n",
        "    sequence_length = 100\n",
        "\n",
        "    file_to_notes_map = dict(zip(all_files, all_note_lists))\n",
        "    # feature extraction - Label Creation\n",
        "    composer_map = {name: i for i, name in enumerate(sorted(songs_dict.keys()))}\n",
        "\n",
        "    for composer_name, song_files in songs_dict.items():\n",
        "        composer_id = composer_map[composer_name]\n",
        "        for song_file in song_files:\n",
        "            notes_in_song = file_to_notes_map[song_file] # Get notes from cache\n",
        "            if len(notes_in_song) > sequence_length:\n",
        "                for i in range(len(notes_in_song) - sequence_length):\n",
        "                    # Feature extraction - This extracts fixed-length sequences (100 notes/chords) as input features, converting them to numerical representations.\n",
        "                    sequence_in = notes_in_song[i : i + sequence_length]\n",
        "                    network_input.append([note_to_int[note] for note in sequence_in])\n",
        "                    network_output.append(composer_id)\n",
        "\n",
        "    print(\"\\nStep 3: Reshaping and normalizing data...\")\n",
        "    n_patterns = len(network_input)\n",
        "    network_input = np.reshape(network_input, (n_patterns, sequence_length, 1))\n",
        "    network_input = network_input / float(n_vocab)\n",
        "    network_output = np.array(network_output)"
      ],
      "metadata": {
        "colab": {
          "base_uri": "https://localhost:8080/"
        },
        "id": "7Zq3XLpagew3",
        "outputId": "27bc0b6d-48c6-42f3-dffb-56d7a7b64da1"
      },
      "execution_count": 16,
      "outputs": [
        {
          "output_type": "stream",
          "name": "stdout",
          "text": [
            "Step 1: Building vocabulary in parallel using 8 cores...\n",
            "  - Could not parse /content/midi_classic_music/midiclassics/Beethoven/Anhang 14-3.mid with mido: Could not decode key with 3 flats and mode 255\n",
            "\n",
            "Vocabulary Size (unique notes/chords): 55053\n",
            "\n",
            "Step 2: Creating sequences and labeling with composer IDs...\n",
            "\n",
            "Step 3: Reshaping and normalizing data...\n"
          ]
        }
      ]
    },
    {
      "cell_type": "markdown",
      "source": [
        "# Saving pre-processed data\n",
        "\n",
        "Saving to speed up execution later on."
      ],
      "metadata": {
        "id": "waZ7iy9YiuSZ"
      }
    },
    {
      "cell_type": "code",
      "source": [
        "# saved preprocessed data for later to save time.\n",
        "\n",
        "drive.mount('/content/drive')\n",
        "os.makedirs('/content/drive/MyDrive/AAI511_ML', exist_ok=True)\n",
        "\n",
        "# we had to go through several iterations to get this right!\n",
        "save_path = '/content/drive/MyDrive/AAI511_ML/preprocessed_composer_data_v4.npz'\n",
        "\n",
        "print(f\"\\nSaving pre-processed data to {save_path}...\")\n",
        "\n",
        "np.savez_compressed(\n",
        "    save_path,\n",
        "    network_input=network_input,\n",
        "    network_output=network_output,\n",
        "    n_vocab=np.array([n_vocab]), # Save n_vocab as a numpy array\n",
        "    composer_map=composer_map,   # Save the composer mapping dictionary\n",
        "    note_to_int=note_to_int      # Save the note mapping dictionary\n",
        ")\n",
        "\n",
        "print(\"Data saved\")"
      ],
      "metadata": {
        "id": "0lbFRfu4OTzY",
        "colab": {
          "base_uri": "https://localhost:8080/"
        },
        "outputId": "4379281b-17a3-484c-f73f-b884f9b3f15f"
      },
      "execution_count": 6,
      "outputs": [
        {
          "output_type": "stream",
          "name": "stdout",
          "text": [
            "Drive already mounted at /content/drive; to attempt to forcibly remount, call drive.mount(\"/content/drive\", force_remount=True).\n",
            "\n",
            "Saving pre-processed data to /content/drive/MyDrive/AAI511_ML/preprocessed_composer_data_v4.npz...\n",
            "Data saved\n"
          ]
        }
      ]
    },
    {
      "cell_type": "markdown",
      "source": [
        "## Model Training\n",
        "\n",
        "data validation - make sure the data is what we expect from the preprocessing step\n",
        "split - split into train/test/validation\n"
      ],
      "metadata": {
        "id": "NEqaj3xIQwGM"
      }
    },
    {
      "cell_type": "code",
      "source": [
        "!pip install --upgrade numpy"
      ],
      "metadata": {
        "colab": {
          "base_uri": "https://localhost:8080/",
          "height": 467
        },
        "id": "VPCrI1kiQwN-",
        "outputId": "f69d2fdf-d9ea-4567-aeda-41cc850b051e"
      },
      "execution_count": 7,
      "outputs": [
        {
          "output_type": "stream",
          "name": "stdout",
          "text": [
            "Requirement already satisfied: numpy in /usr/local/lib/python3.11/dist-packages (2.0.2)\n",
            "Collecting numpy\n",
            "  Downloading numpy-2.3.2-cp311-cp311-manylinux_2_27_x86_64.manylinux_2_28_x86_64.whl.metadata (62 kB)\n",
            "\u001b[2K     \u001b[90m━━━━━━━━━━━━━━━━━━━━━━━━━━━━━━━━━━━━━━━━\u001b[0m \u001b[32m62.1/62.1 kB\u001b[0m \u001b[31m2.9 MB/s\u001b[0m eta \u001b[36m0:00:00\u001b[0m\n",
            "\u001b[?25hDownloading numpy-2.3.2-cp311-cp311-manylinux_2_27_x86_64.manylinux_2_28_x86_64.whl (16.9 MB)\n",
            "\u001b[2K   \u001b[90m━━━━━━━━━━━━━━━━━━━━━━━━━━━━━━━━━━━━━━━━\u001b[0m \u001b[32m16.9/16.9 MB\u001b[0m \u001b[31m105.0 MB/s\u001b[0m eta \u001b[36m0:00:00\u001b[0m\n",
            "\u001b[?25hInstalling collected packages: numpy\n",
            "  Attempting uninstall: numpy\n",
            "    Found existing installation: numpy 2.0.2\n",
            "    Uninstalling numpy-2.0.2:\n",
            "      Successfully uninstalled numpy-2.0.2\n",
            "\u001b[31mERROR: pip's dependency resolver does not currently take into account all the packages that are installed. This behaviour is the source of the following dependency conflicts.\n",
            "opencv-contrib-python 4.12.0.88 requires numpy<2.3.0,>=2; python_version >= \"3.9\", but you have numpy 2.3.2 which is incompatible.\n",
            "numba 0.60.0 requires numpy<2.1,>=1.22, but you have numpy 2.3.2 which is incompatible.\n",
            "opencv-python-headless 4.12.0.88 requires numpy<2.3.0,>=2; python_version >= \"3.9\", but you have numpy 2.3.2 which is incompatible.\n",
            "opencv-python 4.12.0.88 requires numpy<2.3.0,>=2; python_version >= \"3.9\", but you have numpy 2.3.2 which is incompatible.\n",
            "tensorflow 2.19.0 requires numpy<2.2.0,>=1.26.0, but you have numpy 2.3.2 which is incompatible.\n",
            "cupy-cuda12x 13.3.0 requires numpy<2.3,>=1.22, but you have numpy 2.3.2 which is incompatible.\u001b[0m\u001b[31m\n",
            "\u001b[0mSuccessfully installed numpy-2.3.2\n"
          ]
        },
        {
          "output_type": "display_data",
          "data": {
            "application/vnd.colab-display-data+json": {
              "pip_warning": {
                "packages": [
                  "numpy"
                ]
              },
              "id": "66a0087401564cc1b1ee37b67b9b7636"
            }
          },
          "metadata": {}
        }
      ]
    },
    {
      "cell_type": "code",
      "source": [
        "import numpy as np\n",
        "print(f\"NumPy version THIS session is using: {np.__version__}\")\n",
        "import os\n",
        "from google.colab import drive\n",
        "import zipfile\n",
        "\n",
        "# Mount Google Drive\n",
        "drive.mount('/content/drive')\n",
        "\n",
        "save_path = '/content/drive/MyDrive/AAI511_ML/preprocessed_composer_data_v4.npz'\n",
        "\n",
        "# print(f\"Inspecting arrays inside: {save_path}\\n\") for debugging\n",
        "\n",
        "try:\n",
        "    with zipfile.ZipFile(save_path) as zf:\n",
        "        for name in zf.namelist():\n",
        "            if not name.endswith('.npy'):\n",
        "                continue\n",
        "\n",
        "            with zf.open(name) as fp:\n",
        "                # get the file format version\n",
        "                version = np.lib.format.read_magic(fp)\n",
        "\n",
        "                # Call the correct header function based on the version\n",
        "                if version[0] == 1:\n",
        "                    shape, fortran_order, dtype = np.lib.format.read_array_header_1_0(fp)\n",
        "                elif version[0] == 2:\n",
        "                    shape, fortran_order, dtype = np.lib.format.read_array_header_2_0(fp)\n",
        "                else:\n",
        "                    print(f\"--> Array: '{name.replace('.npy', '')}' has an unsupported format version: {version}\")\n",
        "                    continue\n",
        "\n",
        "                array_name = name.replace('.npy', '')\n",
        "                # more debugging\n",
        "                # print(f\"--> Array: '{array_name}'\")\n",
        "                # print(f\"    Shape: {shape}\")\n",
        "                # print(f\"    Data Type (dtype): {dtype}\")\n",
        "                # print(\"-\" * 20)\n",
        "\n",
        "except Exception as e:\n",
        "    print(f\"An error occurred while inspecting the file: {e}\")"
      ],
      "metadata": {
        "colab": {
          "base_uri": "https://localhost:8080/"
        },
        "id": "t6r5V0qRQzCI",
        "outputId": "da225e88-ec71-4f62-e5ce-392fc0ff51cd"
      },
      "execution_count": 2,
      "outputs": [
        {
          "output_type": "stream",
          "name": "stdout",
          "text": [
            "NumPy version THIS session is using: 2.3.2\n",
            "Drive already mounted at /content/drive; to attempt to forcibly remount, call drive.mount(\"/content/drive\", force_remount=True).\n"
          ]
        }
      ]
    },
    {
      "cell_type": "code",
      "source": [
        "import tensorflow as tf\n",
        "import numpy as np\n",
        "from sklearn.model_selection import train_test_split\n",
        "import matplotlib.pyplot as plt\n",
        "\n",
        "# Load the preprocessed data\n",
        "print(f\"Loading preprocessed data from: {save_path}\")\n",
        "with np.load(save_path, allow_pickle=True) as data:\n",
        "    network_input = data['network_input']\n",
        "    network_output = data['network_output']\n",
        "    composer_map = data['composer_map'].item()\n",
        "    note_to_int = data['note_to_int'].item()\n",
        "    sequence_length = network_input.shape[1]\n",
        "\n",
        "    try:\n",
        "        n_vocab = data['n_vocab'].item()\n",
        "    except KeyError:\n",
        "        # If not in npz, use note_to_int\n",
        "        n_vocab = len(note_to_int)\n",
        "\n",
        "print(\"Data loaded!\")\n",
        "\n",
        "# Split data into training (80%) and validation (20%) sets\n",
        "print(\"Splitting data into training and validation sets...\")\n",
        "X_train, X_val, y_train, y_val = train_test_split(\n",
        "    network_input,\n",
        "    network_output,\n",
        "    test_size=0.2,\n",
        "    random_state=42, # for reproducibility\n",
        "    stratify=network_output # Ensures same class distribution in train/val sets\n",
        ")\n",
        "\n",
        "print(f\"Training samples: {len(X_train)}\")\n",
        "print(f\"Validation samples: {len(X_val)}\")"
      ],
      "metadata": {
        "colab": {
          "base_uri": "https://localhost:8080/"
        },
        "id": "yAiBRXi9QzEM",
        "outputId": "535aaa6e-14fe-4592-994b-51cf293fd2ca"
      },
      "execution_count": 3,
      "outputs": [
        {
          "output_type": "stream",
          "name": "stdout",
          "text": [
            "Loading preprocessed data from: /content/drive/MyDrive/AAI511_ML/preprocessed_composer_data_v4.npz\n",
            "Data loaded!\n",
            "Splitting data into training and validation sets...\n",
            "Training samples: 642152\n",
            "Validation samples: 160539\n"
          ]
        }
      ]
    },
    {
      "cell_type": "code",
      "source": [
        "def create_optimized_dataset(features, labels, batch_size=64, is_training=True):\n",
        "    \"\"\"Create an optimized dataset.\"\"\"\n",
        "    dataset = tf.data.Dataset.from_tensor_slices((features, labels))\n",
        "    if is_training:\n",
        "        dataset = dataset.shuffle(len(features), reshuffle_each_iteration=True)\n",
        "\n",
        "    dataset = dataset.batch(batch_size)\n",
        "    dataset = dataset.prefetch(tf.data.AUTOTUNE)\n",
        "    return dataset\n",
        "\n",
        "# Create the datasets\n",
        "BATCH_SIZE = 128\n",
        "train_dataset = create_optimized_dataset(X_train, y_train, batch_size=BATCH_SIZE)\n",
        "validation_dataset = create_optimized_dataset(X_val, y_val, batch_size=BATCH_SIZE, is_training=False)\n",
        "\n",
        "print(\"\\nTensorFlow datasets created.\")"
      ],
      "metadata": {
        "colab": {
          "base_uri": "https://localhost:8080/"
        },
        "id": "69f08iXZQzGU",
        "outputId": "0256e48b-0ad3-49af-ae3c-487bddd13db6"
      },
      "execution_count": 4,
      "outputs": [
        {
          "output_type": "stream",
          "name": "stdout",
          "text": [
            "\n",
            "TensorFlow datasets created.\n"
          ]
        }
      ]
    },
    {
      "cell_type": "markdown",
      "source": [
        "## Define/Compile LSTM-CNN Model"
      ],
      "metadata": {
        "id": "IzmPexdZQ7F0"
      }
    },
    {
      "cell_type": "code",
      "source": [
        "def build_cnn_lstm_model(input_shape, num_classes):\n",
        "    \"\"\"Builds a hybrid CNN-LSTM model for sequence classification.\"\"\"\n",
        "    model = tf.keras.Sequential([\n",
        "        # Input Layer\n",
        "        tf.keras.layers.Input(shape=input_shape),\n",
        "\n",
        "        # 1. CNN Block: To find local musical patterns\n",
        "        tf.keras.layers.Conv1D(filters=128, kernel_size=5, activation='relu', padding='causal'),\n",
        "        tf.keras.layers.MaxPooling1D(pool_size=2),\n",
        "        tf.keras.layers.Dropout(0.2),\n",
        "\n",
        "        # 2. LSTM Block: To learn long-term structure\n",
        "        tf.keras.layers.LSTM(256, return_sequences=False),\n",
        "        tf.keras.layers.Dropout(0.3),\n",
        "\n",
        "        # 3. Classification\n",
        "        tf.keras.layers.Dense(128, activation='relu'),\n",
        "        tf.keras.layers.Dense(num_classes, activation='softmax') # Softmax for multi-class classification\n",
        "    ])\n",
        "    return model\n",
        "\n",
        "# Get model parameters from the data\n",
        "input_shape = X_train.shape[1:]\n",
        "num_classes = len(np.unique(network_output))\n",
        "\n",
        "# Build and compile the model\n",
        "print(\"\\nBuilding and compiling the model...\")\n",
        "model = build_cnn_lstm_model(input_shape=input_shape, num_classes=num_classes)\n",
        "\n",
        "model.compile(\n",
        "    optimizer=tf.keras.optimizers.Adam(learning_rate=0.001), # adjusted learning rate after some attempts\n",
        "    loss='sparse_categorical_crossentropy', # Use this for integer labels\n",
        "    metrics=['accuracy']\n",
        ")\n",
        "\n",
        "model.summary()"
      ],
      "metadata": {
        "colab": {
          "base_uri": "https://localhost:8080/",
          "height": 404
        },
        "id": "I0ZMzzDZQzIU",
        "outputId": "056575b5-5f23-441b-ab13-84431fcd4347"
      },
      "execution_count": 5,
      "outputs": [
        {
          "output_type": "stream",
          "name": "stdout",
          "text": [
            "\n",
            "Building and compiling the model...\n"
          ]
        },
        {
          "output_type": "display_data",
          "data": {
            "text/plain": [
              "\u001b[1mModel: \"sequential\"\u001b[0m\n"
            ],
            "text/html": [
              "<pre style=\"white-space:pre;overflow-x:auto;line-height:normal;font-family:Menlo,'DejaVu Sans Mono',consolas,'Courier New',monospace\"><span style=\"font-weight: bold\">Model: \"sequential\"</span>\n",
              "</pre>\n"
            ]
          },
          "metadata": {}
        },
        {
          "output_type": "display_data",
          "data": {
            "text/plain": [
              "┏━━━━━━━━━━━━━━━━━━━━━━━━━━━━━━━━━┳━━━━━━━━━━━━━━━━━━━━━━━━┳━━━━━━━━━━━━━━━┓\n",
              "┃\u001b[1m \u001b[0m\u001b[1mLayer (type)                   \u001b[0m\u001b[1m \u001b[0m┃\u001b[1m \u001b[0m\u001b[1mOutput Shape          \u001b[0m\u001b[1m \u001b[0m┃\u001b[1m \u001b[0m\u001b[1m      Param #\u001b[0m\u001b[1m \u001b[0m┃\n",
              "┡━━━━━━━━━━━━━━━━━━━━━━━━━━━━━━━━━╇━━━━━━━━━━━━━━━━━━━━━━━━╇━━━━━━━━━━━━━━━┩\n",
              "│ conv1d (\u001b[38;5;33mConv1D\u001b[0m)                 │ (\u001b[38;5;45mNone\u001b[0m, \u001b[38;5;34m100\u001b[0m, \u001b[38;5;34m128\u001b[0m)       │           \u001b[38;5;34m768\u001b[0m │\n",
              "├─────────────────────────────────┼────────────────────────┼───────────────┤\n",
              "│ max_pooling1d (\u001b[38;5;33mMaxPooling1D\u001b[0m)    │ (\u001b[38;5;45mNone\u001b[0m, \u001b[38;5;34m50\u001b[0m, \u001b[38;5;34m128\u001b[0m)        │             \u001b[38;5;34m0\u001b[0m │\n",
              "├─────────────────────────────────┼────────────────────────┼───────────────┤\n",
              "│ dropout (\u001b[38;5;33mDropout\u001b[0m)               │ (\u001b[38;5;45mNone\u001b[0m, \u001b[38;5;34m50\u001b[0m, \u001b[38;5;34m128\u001b[0m)        │             \u001b[38;5;34m0\u001b[0m │\n",
              "├─────────────────────────────────┼────────────────────────┼───────────────┤\n",
              "│ lstm (\u001b[38;5;33mLSTM\u001b[0m)                     │ (\u001b[38;5;45mNone\u001b[0m, \u001b[38;5;34m256\u001b[0m)            │       \u001b[38;5;34m394,240\u001b[0m │\n",
              "├─────────────────────────────────┼────────────────────────┼───────────────┤\n",
              "│ dropout_1 (\u001b[38;5;33mDropout\u001b[0m)             │ (\u001b[38;5;45mNone\u001b[0m, \u001b[38;5;34m256\u001b[0m)            │             \u001b[38;5;34m0\u001b[0m │\n",
              "├─────────────────────────────────┼────────────────────────┼───────────────┤\n",
              "│ dense (\u001b[38;5;33mDense\u001b[0m)                   │ (\u001b[38;5;45mNone\u001b[0m, \u001b[38;5;34m128\u001b[0m)            │        \u001b[38;5;34m32,896\u001b[0m │\n",
              "├─────────────────────────────────┼────────────────────────┼───────────────┤\n",
              "│ dense_1 (\u001b[38;5;33mDense\u001b[0m)                 │ (\u001b[38;5;45mNone\u001b[0m, \u001b[38;5;34m4\u001b[0m)              │           \u001b[38;5;34m516\u001b[0m │\n",
              "└─────────────────────────────────┴────────────────────────┴───────────────┘\n"
            ],
            "text/html": [
              "<pre style=\"white-space:pre;overflow-x:auto;line-height:normal;font-family:Menlo,'DejaVu Sans Mono',consolas,'Courier New',monospace\">┏━━━━━━━━━━━━━━━━━━━━━━━━━━━━━━━━━┳━━━━━━━━━━━━━━━━━━━━━━━━┳━━━━━━━━━━━━━━━┓\n",
              "┃<span style=\"font-weight: bold\"> Layer (type)                    </span>┃<span style=\"font-weight: bold\"> Output Shape           </span>┃<span style=\"font-weight: bold\">       Param # </span>┃\n",
              "┡━━━━━━━━━━━━━━━━━━━━━━━━━━━━━━━━━╇━━━━━━━━━━━━━━━━━━━━━━━━╇━━━━━━━━━━━━━━━┩\n",
              "│ conv1d (<span style=\"color: #0087ff; text-decoration-color: #0087ff\">Conv1D</span>)                 │ (<span style=\"color: #00d7ff; text-decoration-color: #00d7ff\">None</span>, <span style=\"color: #00af00; text-decoration-color: #00af00\">100</span>, <span style=\"color: #00af00; text-decoration-color: #00af00\">128</span>)       │           <span style=\"color: #00af00; text-decoration-color: #00af00\">768</span> │\n",
              "├─────────────────────────────────┼────────────────────────┼───────────────┤\n",
              "│ max_pooling1d (<span style=\"color: #0087ff; text-decoration-color: #0087ff\">MaxPooling1D</span>)    │ (<span style=\"color: #00d7ff; text-decoration-color: #00d7ff\">None</span>, <span style=\"color: #00af00; text-decoration-color: #00af00\">50</span>, <span style=\"color: #00af00; text-decoration-color: #00af00\">128</span>)        │             <span style=\"color: #00af00; text-decoration-color: #00af00\">0</span> │\n",
              "├─────────────────────────────────┼────────────────────────┼───────────────┤\n",
              "│ dropout (<span style=\"color: #0087ff; text-decoration-color: #0087ff\">Dropout</span>)               │ (<span style=\"color: #00d7ff; text-decoration-color: #00d7ff\">None</span>, <span style=\"color: #00af00; text-decoration-color: #00af00\">50</span>, <span style=\"color: #00af00; text-decoration-color: #00af00\">128</span>)        │             <span style=\"color: #00af00; text-decoration-color: #00af00\">0</span> │\n",
              "├─────────────────────────────────┼────────────────────────┼───────────────┤\n",
              "│ lstm (<span style=\"color: #0087ff; text-decoration-color: #0087ff\">LSTM</span>)                     │ (<span style=\"color: #00d7ff; text-decoration-color: #00d7ff\">None</span>, <span style=\"color: #00af00; text-decoration-color: #00af00\">256</span>)            │       <span style=\"color: #00af00; text-decoration-color: #00af00\">394,240</span> │\n",
              "├─────────────────────────────────┼────────────────────────┼───────────────┤\n",
              "│ dropout_1 (<span style=\"color: #0087ff; text-decoration-color: #0087ff\">Dropout</span>)             │ (<span style=\"color: #00d7ff; text-decoration-color: #00d7ff\">None</span>, <span style=\"color: #00af00; text-decoration-color: #00af00\">256</span>)            │             <span style=\"color: #00af00; text-decoration-color: #00af00\">0</span> │\n",
              "├─────────────────────────────────┼────────────────────────┼───────────────┤\n",
              "│ dense (<span style=\"color: #0087ff; text-decoration-color: #0087ff\">Dense</span>)                   │ (<span style=\"color: #00d7ff; text-decoration-color: #00d7ff\">None</span>, <span style=\"color: #00af00; text-decoration-color: #00af00\">128</span>)            │        <span style=\"color: #00af00; text-decoration-color: #00af00\">32,896</span> │\n",
              "├─────────────────────────────────┼────────────────────────┼───────────────┤\n",
              "│ dense_1 (<span style=\"color: #0087ff; text-decoration-color: #0087ff\">Dense</span>)                 │ (<span style=\"color: #00d7ff; text-decoration-color: #00d7ff\">None</span>, <span style=\"color: #00af00; text-decoration-color: #00af00\">4</span>)              │           <span style=\"color: #00af00; text-decoration-color: #00af00\">516</span> │\n",
              "└─────────────────────────────────┴────────────────────────┴───────────────┘\n",
              "</pre>\n"
            ]
          },
          "metadata": {}
        },
        {
          "output_type": "display_data",
          "data": {
            "text/plain": [
              "\u001b[1m Total params: \u001b[0m\u001b[38;5;34m428,420\u001b[0m (1.63 MB)\n"
            ],
            "text/html": [
              "<pre style=\"white-space:pre;overflow-x:auto;line-height:normal;font-family:Menlo,'DejaVu Sans Mono',consolas,'Courier New',monospace\"><span style=\"font-weight: bold\"> Total params: </span><span style=\"color: #00af00; text-decoration-color: #00af00\">428,420</span> (1.63 MB)\n",
              "</pre>\n"
            ]
          },
          "metadata": {}
        },
        {
          "output_type": "display_data",
          "data": {
            "text/plain": [
              "\u001b[1m Trainable params: \u001b[0m\u001b[38;5;34m428,420\u001b[0m (1.63 MB)\n"
            ],
            "text/html": [
              "<pre style=\"white-space:pre;overflow-x:auto;line-height:normal;font-family:Menlo,'DejaVu Sans Mono',consolas,'Courier New',monospace\"><span style=\"font-weight: bold\"> Trainable params: </span><span style=\"color: #00af00; text-decoration-color: #00af00\">428,420</span> (1.63 MB)\n",
              "</pre>\n"
            ]
          },
          "metadata": {}
        },
        {
          "output_type": "display_data",
          "data": {
            "text/plain": [
              "\u001b[1m Non-trainable params: \u001b[0m\u001b[38;5;34m0\u001b[0m (0.00 B)\n"
            ],
            "text/html": [
              "<pre style=\"white-space:pre;overflow-x:auto;line-height:normal;font-family:Menlo,'DejaVu Sans Mono',consolas,'Courier New',monospace\"><span style=\"font-weight: bold\"> Non-trainable params: </span><span style=\"color: #00af00; text-decoration-color: #00af00\">0</span> (0.00 B)\n",
              "</pre>\n"
            ]
          },
          "metadata": {}
        }
      ]
    },
    {
      "cell_type": "code",
      "source": [
        "# Add a callback to stop training early if performance plateaus\n",
        "early_stopping = tf.keras.callbacks.EarlyStopping(\n",
        "    monitor='val_loss',  # Monitor the validation loss\n",
        "    patience=5,          # Stop after 5 epochs with no improvement\n",
        "    restore_best_weights=True # Restore the best model weights found\n",
        ")\n",
        "\n",
        "print(\"\\nStarting model training...\")\n",
        "history = model.fit(\n",
        "    train_dataset,\n",
        "    epochs=40, # Set a high number, early stopping will find the best epoch\n",
        "    validation_data=validation_dataset,\n",
        "    callbacks=[early_stopping],\n",
        "    verbose=0 # to keep code clean\n",
        ")\n",
        "print(\"\\nModel training complete\")"
      ],
      "metadata": {
        "colab": {
          "base_uri": "https://localhost:8080/"
        },
        "id": "EYkx3OcyQzKi",
        "outputId": "00fc1476-3325-4bdc-ef34-22ae89413c04"
      },
      "execution_count": 6,
      "outputs": [
        {
          "output_type": "stream",
          "name": "stdout",
          "text": [
            "\n",
            "Starting model training...\n"
          ]
        }
      ]
    },
    {
      "cell_type": "code",
      "source": [
        "import pickle\n",
        "\n",
        "# save the model for later use, with meta data for easier testing.\n",
        "model.save('/content/drive/MyDrive/AAI511_ML/composer_classifier_model_v2.keras')\n",
        "print(\"Model saved as 'composer_classifier_model.keras'\")\n",
        "\n",
        "model_metadata = {\n",
        "    'note_to_int': note_to_int,\n",
        "    'composer_map': composer_map,\n",
        "    'sequence_length': sequence_length,\n",
        "    'n_vocab': n_vocab\n",
        "}\n",
        "\n",
        "metadata_path = os.path.join('/content/drive/MyDrive/AAI511_ML/', 'model_metadata_v2.pkl')\n",
        "with open(metadata_path, 'wb') as f:\n",
        "    pickle.dump(model_metadata, f)\n",
        "print(f\"Metadata saved to: {metadata_path}\")"
      ],
      "metadata": {
        "colab": {
          "base_uri": "https://localhost:8080/"
        },
        "id": "NKY1FU01cb7M",
        "outputId": "e1c61472-dca7-4cc0-edff-ccf0e751ec7b"
      },
      "execution_count": 8,
      "outputs": [
        {
          "output_type": "stream",
          "name": "stdout",
          "text": [
            "Model saved as 'composer_classifier_model.keras'\n",
            "Metadata saved to: /content/drive/MyDrive/AAI511_ML/model_metadata_v2.pkl\n"
          ]
        }
      ]
    },
    {
      "cell_type": "code",
      "source": [
        "def plot_history(history):\n",
        "    \"\"\"Plots the training and validation accuracy and loss.\"\"\"\n",
        "    acc = history.history['accuracy']\n",
        "    val_acc = history.history['val_accuracy']\n",
        "    loss = history.history['loss']\n",
        "    val_loss = history.history['val_loss']\n",
        "\n",
        "    epochs_range = range(len(acc))\n",
        "\n",
        "    plt.figure(figsize=(14, 5))\n",
        "\n",
        "    plt.subplot(1, 2, 1)\n",
        "    plt.plot(epochs_range, acc, label='Training Accuracy')\n",
        "    plt.plot(epochs_range, val_acc, label='Validation Accuracy')\n",
        "    plt.legend(loc='lower right')\n",
        "    plt.title('Training and Validation Accuracy')\n",
        "    plt.xlabel('Epoch')\n",
        "\n",
        "    plt.subplot(1, 2, 2)\n",
        "    plt.plot(epochs_range, loss, label='Training Loss')\n",
        "    plt.plot(epochs_range, val_loss, label='Validation Loss')\n",
        "    plt.legend(loc='upper right')\n",
        "    plt.title('Training and Validation Loss')\n",
        "    plt.xlabel('Epoch')\n",
        "\n",
        "    plt.show()\n",
        "\n",
        "plot_history(history)"
      ],
      "metadata": {
        "colab": {
          "base_uri": "https://localhost:8080/",
          "height": 487
        },
        "id": "LzF2455WQzMy",
        "outputId": "f565b1bd-76d6-4e85-aad1-f8e0343097c5"
      },
      "execution_count": 9,
      "outputs": [
        {
          "output_type": "display_data",
          "data": {
            "text/plain": [
              "<Figure size 1400x500 with 2 Axes>"
            ],
            "image/png": "[encoded data removed]"
          },
          "metadata": {}
        }
      ]
    },
    {
      "cell_type": "code",
      "source": [
        "# testing to make sure model works\n",
        "\n",
        "def load_model_and_metadata(base_dir='/content/drive/MyDrive/AAI511_ML/'):\n",
        "    \"\"\"Load the saved model and metadata\"\"\"\n",
        "    import os\n",
        "\n",
        "    model_path = os.path.join(base_dir, 'composer_classifier_model_v2.keras')\n",
        "    metadata_path = os.path.join(base_dir, 'model_metadata.pkl')\n",
        "\n",
        "    # Load the model\n",
        "    model_loaded = tf.keras.models.load_model(model_path)\n",
        "    print(f\"Model loaded from: {model_path}\")\n",
        "\n",
        "    # Load metadata\n",
        "    with open(metadata_path, 'rb') as f:\n",
        "        metadata = pickle.load(f)\n",
        "    print(f\"Metadata loaded from: {metadata_path}\")\n",
        "\n",
        "    return model_loaded, metadata\n",
        "\n",
        "# simple test function\n",
        "def test_midi_file(file_path, base_dir='/content/drive/MyDrive/AAI511_ML/'):\n",
        "    \"\"\"Test a single MIDI file using saved model\"\"\"\n",
        "    import numpy as np\n",
        "\n",
        "    # Load model and metadata\n",
        "    model, metadata = load_model_and_metadata(base_dir)\n",
        "\n",
        "    # Parse the MIDI file\n",
        "    notes = parse_notes_from_file_mido(file_path)\n",
        "\n",
        "    if len(notes) < metadata['sequence_length']:\n",
        "        print(f\"File too short: {len(notes)} notes, need {metadata['sequence_length']}\")\n",
        "        return\n",
        "\n",
        "    # Take first sequence\n",
        "    test_sequence = notes[:metadata['sequence_length']]\n",
        "\n",
        "    # Convert to integers\n",
        "    try:\n",
        "        int_sequence = [metadata['note_to_int'][note] for note in test_sequence]\n",
        "    except KeyError as e:\n",
        "        print(f\"Unknown note in file: {e}\")\n",
        "        return\n",
        "\n",
        "    # Preprocess\n",
        "    test_input = np.array(int_sequence).reshape(1, metadata['sequence_length'], 1)\n",
        "    test_input = test_input / float(metadata['n_vocab'])\n",
        "\n",
        "    # Predict\n",
        "    prediction = model.predict(test_input, verbose=0)\n",
        "    predicted_id = np.argmax(prediction[0])\n",
        "    confidence = prediction[0][predicted_id]\n",
        "\n",
        "    # Get composer name\n",
        "    id_to_composer = {v: k for k, v in metadata['composer_map'].items()}\n",
        "    predicted_composer = id_to_composer[predicted_id]\n",
        "\n",
        "    print(f\"\\nTesting: {os.path.basename(file_path)}\")\n",
        "    print(f\"Predicted composer: {predicted_composer.upper()}\")\n",
        "    print(f\"Confidence: {confidence:.4f}\")\n",
        "\n",
        "    # Show top 3 predictions\n",
        "    top_3 = np.argsort(prediction[0])[-3:][::-1]\n",
        "    print(f\"\\n🏆 Top 3 predictions:\")\n",
        "    for i, idx in enumerate(top_3):\n",
        "        composer = id_to_composer[idx]\n",
        "        prob = prediction[0][idx]\n",
        "        print(f\"   {i+1}. {composer}: {prob:.4f}\")\n",
        "\n",
        "test_file = '/content/midi_classic_music/midiclassics/Bach/AveMaria.mid'\n",
        "# add more test files here for more testing as needed\n",
        "test_midi_file(test_file)\n",
        "\n",
        "# the warning is expected and has no impact on model performance"
      ],
      "metadata": {
        "colab": {
          "base_uri": "https://localhost:8080/"
        },
        "id": "7D-Khe-5RFII",
        "outputId": "06033272-c7d9-448c-9670-3c8798483595"
      },
      "execution_count": 17,
      "outputs": [
        {
          "output_type": "stream",
          "name": "stdout",
          "text": [
            "Model loaded from: /content/drive/MyDrive/AAI511_ML/composer_classifier_model_v2.keras\n",
            "Metadata loaded from: /content/drive/MyDrive/AAI511_ML/model_metadata.pkl\n",
            "\n",
            "Testing: AveMaria.mid\n",
            "Predicted composer: BACH\n",
            "Confidence: 1.0000\n",
            "\n",
            "🏆 Top 3 predictions:\n",
            "   1. bach: 1.0000\n",
            "   2. beethoven: 0.0000\n",
            "   3. mozart: 0.0000\n"
          ]
        }
      ]
    },
    {
      "cell_type": "code",
      "source": [
        "from sklearn.metrics import classification_report\n",
        "import numpy as np\n",
        "\n",
        "print(\"Generating classification report for the validation set...\")\n",
        "\n",
        "# Get the model's predictions on the validation data\n",
        "# The model outputs probabilities, so we use np.argmax to get the predicted class index\n",
        "y_pred_probs = model.predict(X_val)\n",
        "y_pred = np.argmax(y_pred_probs, axis=1)\n",
        "\n",
        "# Get the true labels\n",
        "y_true = y_val\n",
        "\n",
        "# Get the composer names from the map for a more readable report\n",
        "# Sort by the class index (0, 1, 2, ...) to match the report order\n",
        "target_names = sorted(composer_map, key=composer_map.get)\n",
        "\n",
        "# Generate and print the report\n",
        "print(\"\\n Classification Report \")\n",
        "print(classification_report(y_true, y_pred, target_names=target_names))"
      ],
      "metadata": {
        "colab": {
          "base_uri": "https://localhost:8080/"
        },
        "id": "EuRslkjhRHGM",
        "outputId": "6228b778-f514-49a0-a0f6-812bbb3215a0"
      },
      "execution_count": 18,
      "outputs": [
        {
          "output_type": "stream",
          "name": "stdout",
          "text": [
            "Generating classification report for the validation set...\n",
            "\u001b[1m5017/5017\u001b[0m \u001b[32m━━━━━━━━━━━━━━━━━━━━\u001b[0m\u001b[37m\u001b[0m \u001b[1m11s\u001b[0m 2ms/step\n",
            "\n",
            " Classification Report \n",
            "              precision    recall  f1-score   support\n",
            "\n",
            "        bach       1.00      1.00      1.00     35714\n",
            "   beethoven       1.00      1.00      1.00     60499\n",
            "      chopin       1.00      1.00      1.00     37711\n",
            "      mozart       1.00      1.00      1.00     26615\n",
            "\n",
            "    accuracy                           1.00    160539\n",
            "   macro avg       1.00      1.00      1.00    160539\n",
            "weighted avg       1.00      1.00      1.00    160539\n",
            "\n"
          ]
        }
      ]
    }
  ]
}
