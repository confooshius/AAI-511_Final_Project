{
  "nbformat": 4,
  "nbformat_minor": 0,
  "metadata": {
    "colab": {
      "provenance": []
    },
    "kernelspec": {
      "name": "python3",
      "display_name": "Python 3"
    },
    "language_info": {
      "name": "python"
    }
  },
  "cells": [
    {
      "cell_type": "code",
      "execution_count": 3,
      "metadata": {
        "colab": {
          "base_uri": "https://localhost:8080/"
        },
        "id": "0f0HQ6PzgNq3",
        "outputId": "695da72a-769a-4bf6-89a9-420ed84cb91b"
      },
      "outputs": [
        {
          "output_type": "stream",
          "name": "stdout",
          "text": [
            "Drive already mounted at /content/drive; to attempt to forcibly remount, call drive.mount(\"/content/drive\", force_remount=True).\n"
          ]
        }
      ],
      "source": [
        "import os\n",
        "import numpy as np\n",
        "from PIL import Image\n",
        "from sklearn.model_selection import train_test_split\n",
        "from google.colab import drive\n",
        "\n",
        "# Mount Google Drive\n",
        "drive.mount('/content/drive')\n",
        "\n",
        "# Extract Sentiment\n",
        "zip_path = '/content/drive/My Drive/AAI511_ML/midi_classic_music.zip'\n",
        "extract_path = '/content/midi_classic_music/'\n",
        "\n",
        "# Unzip the file.\n",
        "!unzip -q -n \"{zip_path}\" -d \"{extract_path}\""
      ]
    },
    {
      "cell_type": "markdown",
      "source": [
        "# Keep only the composers mentioned in the final project\n",
        "\n",
        "Please only do your prediction only for below composers, therefore you need to select the required composers from the given dataset above.\n",
        "\n",
        "1-Bach\n",
        "\n",
        "2-Beethoven\n",
        "\n",
        "3-Chopin\n",
        "\n",
        "4-Mozart"
      ],
      "metadata": {
        "id": "RpxqzQPsjnPP"
      }
    },
    {
      "cell_type": "code",
      "source": [
        "import shutil\n",
        "\n",
        "composers = ['Bach', 'Beethoven', 'Chopin', 'Mozart']\n",
        "\n",
        "for item in os.listdir(extract_path):\n",
        "    item_path = os.path.join(extract_path, item)\n",
        "    if os.path.isfile(item_path) and (item.endswith('.mid') or item.endswith('.MID')):\n",
        "        os.remove(item_path)\n",
        "        print(f\"Remove file at root: {item}\")\n",
        "\n",
        "midi_classic_path = extract_path + 'midiclassics'\n",
        "\n",
        "for item in os.listdir(midi_classic_path):\n",
        "    item_path = os.path.join(midi_classic_path, item)\n",
        "    if os.path.isfile(item_path) and (item.endswith('.mid') or item.endswith('.MID')):\n",
        "        os.remove(item_path)\n",
        "        print(f\"Remove file at midi_classic_path: {item}\")\n",
        "\n",
        "for root, dirs, files in os.walk(extract_path, topdown=False):\n",
        "    for dir_name in dirs:\n",
        "        # Check if this directory is one of our desired composers\n",
        "        if dir_name in composers:\n",
        "            continue  # Keep this directory\n",
        "\n",
        "        # Check if this directory contains any of our desired composers as subdirectories\n",
        "        full_path = os.path.join(root, dir_name)\n",
        "        contains_desired = False\n",
        "\n",
        "        for subroot, subdirs, subfiles in os.walk(full_path):\n",
        "            if any(composer in subdirs for composer in composers):\n",
        "                contains_desired = True\n",
        "                break\n",
        "\n",
        "        # If it doesn't contain desired composers, remove it\n",
        "        if not contains_desired:\n",
        "            shutil.rmtree(full_path)\n",
        "            print(f\"Removed: {full_path}\")"
      ],
      "metadata": {
        "colab": {
          "base_uri": "https://localhost:8080/"
        },
        "id": "N3Y_89KvjkZD",
        "outputId": "9fd25d62-e807-4423-a336-1072ee99b68f"
      },
      "execution_count": 11,
      "outputs": [
        {
          "output_type": "stream",
          "name": "stdout",
          "text": [
            "Remove file at midi_classic_path: Tchaikovsky Lake Of The Swans Act 1 6mov.mid\n",
            "Remove file at midi_classic_path: Diabelli Sonatina op151 n2 3mov.mid\n",
            "Remove file at midi_classic_path: Rothchild Piano Sonata Rmw13 1mov.mid\n",
            "Remove file at midi_classic_path: Kuhlau Sonatina op20 n1.mid\n",
            "Remove file at midi_classic_path: Diabelli Sonatina op151 n3 2mov.mid\n",
            "Remove file at midi_classic_path: Rothchild Horn Concerto Rmw16 1mov.mid\n",
            "Remove file at midi_classic_path: Bizet Carmen Prelude.mid\n",
            "Remove file at midi_classic_path: Tchaikovsky Lake Of The Swans Act 2 13mov.mid\n",
            "Remove file at midi_classic_path: Buxethude Buxwv167 Canzonetta.mid\n",
            "Remove file at midi_classic_path: Buxethude Buxwv136 Prelude.mid\n",
            "Remove file at midi_classic_path: Rothchild Oboe Concerto Rmw09 3mov.mid\n",
            "Remove file at midi_classic_path: Tchaikovsky Lake Of The Swans Act 1 9mov.mid\n",
            "Remove file at midi_classic_path: Diabelli Sonatina op151 n2 2mov.mid\n",
            "Remove file at midi_classic_path: Buxethude Buxwv156 Toccata.mid\n",
            "Remove file at midi_classic_path: Reinecke Piano Concerto n3 2mov.mid\n",
            "Remove file at midi_classic_path: Pachebel Toccata n3.mid\n",
            "Remove file at midi_classic_path: Kuhlau Sonatina op55 n3 1mov.mid\n",
            "Remove file at midi_classic_path: Diabelli Sonatina op151 n1 2mov.mid\n",
            "Remove file at midi_classic_path: Rimsky Korsakov ''Flight Of the Bumblebee''.mid\n",
            "Remove file at midi_classic_path: Debussy Suite Bergamasque 4mov.mid\n",
            "Remove file at midi_classic_path: Bartok Suite 2mov.mid\n",
            "Remove file at midi_classic_path: Bartok Suite 1mov.mid\n",
            "Remove file at midi_classic_path: Sibelius Kuolema Vals op44.mid\n",
            "Remove file at midi_classic_path: Tchaikovsky Lake Of The Swans Act 1 5mov.mid\n",
            "Remove file at midi_classic_path: Buxethude Buxwv158 Preambulum.mid\n",
            "Remove file at midi_classic_path: Liszt Hungarian Rhapsody n2.MID\n",
            "Remove file at midi_classic_path: Rothchlid Symphony Rmw12 3mov.mid\n",
            "Remove file at midi_classic_path: Tchaikovsky Lake Of The Swans Act 1 7-8movs.mid\n",
            "Remove file at midi_classic_path: Tchaikovsky Lake Of The Swans Act 1 4mov.mid\n",
            "Remove file at midi_classic_path: Buxethude Buxwv157 Tocatta and Fugue.mid\n",
            "Remove file at midi_classic_path: Tchaikovsky Lake Of The Swans Act 2 10mov.mid\n",
            "Remove file at midi_classic_path: Debussy Suite Bergamasque 3mov.mid\n",
            "Remove file at midi_classic_path: Liszt Paganini Etude n2.mid\n",
            "Remove file at midi_classic_path: Rothchild Horn Concerto Rmw16 3mov.mid\n",
            "Remove file at midi_classic_path: Rothchild Oboe Concerto Rmw09 1mov.mid\n",
            "Remove file at midi_classic_path: Dvorak Symphony op70 n7 2mov.mid\n",
            "Remove file at midi_classic_path: Liszt Paganini Etude n5.mid\n",
            "Remove file at midi_classic_path: Liszt Bach Prelude Transcription.mid\n",
            "Remove file at midi_classic_path: Diabelli Sonatina op151 n4 1mov.mid\n",
            "Remove file at midi_classic_path: Diabelli Sonatina op151 n2 1mov.mid\n",
            "Remove file at midi_classic_path: Pachebel Toccata n1.mid\n",
            "Remove file at midi_classic_path: Diabelli Sonatina op151 n4 2mov.mid\n",
            "Remove file at midi_classic_path: Buxethude Buxwv157 Toccata.mid\n",
            "Remove file at midi_classic_path: Liszt Paganini Etude n3.mid\n",
            "Remove file at midi_classic_path: Dvorak Symphony op70 n7 4mov.mid\n",
            "Remove file at midi_classic_path: Buxethude Buxwv161 Passcaglia.mid\n",
            "Remove file at midi_classic_path: Bizet Symphony in C 1mov.mid\n",
            "Remove file at midi_classic_path: Liszt Ab irato ''The Perfect Etude'' S143 R4b.mid\n",
            "Remove file at midi_classic_path: Ginastera Estancia.mid\n",
            "Remove file at midi_classic_path: Diabelli Sonatina op151 n1 1mov.mid\n",
            "Remove file at midi_classic_path: Kuhlau Sonatina op60 n2.mid\n",
            "Remove file at midi_classic_path: Bizet Symphony in C 4mov.mid\n",
            "Remove file at midi_classic_path: Tchaikovsky Lake Of The Swans Act 2 14mov.mid\n",
            "Remove file at midi_classic_path: Reger Burlesque op58 n5.mid\n",
            "Remove file at midi_classic_path: Reger Burlesque op58 n6.mid\n",
            "Remove file at midi_classic_path: Debussy Suite Bergamasque 1mov.mid\n",
            "Remove file at midi_classic_path: Gershuin Rhapsody In Blue Piano Duet.mid\n",
            "Remove file at midi_classic_path: Diabelli Sonatina op151 n3 3mov.mid\n",
            "Remove file at midi_classic_path: Tchaikovsky Lake Of The Swans Act 1 3mov.mid\n",
            "Remove file at midi_classic_path: Tchaicovsky Waltz of the Flowers.MID\n",
            "Remove file at midi_classic_path: Rothchild Oboe Concerto Rmw09 2mov.mid\n",
            "Remove file at midi_classic_path: Kuhlau Sonatina op60 n3.mid\n",
            "Remove file at midi_classic_path: Tchaikovsky Lake Of The Swans Act 1 1mov.mid\n",
            "Remove file at midi_classic_path: Buxethude Buxwv155 Toccata.mid\n",
            "Remove file at midi_classic_path: Wagner Ride of the valkyries.mid\n",
            "Remove file at midi_classic_path: Dvorak Symphony op70 n7 1mov.mid\n",
            "Remove file at midi_classic_path: Reger Burlesque op58 n3.mid\n",
            "Remove file at midi_classic_path: Diabelli Sonatina op151 n3 1mov.mid\n",
            "Remove file at midi_classic_path: Reinecke Piano Concerto n3 3mov.mid\n",
            "Remove file at midi_classic_path: Buxethude Buxwv145 Prelude.mid\n",
            "Remove file at midi_classic_path: Rothchild Symphony Rmw12 2mov.mid\n",
            "Remove file at midi_classic_path: Debussy Suite Bergamasque 2mov.mid\n",
            "Remove file at midi_classic_path: Buxethude Buxwv153 Prelude.mid\n",
            "Remove file at midi_classic_path: Grieg Piano Concerto op16 1mov.mid\n",
            "Remove file at midi_classic_path: Nicolai Overture The Merry Wives of Windsor.mid\n",
            "Remove file at midi_classic_path: Bizet Symphony in C 3mov.mid\n",
            "Remove file at midi_classic_path: Liszt Paganini Etude n1.mid\n",
            "Remove file at midi_classic_path: Pachebel Toccata n4.mid\n",
            "Remove file at midi_classic_path: Dvorak Slavonic dance n8.mid\n",
            "Remove file at midi_classic_path: Diabelli Sonatina op151 n1 3mov.mid\n",
            "Remove file at midi_classic_path: Tchaikovsky Lake Of The Swans Act 2 12mov.mid\n",
            "Remove file at midi_classic_path: Tchaikovsky Lake Of The Swans Act 1 2mov.mid\n",
            "Remove file at midi_classic_path: Bizet Symphony in C 2mov.mid\n",
            "Remove file at midi_classic_path: Kuhlau Sonatina op55 n1.mid\n",
            "Remove file at midi_classic_path: Rothchild Symphony Rmw12 1mov.mid\n",
            "Remove file at midi_classic_path: C.P.E.Bach Solfeggieto.mid\n",
            "Remove file at midi_classic_path: Reinecke Piano Concerto n3 1mov.mid\n",
            "Remove file at midi_classic_path: meditation thais.mid\n",
            "Remove file at midi_classic_path: Buxethude Buxwv162 Prelude.mid\n",
            "Remove file at midi_classic_path: Dvorak Symphony op70 n7 3mov.mid\n",
            "Remove file at midi_classic_path: Pollen Beguine Royale.mid\n",
            "Remove file at midi_classic_path: Tchaikovsky Lake Of The Swans Act 2 11mov.mid\n",
            "Remove file at midi_classic_path: Rothchild Piano Sonata Rmw13 3mov.mid\n",
            "Remove file at midi_classic_path: Dvorak Trio op26.mid\n",
            "Remove file at midi_classic_path: Rothchild Piano Sonata Rmw13 2mov.mid\n",
            "Remove file at midi_classic_path: Buxethude Buxwv138 Prelude.mid\n",
            "Remove file at midi_classic_path: Rothchild Horn Concerto Rmw16 2mov.mid\n",
            "Remove file at midi_classic_path: Lizt Piano Concerto n1 S124.mid\n",
            "Remove file at midi_classic_path: Pachebel Toccata n2.mid\n",
            "Remove file at midi_classic_path: Buxethude Buxwv160 Ciacona.mid\n",
            "Remove file at midi_classic_path: Grieg Piano Concerto 2mov.mid\n",
            "Remove file at midi_classic_path: Pachebel Toccata n7.mid\n"
          ]
        }
      ]
    }
  ]
}