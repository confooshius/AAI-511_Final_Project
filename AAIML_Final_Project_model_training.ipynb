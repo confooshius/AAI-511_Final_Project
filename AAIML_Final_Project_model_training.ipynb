{
  "nbformat": 4,
  "nbformat_minor": 0,
  "metadata": {
    "colab": {
      "provenance": [],
      "machine_shape": "hm",
      "gpuType": "T4"
    },
    "kernelspec": {
      "name": "python3",
      "display_name": "Python 3"
    },
    "language_info": {
      "name": "python"
    },
    "accelerator": "GPU"
  },
  "cells": [
    {
      "cell_type": "code",
      "source": [
        "!pip install --upgrade numpy"
      ],
      "metadata": {
        "colab": {
          "base_uri": "https://localhost:8080/"
        },
        "id": "YqJY8OCUSEXj",
        "outputId": "08558941-d956-4112-d98a-6bdabd313af6"
      },
      "execution_count": null,
      "outputs": [
        {
          "output_type": "stream",
          "name": "stdout",
          "text": [
            "Requirement already satisfied: numpy in /usr/local/lib/python3.11/dist-packages (2.3.2)\n"
          ]
        }
      ]
    },
    {
      "cell_type": "markdown",
      "source": [
        "## Array value information\n",
        "\n",
        "We had to do some troubleshooting so including this for posterity"
      ],
      "metadata": {
        "id": "g9r_zhgxd7N6"
      }
    },
    {
      "cell_type": "code",
      "execution_count": 1,
      "metadata": {
        "colab": {
          "base_uri": "https://localhost:8080/"
        },
        "id": "rxyaSG9GQrPr",
        "outputId": "051efb7f-2e80-4fc5-ddd6-4f80fd8260b7"
      },
      "outputs": [
        {
          "output_type": "stream",
          "name": "stdout",
          "text": [
            "NumPy version THIS session is using: 2.0.2\n",
            "Mounted at /content/drive\n",
            "Inspecting arrays inside: /content/drive/MyDrive/AAI511_ML/preprocessed_composer_data_v3.npz\n",
            "\n",
            "--> Array: 'network_input'\n",
            "    Shape: (802691, 100, 1)\n",
            "    Data Type (dtype): float64\n",
            "--------------------\n",
            "--> Array: 'network_output'\n",
            "    Shape: (802691,)\n",
            "    Data Type (dtype): int64\n",
            "--------------------\n",
            "--> Array: 'n_vocab'\n",
            "    Shape: (1,)\n",
            "    Data Type (dtype): int64\n",
            "--------------------\n",
            "--> Array: 'composer_map'\n",
            "    Shape: ()\n",
            "    Data Type (dtype): object\n",
            "--------------------\n",
            "--> Array: 'note_to_int'\n",
            "    Shape: ()\n",
            "    Data Type (dtype): object\n",
            "--------------------\n"
          ]
        }
      ],
      "source": [
        "import numpy as np\n",
        "print(f\"NumPy version THIS session is using: {np.__version__}\")\n",
        "import os\n",
        "from google.colab import drive\n",
        "import zipfile\n",
        "\n",
        "# Mount Google Drive\n",
        "drive.mount('/content/drive')\n",
        "\n",
        "save_path = '/content/drive/MyDrive/AAI511_ML/preprocessed_composer_data_v3.npz'\n",
        "\n",
        "print(f\"Inspecting arrays inside: {save_path}\\n\")\n",
        "\n",
        "try:\n",
        "    with zipfile.ZipFile(save_path) as zf:\n",
        "        for name in zf.namelist():\n",
        "            if not name.endswith('.npy'):\n",
        "                continue\n",
        "\n",
        "            with zf.open(name) as fp:\n",
        "                # get the file format version\n",
        "                version = np.lib.format.read_magic(fp)\n",
        "\n",
        "                # Call the correct header function based on the version\n",
        "                if version[0] == 1:\n",
        "                    shape, fortran_order, dtype = np.lib.format.read_array_header_1_0(fp)\n",
        "                elif version[0] == 2:\n",
        "                    shape, fortran_order, dtype = np.lib.format.read_array_header_2_0(fp)\n",
        "                else:\n",
        "                    print(f\"--> Array: '{name.replace('.npy', '')}' has an unsupported format version: {version}\")\n",
        "                    continue\n",
        "\n",
        "                array_name = name.replace('.npy', '')\n",
        "                print(f\"--> Array: '{array_name}'\")\n",
        "                print(f\"    Shape: {shape}\")\n",
        "                print(f\"    Data Type (dtype): {dtype}\")\n",
        "                print(\"-\" * 20)\n",
        "\n",
        "except Exception as e:\n",
        "    print(f\"An error occurred while inspecting the file: {e}\")"
      ]
    },
    {
      "cell_type": "markdown",
      "source": [
        "## Training"
      ],
      "metadata": {
        "id": "aJGRyjEPlW0D"
      }
    },
    {
      "cell_type": "code",
      "source": [
        "import tensorflow as tf\n",
        "import numpy as np\n",
        "from sklearn.model_selection import train_test_split\n",
        "import matplotlib.pyplot as plt\n",
        "\n",
        "# Load the preprocessed data from your file\n",
        "print(f\"Loading preprocessed data from: {save_path}\")\n",
        "with np.load(save_path, allow_pickle=True) as data:\n",
        "    network_input = data['network_input']\n",
        "    network_output = data['network_output']\n",
        "    composer_map = data['composer_map'].item()\n",
        "\n",
        "print(\"Data loaded successfully!\")\n",
        "\n",
        "# Split data into training (80%) and validation (20%) sets\n",
        "print(\"Splitting data into training and validation sets...\")\n",
        "X_train, X_val, y_train, y_val = train_test_split(\n",
        "    network_input,\n",
        "    network_output,\n",
        "    test_size=0.2,\n",
        "    random_state=42, # for reproducibility\n",
        "    stratify=network_output # Ensures same class distribution in train/val sets\n",
        ")\n",
        "\n",
        "print(f\"Training samples: {len(X_train)}\")\n",
        "print(f\"Validation samples: {len(X_val)}\")"
      ],
      "metadata": {
        "colab": {
          "base_uri": "https://localhost:8080/"
        },
        "id": "CZtXuiW3lWar",
        "outputId": "2034a1fc-b683-455a-fb12-4f3f1e5cbd4a"
      },
      "execution_count": 3,
      "outputs": [
        {
          "output_type": "stream",
          "name": "stdout",
          "text": [
            "Loading preprocessed data from: /content/drive/MyDrive/AAI511_ML/preprocessed_composer_data_v3.npz\n",
            "Data loaded successfully!\n",
            "Splitting data into training and validation sets...\n",
            "Training samples: 642152\n",
            "Validation samples: 160539\n"
          ]
        }
      ]
    },
    {
      "cell_type": "markdown",
      "source": [
        "## Tensorflow Datasets"
      ],
      "metadata": {
        "id": "dS3Uy98zlnj8"
      }
    },
    {
      "cell_type": "code",
      "source": [
        "def create_optimized_dataset(features, labels, batch_size=64, is_training=True):\n",
        "    \"\"\"Creates an optimized tf.data.Dataset from numpy arrays.\"\"\"\n",
        "    dataset = tf.data.Dataset.from_tensor_slices((features, labels))\n",
        "    if is_training:\n",
        "        dataset = dataset.shuffle(len(features), reshuffle_each_iteration=True)\n",
        "\n",
        "    dataset = dataset.batch(batch_size)\n",
        "    dataset = dataset.prefetch(tf.data.AUTOTUNE)\n",
        "    return dataset\n",
        "\n",
        "# Create the datasets\n",
        "BATCH_SIZE = 128\n",
        "train_dataset = create_optimized_dataset(X_train, y_train, batch_size=BATCH_SIZE)\n",
        "validation_dataset = create_optimized_dataset(X_val, y_val, batch_size=BATCH_SIZE, is_training=False)\n",
        "\n",
        "print(\"\\nTensorFlow datasets created.\")"
      ],
      "metadata": {
        "colab": {
          "base_uri": "https://localhost:8080/"
        },
        "id": "7aCKzFw9lnNI",
        "outputId": "4186ebc5-d9f7-4a6e-8078-ce710bf5da21"
      },
      "execution_count": 4,
      "outputs": [
        {
          "output_type": "stream",
          "name": "stdout",
          "text": [
            "\n",
            "TensorFlow datasets created.\n"
          ]
        }
      ]
    },
    {
      "cell_type": "markdown",
      "source": [
        "## Define/Compile LSTM-CNN Model"
      ],
      "metadata": {
        "id": "3PnbuzjclvDN"
      }
    },
    {
      "cell_type": "code",
      "source": [
        "def build_cnn_lstm_model(input_shape, num_classes):\n",
        "    \"\"\"Builds a hybrid CNN-LSTM model for sequence classification.\"\"\"\n",
        "    model = tf.keras.Sequential([\n",
        "        # Input Layer\n",
        "        tf.keras.layers.Input(shape=input_shape),\n",
        "\n",
        "        # 1. CNN Block: To find local musical patterns\n",
        "        tf.keras.layers.Conv1D(filters=128, kernel_size=5, activation='relu', padding='causal'),\n",
        "        tf.keras.layers.MaxPooling1D(pool_size=2),\n",
        "        tf.keras.layers.Dropout(0.2),\n",
        "\n",
        "        # 2. LSTM Block: To learn long-term structure from the patterns\n",
        "        tf.keras.layers.LSTM(256, return_sequences=False),\n",
        "        tf.keras.layers.Dropout(0.3),\n",
        "\n",
        "        # 3. Classification Head\n",
        "        tf.keras.layers.Dense(128, activation='relu'),\n",
        "        tf.keras.layers.Dense(num_classes, activation='softmax') # Softmax for multi-class classification\n",
        "    ])\n",
        "    return model\n",
        "\n",
        "# Get model parameters from the data\n",
        "input_shape = X_train.shape[1:]\n",
        "num_classes = len(np.unique(network_output))\n",
        "\n",
        "# Build and compile the model\n",
        "print(\"\\nBuilding and compiling the model...\")\n",
        "model = build_cnn_lstm_model(input_shape=input_shape, num_classes=num_classes)\n",
        "\n",
        "model.compile(\n",
        "    optimizer=tf.keras.optimizers.Adam(learning_rate=0.001),\n",
        "    loss='sparse_categorical_crossentropy', # Use this for integer labels\n",
        "    metrics=['accuracy']\n",
        ")\n",
        "\n",
        "model.summary()"
      ],
      "metadata": {
        "colab": {
          "base_uri": "https://localhost:8080/",
          "height": 402
        },
        "id": "aaOTFyzzl1db",
        "outputId": "f491f478-ccff-4da7-ad20-fbfe8aa61e1f"
      },
      "execution_count": 5,
      "outputs": [
        {
          "output_type": "stream",
          "name": "stdout",
          "text": [
            "\n",
            "Building and compiling the model...\n"
          ]
        },
        {
          "output_type": "display_data",
          "data": {
            "text/plain": [
              "\u001b[1mModel: \"sequential\"\u001b[0m\n"
            ],
            "text/html": [
              "<pre style=\"white-space:pre;overflow-x:auto;line-height:normal;font-family:Menlo,'DejaVu Sans Mono',consolas,'Courier New',monospace\"><span style=\"font-weight: bold\">Model: \"sequential\"</span>\n",
              "</pre>\n"
            ]
          },
          "metadata": {}
        },
        {
          "output_type": "display_data",
          "data": {
            "text/plain": [
              "┏━━━━━━━━━━━━━━━━━━━━━━━━━━━━━━━━━┳━━━━━━━━━━━━━━━━━━━━━━━━┳━━━━━━━━━━━━━━━┓\n",
              "┃\u001b[1m \u001b[0m\u001b[1mLayer (type)                   \u001b[0m\u001b[1m \u001b[0m┃\u001b[1m \u001b[0m\u001b[1mOutput Shape          \u001b[0m\u001b[1m \u001b[0m┃\u001b[1m \u001b[0m\u001b[1m      Param #\u001b[0m\u001b[1m \u001b[0m┃\n",
              "┡━━━━━━━━━━━━━━━━━━━━━━━━━━━━━━━━━╇━━━━━━━━━━━━━━━━━━━━━━━━╇━━━━━━━━━━━━━━━┩\n",
              "│ conv1d (\u001b[38;5;33mConv1D\u001b[0m)                 │ (\u001b[38;5;45mNone\u001b[0m, \u001b[38;5;34m100\u001b[0m, \u001b[38;5;34m128\u001b[0m)       │           \u001b[38;5;34m768\u001b[0m │\n",
              "├─────────────────────────────────┼────────────────────────┼───────────────┤\n",
              "│ max_pooling1d (\u001b[38;5;33mMaxPooling1D\u001b[0m)    │ (\u001b[38;5;45mNone\u001b[0m, \u001b[38;5;34m50\u001b[0m, \u001b[38;5;34m128\u001b[0m)        │             \u001b[38;5;34m0\u001b[0m │\n",
              "├─────────────────────────────────┼────────────────────────┼───────────────┤\n",
              "│ dropout (\u001b[38;5;33mDropout\u001b[0m)               │ (\u001b[38;5;45mNone\u001b[0m, \u001b[38;5;34m50\u001b[0m, \u001b[38;5;34m128\u001b[0m)        │             \u001b[38;5;34m0\u001b[0m │\n",
              "├─────────────────────────────────┼────────────────────────┼───────────────┤\n",
              "│ lstm (\u001b[38;5;33mLSTM\u001b[0m)                     │ (\u001b[38;5;45mNone\u001b[0m, \u001b[38;5;34m256\u001b[0m)            │       \u001b[38;5;34m394,240\u001b[0m │\n",
              "├─────────────────────────────────┼────────────────────────┼───────────────┤\n",
              "│ dropout_1 (\u001b[38;5;33mDropout\u001b[0m)             │ (\u001b[38;5;45mNone\u001b[0m, \u001b[38;5;34m256\u001b[0m)            │             \u001b[38;5;34m0\u001b[0m │\n",
              "├─────────────────────────────────┼────────────────────────┼───────────────┤\n",
              "│ dense (\u001b[38;5;33mDense\u001b[0m)                   │ (\u001b[38;5;45mNone\u001b[0m, \u001b[38;5;34m128\u001b[0m)            │        \u001b[38;5;34m32,896\u001b[0m │\n",
              "├─────────────────────────────────┼────────────────────────┼───────────────┤\n",
              "│ dense_1 (\u001b[38;5;33mDense\u001b[0m)                 │ (\u001b[38;5;45mNone\u001b[0m, \u001b[38;5;34m4\u001b[0m)              │           \u001b[38;5;34m516\u001b[0m │\n",
              "└─────────────────────────────────┴────────────────────────┴───────────────┘\n"
            ],
            "text/html": [
              "<pre style=\"white-space:pre;overflow-x:auto;line-height:normal;font-family:Menlo,'DejaVu Sans Mono',consolas,'Courier New',monospace\">┏━━━━━━━━━━━━━━━━━━━━━━━━━━━━━━━━━┳━━━━━━━━━━━━━━━━━━━━━━━━┳━━━━━━━━━━━━━━━┓\n",
              "┃<span style=\"font-weight: bold\"> Layer (type)                    </span>┃<span style=\"font-weight: bold\"> Output Shape           </span>┃<span style=\"font-weight: bold\">       Param # </span>┃\n",
              "┡━━━━━━━━━━━━━━━━━━━━━━━━━━━━━━━━━╇━━━━━━━━━━━━━━━━━━━━━━━━╇━━━━━━━━━━━━━━━┩\n",
              "│ conv1d (<span style=\"color: #0087ff; text-decoration-color: #0087ff\">Conv1D</span>)                 │ (<span style=\"color: #00d7ff; text-decoration-color: #00d7ff\">None</span>, <span style=\"color: #00af00; text-decoration-color: #00af00\">100</span>, <span style=\"color: #00af00; text-decoration-color: #00af00\">128</span>)       │           <span style=\"color: #00af00; text-decoration-color: #00af00\">768</span> │\n",
              "├─────────────────────────────────┼────────────────────────┼───────────────┤\n",
              "│ max_pooling1d (<span style=\"color: #0087ff; text-decoration-color: #0087ff\">MaxPooling1D</span>)    │ (<span style=\"color: #00d7ff; text-decoration-color: #00d7ff\">None</span>, <span style=\"color: #00af00; text-decoration-color: #00af00\">50</span>, <span style=\"color: #00af00; text-decoration-color: #00af00\">128</span>)        │             <span style=\"color: #00af00; text-decoration-color: #00af00\">0</span> │\n",
              "├─────────────────────────────────┼────────────────────────┼───────────────┤\n",
              "│ dropout (<span style=\"color: #0087ff; text-decoration-color: #0087ff\">Dropout</span>)               │ (<span style=\"color: #00d7ff; text-decoration-color: #00d7ff\">None</span>, <span style=\"color: #00af00; text-decoration-color: #00af00\">50</span>, <span style=\"color: #00af00; text-decoration-color: #00af00\">128</span>)        │             <span style=\"color: #00af00; text-decoration-color: #00af00\">0</span> │\n",
              "├─────────────────────────────────┼────────────────────────┼───────────────┤\n",
              "│ lstm (<span style=\"color: #0087ff; text-decoration-color: #0087ff\">LSTM</span>)                     │ (<span style=\"color: #00d7ff; text-decoration-color: #00d7ff\">None</span>, <span style=\"color: #00af00; text-decoration-color: #00af00\">256</span>)            │       <span style=\"color: #00af00; text-decoration-color: #00af00\">394,240</span> │\n",
              "├─────────────────────────────────┼────────────────────────┼───────────────┤\n",
              "│ dropout_1 (<span style=\"color: #0087ff; text-decoration-color: #0087ff\">Dropout</span>)             │ (<span style=\"color: #00d7ff; text-decoration-color: #00d7ff\">None</span>, <span style=\"color: #00af00; text-decoration-color: #00af00\">256</span>)            │             <span style=\"color: #00af00; text-decoration-color: #00af00\">0</span> │\n",
              "├─────────────────────────────────┼────────────────────────┼───────────────┤\n",
              "│ dense (<span style=\"color: #0087ff; text-decoration-color: #0087ff\">Dense</span>)                   │ (<span style=\"color: #00d7ff; text-decoration-color: #00d7ff\">None</span>, <span style=\"color: #00af00; text-decoration-color: #00af00\">128</span>)            │        <span style=\"color: #00af00; text-decoration-color: #00af00\">32,896</span> │\n",
              "├─────────────────────────────────┼────────────────────────┼───────────────┤\n",
              "│ dense_1 (<span style=\"color: #0087ff; text-decoration-color: #0087ff\">Dense</span>)                 │ (<span style=\"color: #00d7ff; text-decoration-color: #00d7ff\">None</span>, <span style=\"color: #00af00; text-decoration-color: #00af00\">4</span>)              │           <span style=\"color: #00af00; text-decoration-color: #00af00\">516</span> │\n",
              "└─────────────────────────────────┴────────────────────────┴───────────────┘\n",
              "</pre>\n"
            ]
          },
          "metadata": {}
        },
        {
          "output_type": "display_data",
          "data": {
            "text/plain": [
              "\u001b[1m Total params: \u001b[0m\u001b[38;5;34m428,420\u001b[0m (1.63 MB)\n"
            ],
            "text/html": [
              "<pre style=\"white-space:pre;overflow-x:auto;line-height:normal;font-family:Menlo,'DejaVu Sans Mono',consolas,'Courier New',monospace\"><span style=\"font-weight: bold\"> Total params: </span><span style=\"color: #00af00; text-decoration-color: #00af00\">428,420</span> (1.63 MB)\n",
              "</pre>\n"
            ]
          },
          "metadata": {}
        },
        {
          "output_type": "display_data",
          "data": {
            "text/plain": [
              "\u001b[1m Trainable params: \u001b[0m\u001b[38;5;34m428,420\u001b[0m (1.63 MB)\n"
            ],
            "text/html": [
              "<pre style=\"white-space:pre;overflow-x:auto;line-height:normal;font-family:Menlo,'DejaVu Sans Mono',consolas,'Courier New',monospace\"><span style=\"font-weight: bold\"> Trainable params: </span><span style=\"color: #00af00; text-decoration-color: #00af00\">428,420</span> (1.63 MB)\n",
              "</pre>\n"
            ]
          },
          "metadata": {}
        },
        {
          "output_type": "display_data",
          "data": {
            "text/plain": [
              "\u001b[1m Non-trainable params: \u001b[0m\u001b[38;5;34m0\u001b[0m (0.00 B)\n"
            ],
            "text/html": [
              "<pre style=\"white-space:pre;overflow-x:auto;line-height:normal;font-family:Menlo,'DejaVu Sans Mono',consolas,'Courier New',monospace\"><span style=\"font-weight: bold\"> Non-trainable params: </span><span style=\"color: #00af00; text-decoration-color: #00af00\">0</span> (0.00 B)\n",
              "</pre>\n"
            ]
          },
          "metadata": {}
        }
      ]
    },
    {
      "cell_type": "markdown",
      "source": [
        "## Train the model"
      ],
      "metadata": {
        "id": "jQlhlJGel7AO"
      }
    },
    {
      "cell_type": "code",
      "source": [
        "# Add a callback to stop training early if performance plateaus\n",
        "early_stopping = tf.keras.callbacks.EarlyStopping(\n",
        "    monitor='val_loss',  # Monitor the validation loss\n",
        "    patience=5,          # Stop after 5 epochs with no improvement\n",
        "    restore_best_weights=True # Restore the best model weights found\n",
        ")\n",
        "\n",
        "print(\"\\nStarting model training...\")\n",
        "history = model.fit(\n",
        "    train_dataset,\n",
        "    epochs=50, # Set a high number, early stopping will find the best epoch\n",
        "    validation_data=validation_dataset,\n",
        "    callbacks=[early_stopping]\n",
        ")\n"
      ],
      "metadata": {
        "colab": {
          "base_uri": "https://localhost:8080/"
        },
        "id": "HVL8mlrVl7Jj",
        "outputId": "f6337cb4-8087-467a-a07e-a8b5766d5205"
      },
      "execution_count": 6,
      "outputs": [
        {
          "output_type": "stream",
          "name": "stdout",
          "text": [
            "\n",
            "Starting model training...\n",
            "Epoch 1/50\n",
            "\u001b[1m5017/5017\u001b[0m \u001b[32m━━━━━━━━━━━━━━━━━━━━\u001b[0m\u001b[37m\u001b[0m \u001b[1m62s\u001b[0m 11ms/step - accuracy: 0.4378 - loss: 1.2240 - val_accuracy: 0.5512 - val_loss: 1.0520\n",
            "Epoch 2/50\n",
            "\u001b[1m5017/5017\u001b[0m \u001b[32m━━━━━━━━━━━━━━━━━━━━\u001b[0m\u001b[37m\u001b[0m \u001b[1m59s\u001b[0m 11ms/step - accuracy: 0.6041 - loss: 0.9482 - val_accuracy: 0.8276 - val_loss: 0.4588\n",
            "Epoch 3/50\n",
            "\u001b[1m5017/5017\u001b[0m \u001b[32m━━━━━━━━━━━━━━━━━━━━\u001b[0m\u001b[37m\u001b[0m \u001b[1m59s\u001b[0m 11ms/step - accuracy: 0.8396 - loss: 0.4295 - val_accuracy: 0.9477 - val_loss: 0.1488\n",
            "Epoch 4/50\n",
            "\u001b[1m5017/5017\u001b[0m \u001b[32m━━━━━━━━━━━━━━━━━━━━\u001b[0m\u001b[37m\u001b[0m \u001b[1m59s\u001b[0m 12ms/step - accuracy: 0.9379 - loss: 0.1775 - val_accuracy: 0.9792 - val_loss: 0.0629\n",
            "Epoch 5/50\n",
            "\u001b[1m5017/5017\u001b[0m \u001b[32m━━━━━━━━━━━━━━━━━━━━\u001b[0m\u001b[37m\u001b[0m \u001b[1m59s\u001b[0m 12ms/step - accuracy: 0.9644 - loss: 0.1036 - val_accuracy: 0.9890 - val_loss: 0.0334\n",
            "Epoch 6/50\n",
            "\u001b[1m5017/5017\u001b[0m \u001b[32m━━━━━━━━━━━━━━━━━━━━\u001b[0m\u001b[37m\u001b[0m \u001b[1m59s\u001b[0m 12ms/step - accuracy: 0.9766 - loss: 0.0696 - val_accuracy: 0.9938 - val_loss: 0.0197\n",
            "Epoch 7/50\n",
            "\u001b[1m5017/5017\u001b[0m \u001b[32m━━━━━━━━━━━━━━━━━━━━\u001b[0m\u001b[37m\u001b[0m \u001b[1m59s\u001b[0m 12ms/step - accuracy: 0.9820 - loss: 0.0548 - val_accuracy: 0.9955 - val_loss: 0.0131\n",
            "Epoch 8/50\n",
            "\u001b[1m5017/5017\u001b[0m \u001b[32m━━━━━━━━━━━━━━━━━━━━\u001b[0m\u001b[37m\u001b[0m \u001b[1m59s\u001b[0m 12ms/step - accuracy: 0.9859 - loss: 0.0433 - val_accuracy: 0.9965 - val_loss: 0.0125\n",
            "Epoch 9/50\n",
            "\u001b[1m5017/5017\u001b[0m \u001b[32m━━━━━━━━━━━━━━━━━━━━\u001b[0m\u001b[37m\u001b[0m \u001b[1m59s\u001b[0m 12ms/step - accuracy: 0.9877 - loss: 0.0378 - val_accuracy: 0.9968 - val_loss: 0.0106\n",
            "Epoch 10/50\n",
            "\u001b[1m5017/5017\u001b[0m \u001b[32m━━━━━━━━━━━━━━━━━━━━\u001b[0m\u001b[37m\u001b[0m \u001b[1m59s\u001b[0m 12ms/step - accuracy: 0.9894 - loss: 0.0322 - val_accuracy: 0.9963 - val_loss: 0.0121\n",
            "Epoch 11/50\n",
            "\u001b[1m5017/5017\u001b[0m \u001b[32m━━━━━━━━━━━━━━━━━━━━\u001b[0m\u001b[37m\u001b[0m \u001b[1m59s\u001b[0m 12ms/step - accuracy: 0.9904 - loss: 0.0294 - val_accuracy: 0.9978 - val_loss: 0.0074\n",
            "Epoch 12/50\n",
            "\u001b[1m5017/5017\u001b[0m \u001b[32m━━━━━━━━━━━━━━━━━━━━\u001b[0m\u001b[37m\u001b[0m \u001b[1m59s\u001b[0m 12ms/step - accuracy: 0.9917 - loss: 0.0259 - val_accuracy: 0.9976 - val_loss: 0.0081\n",
            "Epoch 13/50\n",
            "\u001b[1m5017/5017\u001b[0m \u001b[32m━━━━━━━━━━━━━━━━━━━━\u001b[0m\u001b[37m\u001b[0m \u001b[1m59s\u001b[0m 12ms/step - accuracy: 0.9926 - loss: 0.0238 - val_accuracy: 0.9981 - val_loss: 0.0058\n",
            "Epoch 14/50\n",
            "\u001b[1m5017/5017\u001b[0m \u001b[32m━━━━━━━━━━━━━━━━━━━━\u001b[0m\u001b[37m\u001b[0m \u001b[1m59s\u001b[0m 12ms/step - accuracy: 0.9931 - loss: 0.0220 - val_accuracy: 0.9972 - val_loss: 0.0095\n",
            "Epoch 15/50\n",
            "\u001b[1m5017/5017\u001b[0m \u001b[32m━━━━━━━━━━━━━━━━━━━━\u001b[0m\u001b[37m\u001b[0m \u001b[1m59s\u001b[0m 12ms/step - accuracy: 0.9934 - loss: 0.0209 - val_accuracy: 0.9987 - val_loss: 0.0043\n",
            "Epoch 16/50\n",
            "\u001b[1m5017/5017\u001b[0m \u001b[32m━━━━━━━━━━━━━━━━━━━━\u001b[0m\u001b[37m\u001b[0m \u001b[1m59s\u001b[0m 12ms/step - accuracy: 0.9942 - loss: 0.0187 - val_accuracy: 0.9966 - val_loss: 0.0102\n",
            "Epoch 17/50\n",
            "\u001b[1m5017/5017\u001b[0m \u001b[32m━━━━━━━━━━━━━━━━━━━━\u001b[0m\u001b[37m\u001b[0m \u001b[1m59s\u001b[0m 12ms/step - accuracy: 0.9943 - loss: 0.0185 - val_accuracy: 0.9987 - val_loss: 0.0046\n",
            "Epoch 18/50\n",
            "\u001b[1m5017/5017\u001b[0m \u001b[32m━━━━━━━━━━━━━━━━━━━━\u001b[0m\u001b[37m\u001b[0m \u001b[1m61s\u001b[0m 12ms/step - accuracy: 0.9946 - loss: 0.0174 - val_accuracy: 0.9990 - val_loss: 0.0042\n",
            "Epoch 19/50\n",
            "\u001b[1m5017/5017\u001b[0m \u001b[32m━━━━━━━━━━━━━━━━━━━━\u001b[0m\u001b[37m\u001b[0m \u001b[1m61s\u001b[0m 12ms/step - accuracy: 0.9949 - loss: 0.0164 - val_accuracy: 0.9988 - val_loss: 0.0041\n",
            "Epoch 20/50\n",
            "\u001b[1m5017/5017\u001b[0m \u001b[32m━━━━━━━━━━━━━━━━━━━━\u001b[0m\u001b[37m\u001b[0m \u001b[1m61s\u001b[0m 12ms/step - accuracy: 0.9953 - loss: 0.0152 - val_accuracy: 0.9990 - val_loss: 0.0032\n",
            "Epoch 21/50\n",
            "\u001b[1m5017/5017\u001b[0m \u001b[32m━━━━━━━━━━━━━━━━━━━━\u001b[0m\u001b[37m\u001b[0m \u001b[1m61s\u001b[0m 12ms/step - accuracy: 0.9955 - loss: 0.0146 - val_accuracy: 0.9993 - val_loss: 0.0025\n",
            "Epoch 22/50\n",
            "\u001b[1m5017/5017\u001b[0m \u001b[32m━━━━━━━━━━━━━━━━━━━━\u001b[0m\u001b[37m\u001b[0m \u001b[1m61s\u001b[0m 12ms/step - accuracy: 0.9959 - loss: 0.0137 - val_accuracy: 0.9992 - val_loss: 0.0029\n",
            "Epoch 23/50\n",
            "\u001b[1m5017/5017\u001b[0m \u001b[32m━━━━━━━━━━━━━━━━━━━━\u001b[0m\u001b[37m\u001b[0m \u001b[1m61s\u001b[0m 12ms/step - accuracy: 0.9958 - loss: 0.0137 - val_accuracy: 0.9990 - val_loss: 0.0034\n",
            "Epoch 24/50\n",
            "\u001b[1m5017/5017\u001b[0m \u001b[32m━━━━━━━━━━━━━━━━━━━━\u001b[0m\u001b[37m\u001b[0m \u001b[1m61s\u001b[0m 12ms/step - accuracy: 0.9960 - loss: 0.0132 - val_accuracy: 0.9981 - val_loss: 0.0060\n",
            "Epoch 25/50\n",
            "\u001b[1m5017/5017\u001b[0m \u001b[32m━━━━━━━━━━━━━━━━━━━━\u001b[0m\u001b[37m\u001b[0m \u001b[1m61s\u001b[0m 12ms/step - accuracy: 0.9961 - loss: 0.0124 - val_accuracy: 0.9994 - val_loss: 0.0023\n",
            "Epoch 26/50\n",
            "\u001b[1m5017/5017\u001b[0m \u001b[32m━━━━━━━━━━━━━━━━━━━━\u001b[0m\u001b[37m\u001b[0m \u001b[1m61s\u001b[0m 12ms/step - accuracy: 0.9963 - loss: 0.0122 - val_accuracy: 0.9977 - val_loss: 0.0078\n",
            "Epoch 27/50\n",
            "\u001b[1m5017/5017\u001b[0m \u001b[32m━━━━━━━━━━━━━━━━━━━━\u001b[0m\u001b[37m\u001b[0m \u001b[1m61s\u001b[0m 12ms/step - accuracy: 0.9958 - loss: 0.0133 - val_accuracy: 0.9990 - val_loss: 0.0031\n",
            "Epoch 28/50\n",
            "\u001b[1m5017/5017\u001b[0m \u001b[32m━━━━━━━━━━━━━━━━━━━━\u001b[0m\u001b[37m\u001b[0m \u001b[1m61s\u001b[0m 12ms/step - accuracy: 0.9964 - loss: 0.0124 - val_accuracy: 0.9996 - val_loss: 0.0017\n",
            "Epoch 29/50\n",
            "\u001b[1m5017/5017\u001b[0m \u001b[32m━━━━━━━━━━━━━━━━━━━━\u001b[0m\u001b[37m\u001b[0m \u001b[1m61s\u001b[0m 12ms/step - accuracy: 0.9968 - loss: 0.0109 - val_accuracy: 0.9996 - val_loss: 0.0013\n",
            "Epoch 30/50\n",
            "\u001b[1m5017/5017\u001b[0m \u001b[32m━━━━━━━━━━━━━━━━━━━━\u001b[0m\u001b[37m\u001b[0m \u001b[1m61s\u001b[0m 12ms/step - accuracy: 0.9968 - loss: 0.0104 - val_accuracy: 0.9992 - val_loss: 0.0031\n",
            "Epoch 31/50\n",
            "\u001b[1m5017/5017\u001b[0m \u001b[32m━━━━━━━━━━━━━━━━━━━━\u001b[0m\u001b[37m\u001b[0m \u001b[1m62s\u001b[0m 12ms/step - accuracy: 0.9966 - loss: 0.0114 - val_accuracy: 0.9983 - val_loss: 0.0055\n",
            "Epoch 32/50\n",
            "\u001b[1m5017/5017\u001b[0m \u001b[32m━━━━━━━━━━━━━━━━━━━━\u001b[0m\u001b[37m\u001b[0m \u001b[1m62s\u001b[0m 12ms/step - accuracy: 0.9968 - loss: 0.0106 - val_accuracy: 0.9996 - val_loss: 0.0011\n",
            "Epoch 33/50\n",
            "\u001b[1m5017/5017\u001b[0m \u001b[32m━━━━━━━━━━━━━━━━━━━━\u001b[0m\u001b[37m\u001b[0m \u001b[1m62s\u001b[0m 12ms/step - accuracy: 0.9969 - loss: 0.0101 - val_accuracy: 0.9995 - val_loss: 0.0018\n",
            "Epoch 34/50\n",
            "\u001b[1m5017/5017\u001b[0m \u001b[32m━━━━━━━━━━━━━━━━━━━━\u001b[0m\u001b[37m\u001b[0m \u001b[1m61s\u001b[0m 12ms/step - accuracy: 0.9970 - loss: 0.0099 - val_accuracy: 0.9982 - val_loss: 0.0057\n",
            "Epoch 35/50\n",
            "\u001b[1m5017/5017\u001b[0m \u001b[32m━━━━━━━━━━━━━━━━━━━━\u001b[0m\u001b[37m\u001b[0m \u001b[1m61s\u001b[0m 12ms/step - accuracy: 0.9968 - loss: 0.0107 - val_accuracy: 0.9995 - val_loss: 0.0020\n",
            "Epoch 36/50\n",
            "\u001b[1m5017/5017\u001b[0m \u001b[32m━━━━━━━━━━━━━━━━━━━━\u001b[0m\u001b[37m\u001b[0m \u001b[1m61s\u001b[0m 12ms/step - accuracy: 0.9970 - loss: 0.0099 - val_accuracy: 0.9995 - val_loss: 0.0019\n",
            "Epoch 37/50\n",
            "\u001b[1m5017/5017\u001b[0m \u001b[32m━━━━━━━━━━━━━━━━━━━━\u001b[0m\u001b[37m\u001b[0m \u001b[1m62s\u001b[0m 12ms/step - accuracy: 0.9970 - loss: 0.0101 - val_accuracy: 0.9997 - val_loss: 0.0011\n",
            "Epoch 38/50\n",
            "\u001b[1m5017/5017\u001b[0m \u001b[32m━━━━━━━━━━━━━━━━━━━━\u001b[0m\u001b[37m\u001b[0m \u001b[1m62s\u001b[0m 12ms/step - accuracy: 0.9974 - loss: 0.0087 - val_accuracy: 0.9990 - val_loss: 0.0032\n",
            "Epoch 39/50\n",
            "\u001b[1m5017/5017\u001b[0m \u001b[32m━━━━━━━━━━━━━━━━━━━━\u001b[0m\u001b[37m\u001b[0m \u001b[1m62s\u001b[0m 12ms/step - accuracy: 0.9973 - loss: 0.0089 - val_accuracy: 0.9993 - val_loss: 0.0026\n",
            "Epoch 40/50\n",
            "\u001b[1m5017/5017\u001b[0m \u001b[32m━━━━━━━━━━━━━━━━━━━━\u001b[0m\u001b[37m\u001b[0m \u001b[1m62s\u001b[0m 12ms/step - accuracy: 0.9974 - loss: 0.0088 - val_accuracy: 0.9998 - val_loss: 0.0010\n",
            "Epoch 41/50\n",
            "\u001b[1m5017/5017\u001b[0m \u001b[32m━━━━━━━━━━━━━━━━━━━━\u001b[0m\u001b[37m\u001b[0m \u001b[1m62s\u001b[0m 12ms/step - accuracy: 0.9975 - loss: 0.0082 - val_accuracy: 0.9993 - val_loss: 0.0025\n",
            "Epoch 42/50\n",
            "\u001b[1m5017/5017\u001b[0m \u001b[32m━━━━━━━━━━━━━━━━━━━━\u001b[0m\u001b[37m\u001b[0m \u001b[1m62s\u001b[0m 12ms/step - accuracy: 0.9973 - loss: 0.0088 - val_accuracy: 0.9995 - val_loss: 0.0019\n",
            "Epoch 43/50\n",
            "\u001b[1m5017/5017\u001b[0m \u001b[32m━━━━━━━━━━━━━━━━━━━━\u001b[0m\u001b[37m\u001b[0m \u001b[1m62s\u001b[0m 12ms/step - accuracy: 0.9972 - loss: 0.0094 - val_accuracy: 0.9998 - val_loss: 8.7236e-04\n",
            "Epoch 44/50\n",
            "\u001b[1m5017/5017\u001b[0m \u001b[32m━━━━━━━━━━━━━━━━━━━━\u001b[0m\u001b[37m\u001b[0m \u001b[1m62s\u001b[0m 12ms/step - accuracy: 0.9974 - loss: 0.0084 - val_accuracy: 0.9997 - val_loss: 9.3103e-04\n",
            "Epoch 45/50\n",
            "\u001b[1m5017/5017\u001b[0m \u001b[32m━━━━━━━━━━━━━━━━━━━━\u001b[0m\u001b[37m\u001b[0m \u001b[1m62s\u001b[0m 12ms/step - accuracy: 0.9977 - loss: 0.0076 - val_accuracy: 0.9997 - val_loss: 0.0012\n",
            "Epoch 46/50\n",
            "\u001b[1m5017/5017\u001b[0m \u001b[32m━━━━━━━━━━━━━━━━━━━━\u001b[0m\u001b[37m\u001b[0m \u001b[1m62s\u001b[0m 12ms/step - accuracy: 0.9976 - loss: 0.0082 - val_accuracy: 0.9995 - val_loss: 0.0019\n",
            "Epoch 47/50\n",
            "\u001b[1m5017/5017\u001b[0m \u001b[32m━━━━━━━━━━━━━━━━━━━━\u001b[0m\u001b[37m\u001b[0m \u001b[1m62s\u001b[0m 12ms/step - accuracy: 0.9978 - loss: 0.0073 - val_accuracy: 0.9998 - val_loss: 8.5463e-04\n",
            "Epoch 48/50\n",
            "\u001b[1m5017/5017\u001b[0m \u001b[32m━━━━━━━━━━━━━━━━━━━━\u001b[0m\u001b[37m\u001b[0m \u001b[1m62s\u001b[0m 12ms/step - accuracy: 0.9978 - loss: 0.0074 - val_accuracy: 0.9998 - val_loss: 8.5479e-04\n",
            "Epoch 49/50\n",
            "\u001b[1m5017/5017\u001b[0m \u001b[32m━━━━━━━━━━━━━━━━━━━━\u001b[0m\u001b[37m\u001b[0m \u001b[1m61s\u001b[0m 12ms/step - accuracy: 0.9979 - loss: 0.0072 - val_accuracy: 0.9986 - val_loss: 0.0048\n",
            "Epoch 50/50\n",
            "\u001b[1m5017/5017\u001b[0m \u001b[32m━━━━━━━━━━━━━━━━━━━━\u001b[0m\u001b[37m\u001b[0m \u001b[1m62s\u001b[0m 12ms/step - accuracy: 0.9977 - loss: 0.0078 - val_accuracy: 0.9989 - val_loss: 0.0039\n",
            "\n",
            "✅ Training complete!\n"
          ]
        }
      ]
    },
    {
      "cell_type": "code",
      "source": [
        "def plot_history(history):\n",
        "    \"\"\"Plots the training and validation accuracy and loss.\"\"\"\n",
        "    acc = history.history['accuracy']\n",
        "    val_acc = history.history['val_accuracy']\n",
        "    loss = history.history['loss']\n",
        "    val_loss = history.history['val_loss']\n",
        "\n",
        "    epochs_range = range(len(acc))\n",
        "\n",
        "    plt.figure(figsize=(14, 5))\n",
        "\n",
        "    plt.subplot(1, 2, 1)\n",
        "    plt.plot(epochs_range, acc, label='Training Accuracy')\n",
        "    plt.plot(epochs_range, val_acc, label='Validation Accuracy')\n",
        "    plt.legend(loc='lower right')\n",
        "    plt.title('Training and Validation Accuracy')\n",
        "    plt.xlabel('Epoch')\n",
        "\n",
        "    plt.subplot(1, 2, 2)\n",
        "    plt.plot(epochs_range, loss, label='Training Loss')\n",
        "    plt.plot(epochs_range, val_loss, label='Validation Loss')\n",
        "    plt.legend(loc='upper right')\n",
        "    plt.title('Training and Validation Loss')\n",
        "    plt.xlabel('Epoch')\n",
        "\n",
        "    plt.show()\n",
        "\n",
        "plot_history(history)"
      ],
      "metadata": {
        "colab": {
          "base_uri": "https://localhost:8080/",
          "height": 487
        },
        "id": "fbr2QZJLqW-q",
        "outputId": "c683c62f-2526-4c7b-b003-ce45ade8a660"
      },
      "execution_count": 7,
      "outputs": [
        {
          "output_type": "display_data",
          "data": {
            "text/plain": [
              "<Figure size 1400x500 with 2 Axes>"
            ],
            "image/png": "[encoded data removed]"
          },
          "metadata": {}
        }
      ]
    },
    {
      "cell_type": "markdown",
      "source": [
        "## Metrics"
      ],
      "metadata": {
        "id": "zMYoF5T4v4m6"
      }
    },
    {
      "cell_type": "code",
      "source": [
        "from sklearn.metrics import classification_report\n",
        "import numpy as np\n",
        "\n",
        "print(\"Generating classification report for the validation set...\")\n",
        "\n",
        "# Get the model's predictions on the validation data\n",
        "# The model outputs probabilities, so we use np.argmax to get the predicted class index\n",
        "y_pred_probs = model.predict(X_val)\n",
        "y_pred = np.argmax(y_pred_probs, axis=1)\n",
        "\n",
        "# Get the true labels\n",
        "y_true = y_val\n",
        "\n",
        "# Get the composer names from the map for a more readable report\n",
        "# Sort by the class index (0, 1, 2, ...) to match the report order\n",
        "target_names = sorted(composer_map, key=composer_map.get)\n",
        "\n",
        "# Generate and print the report\n",
        "print(\"\\n--- Classification Report ---\")\n",
        "print(classification_report(y_true, y_pred, target_names=target_names))"
      ],
      "metadata": {
        "colab": {
          "base_uri": "https://localhost:8080/"
        },
        "id": "yd1RqWU3v4uy",
        "outputId": "827c3a34-2aae-4d91-95da-7f9043ab4e8d"
      },
      "execution_count": 8,
      "outputs": [
        {
          "output_type": "stream",
          "name": "stdout",
          "text": [
            "Generating classification report for the validation set...\n",
            "\u001b[1m5017/5017\u001b[0m \u001b[32m━━━━━━━━━━━━━━━━━━━━\u001b[0m\u001b[37m\u001b[0m \u001b[1m11s\u001b[0m 2ms/step\n",
            "\n",
            "--- Classification Report ---\n",
            "              precision    recall  f1-score   support\n",
            "\n",
            "        bach       1.00      1.00      1.00     35714\n",
            "   beethoven       1.00      1.00      1.00     60499\n",
            "      chopin       1.00      1.00      1.00     37711\n",
            "      mozart       1.00      1.00      1.00     26615\n",
            "\n",
            "    accuracy                           1.00    160539\n",
            "   macro avg       1.00      1.00      1.00    160539\n",
            "weighted avg       1.00      1.00      1.00    160539\n",
            "\n"
          ]
        }
      ]
    }
  ]
}
